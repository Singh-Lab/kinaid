{
 "cells": [
  {
   "cell_type": "code",
   "execution_count": 1,
   "metadata": {
    "vscode": {
     "languageId": "bat"
    }
   },
   "outputs": [
    {
     "name": "stdout",
     "output_type": "stream",
     "text": [
      "LICENSE       \u001b[1m\u001b[36mdata\u001b[m\u001b[m          \u001b[1m\u001b[36morthologs\u001b[m\u001b[m     sandbox.ipynb\n",
      "README.md     \u001b[1m\u001b[36mkinaid\u001b[m\u001b[m        \u001b[1m\u001b[36mproteomes\u001b[m\u001b[m     \u001b[1m\u001b[36mtest\u001b[m\u001b[m\n",
      "mkdir: data: File exists\n"
     ]
    }
   ],
   "source": [
    "#initialize stuff\n",
    "\n",
    "!ls\n",
    "!mkdir data >> /dev/null\n"
   ]
  },
  {
   "cell_type": "markdown",
   "metadata": {},
   "source": [
    "# Test scoring"
   ]
  },
  {
   "cell_type": "code",
   "execution_count": 2,
   "metadata": {},
   "outputs": [],
   "source": [
    "from kinaid.matching import PWM_Matrices,Scoring,PeptideBackground\n",
    "import os\n",
    "import pandas as pd\n",
    "from tqdm.notebook import tqdm_notebook\n",
    "from kinaid.utility import DefaultConfiguration\n",
    "from kinaid.utility import Utility\n",
    "import numpy as np\n",
    "from kinaid.session import Session\n"
   ]
  },
  {
   "cell_type": "code",
   "execution_count": 3,
   "metadata": {},
   "outputs": [
    {
     "name": "stdout",
     "output_type": "stream",
     "text": [
      "Loading ST matrices\n",
      "Loading Y matrices (w/ non-canonical)\n",
      "Creating scoring objects\n",
      "Dual specificity kinases\n",
      "{'Q13873', 'Q16654', 'Q15118'}\n",
      "Ortholog database for mouse already exists\n",
      "Ortholog database for fly already exists\n",
      "Ortholog database for worm already exists\n",
      "Ortholog database for yeast already exists\n",
      "Ortholog database for zebrafish already exists\n",
      "Final ortholog database for mouse already exists\n",
      "Final ortholog database for fly already exists\n",
      "Final ortholog database for worm already exists\n",
      "Final ortholog database for yeast already exists\n",
      "Final ortholog database for zebrafish already exists\n"
     ]
    }
   ],
   "source": [
    "DefaultConfiguration()"
   ]
  },
  {
   "cell_type": "code",
   "execution_count": 4,
   "metadata": {},
   "outputs": [
    {
     "name": "stdout",
     "output_type": "stream",
     "text": [
      "['AAK1', 'ACVR2A', 'ACVR2B', 'AKT1', 'AKT2', 'AKT3', 'ALK2', 'ALK4', 'ALPHAK3', 'AMPKA1', 'AMPKA2', 'ANKRD3', 'ASK1', 'ATM', 'ATR', 'AURA', 'AURB', 'AURC', 'BCKDK', 'BIKE', 'BMPR1A', 'BMPR1B', 'BMPR2', 'BRAF', 'BRSK1', 'BRSK2', 'BUB1', 'CAMK1A', 'CAMK1B', 'CAMK1D', 'CAMK1G', 'CAMK2A', 'CAMK2B', 'CAMK2D', 'CAMK2G', 'CAMK4', 'CAMKK1', 'CAMKK2', 'CAMLCK', 'CDC7', 'CDK1', 'CDK10', 'CDK12', 'CDK13', 'CDK14', 'CDK16', 'CDK17', 'CDK18', 'CDK19', 'CDK2', 'CDK3', 'CDK4', 'CDK5', 'CDK6', 'CDK7', 'CDK8', 'CDK9', 'CDKL1', 'CDKL5', 'CHAK1', 'CHAK2', 'CHK1', 'CHK2', 'CK1A', 'CK1A2', 'CK1D', 'CK1E', 'CK1G1', 'CK1G2', 'CK1G3', 'CK2A1', 'CK2A2', 'CLK1', 'CLK2', 'CLK3', 'CLK4', 'COT', 'CRIK', 'DAPK1', 'DAPK2', 'DAPK3', 'DCAMKL1', 'DCAMKL2', 'DLK', 'DMPK1', 'DNAPK', 'DRAK1', 'DSTYK', 'DYRK1A', 'DYRK1B', 'DYRK2', 'DYRK3', 'DYRK4', 'EEF2K', 'ERK1', 'ERK2', 'ERK5', 'ERK7', 'FAM20C', 'GAK', 'GCK', 'GCN2', 'GRK1', 'GRK2', 'GRK3', 'GRK4', 'GRK5', 'GRK6', 'GRK7', 'GSK3A', 'GSK3B', 'HASPIN', 'HGK', 'HIPK1', 'HIPK2', 'HIPK3', 'HIPK4', 'HPK1', 'HRI', 'HUNK', 'ICK', 'IKKA', 'IKKB', 'IKKE', 'IRAK1', 'IRAK4', 'IRE1', 'IRE2', 'JNK1', 'JNK2', 'JNK3', 'KHS1', 'KHS2', 'KIS', 'LATS1', 'LATS2', 'LKB1', 'LOK', 'LRRK2', 'MAK', 'MAP3K15', 'MAPKAPK2', 'MAPKAPK3', 'MAPKAPK5', 'MARK1', 'MARK2', 'MARK3', 'MARK4', 'MASTL', 'MEK1', 'MEK2', 'MEK5', 'MEKK1', 'MEKK2', 'MEKK3', 'MEKK6', 'MELK', 'MINK', 'MLK1', 'MLK2', 'MLK3', 'MLK4', 'MNK1', 'MNK2', 'MOK', 'MOS', 'MPSK1', 'MRCKA', 'MRCKB', 'MSK1', 'MSK2', 'MST1', 'MST2', 'MST3', 'MST4', 'MTOR', 'MYLK4', 'MYO3A', 'MYO3B', 'NDR1', 'NDR2', 'NEK1', 'NEK11', 'NEK2', 'NEK3', 'NEK4', 'NEK5', 'NEK6', 'NEK7', 'NEK8', 'NEK9', 'NIK', 'NIM1', 'NLK', 'NUAK1', 'NUAK2', 'OSR1', 'P38A', 'P38B', 'P38D', 'P38G', 'P70S6K', 'P70S6KB', 'P90RSK', 'PAK1', 'PAK2', 'PAK3', 'PAK4', 'PAK5', 'PAK6', 'PASK', 'PBK', 'PDHK1', 'PDHK4', 'PDK1', 'PERK', 'PHKG1', 'PHKG2', 'PIM1', 'PIM2', 'PIM3', 'PINK1', 'PKACA', 'PKACB', 'PKACG', 'PKCA', 'PKCB', 'PKCD', 'PKCE', 'PKCG', 'PKCH', 'PKCI', 'PKCT', 'PKCZ', 'PKG1', 'PKG2', 'PKN1', 'PKN2', 'PKN3', 'PKR', 'PLK1', 'PLK2', 'PLK3', 'PLK4', 'PRKD1', 'PRKD2', 'PRKD3', 'PRKX', 'PRP4', 'PRPK', 'QIK', 'QSK', 'RAF1', 'RIPK1', 'RIPK2', 'RIPK3', 'ROCK1', 'ROCK2', 'RSK2', 'RSK3', 'RSK4', 'SBK', 'SGK1', 'SGK3', 'SIK', 'SKMLCK', 'SLK', 'SMG1', 'SMMLCK', 'SNRK', 'SRPK1', 'SRPK2', 'SRPK3', 'SSTK', 'STK33', 'STLK3', 'TAK1', 'TAO1', 'TAO2', 'TAO3', 'TBK1', 'TGFBR1', 'TGFBR2', 'TLK1', 'TLK2', 'TNIK', 'TSSK1', 'TSSK2', 'TTBK1', 'TTBK2', 'TTK', 'ULK1', 'ULK2', 'VRK1', 'VRK2', 'WNK1', 'WNK3', 'WNK4', 'YANK2', 'YANK3', 'YSK1', 'YSK4', 'ZAK']\n",
      "303\n",
      "(-5, 4)\n",
      "['ABL', 'ACK', 'ALK', 'ARG', 'AXL', 'BLK', 'BMPR2', 'BRK', 'BTK', 'CSFR', 'CSK', 'CTK', 'DDR1', 'DDR2', 'EGFR', 'EPHA1', 'EPHA2', 'EPHA3', 'EPHA4', 'EPHA5', 'EPHA6', 'EPHA7', 'EPHA8', 'EPHB1', 'EPHB2', 'EPHB3', 'EPHB4', 'ETK', 'FAK', 'FER', 'FES', 'FGFR1', 'FGFR2', 'FGFR3', 'FGFR4', 'FGR', 'FLT3', 'FRK', 'FYN', 'HCK', 'HER2', 'HER4', 'IGF1R', 'INSR', 'IRR', 'ITK', 'JAK1', 'JAK2', 'JAK3', 'KIT', 'LCK', 'LIMK1', 'LIMK2', 'LTK', 'LYN', 'MER', 'MET', 'MKK4', 'MKK6', 'MKK7', 'MST1R', 'MUSK', 'MYT1', 'NEK10', 'PDGFRA', 'PDGFRB', 'PDHK1', 'PDHK3', 'PDHK4', 'PINK1', 'PYK2', 'RET', 'ROS', 'SRC', 'SRMS', 'SYK', 'TEC', 'TESK1', 'TIE2', 'TNK1', 'TNNI3K', 'TRKA', 'TRKB', 'TRKC', 'TXK', 'TYK2', 'TYRO3', 'VEGFR1', 'VEGFR2', 'VEGFR3', 'WEE1', 'YES', 'ZAP70']\n",
      "93\n",
      "(-5, 5)\n",
      "['ABL', 'ACK', 'ALK', 'ARG', 'AXL', 'BLK', 'BMPR2', 'BRK', 'BTK', 'CSFR', 'CSK', 'CTK', 'DDR1', 'DDR2', 'EGFR', 'EPHA1', 'EPHA2', 'EPHA3', 'EPHA4', 'EPHA5', 'EPHA6', 'EPHA7', 'EPHA8', 'EPHB1', 'EPHB2', 'EPHB3', 'EPHB4', 'ETK', 'FAK', 'FER', 'FES', 'FGFR1', 'FGFR2', 'FGFR3', 'FGFR4', 'FGR', 'FLT3', 'FRK', 'FYN', 'HCK', 'HER2', 'HER4', 'IGF1R', 'INSR', 'IRR', 'ITK', 'JAK1', 'JAK2', 'JAK3', 'KIT', 'LCK', 'LIMK1', 'LIMK2', 'LTK', 'LYN', 'MER', 'MET', 'MKK4', 'MKK6', 'MKK7', 'MST1R', 'MUSK', 'MYT1', 'NEK10', 'PDGFRA', 'PDGFRB', 'PDHK1', 'PDHK3', 'PDHK4', 'PINK1', 'PYK2', 'RET', 'ROS', 'SRC', 'SRMS', 'SYK', 'TEC', 'TESK1', 'TIE2', 'TNK1', 'TNNI3K', 'TRKA', 'TRKB', 'TRKC', 'TXK', 'TYK2', 'TYRO3', 'VEGFR1', 'VEGFR2', 'VEGFR3', 'WEE1', 'YES', 'ZAP70']\n",
      "93\n",
      "(-5, 5)\n",
      "RDGGPYGGLMP\n",
      "RDGGPYGGLMP\n",
      "RDGGPSGGLM\n",
      "__GPTSGG__\n",
      "__GPSYGG___\n",
      "RDGGPYGGLMP\n",
      "RDTGPSGGLM\n",
      "___GPTSGG_\n",
      "__GPSYGG___\n",
      "GPSGGY_____\n",
      "0.06785981986739609\n",
      "-0.35478802144036303\n"
     ]
    }
   ],
   "source": [
    "data_dir = './data'\n",
    "johnson_ST_matrices_file = os.path.join(data_dir,'ST-Kinases.xlsx')\n",
    "johnson_Y_matrices_file = os.path.join(data_dir,'Y-Kinases.xlsx')\n",
    "densitometry_file = os.path.join(data_dir,'ST-Kinases_densitometry.xlsx')\n",
    "\n",
    "\n",
    "ST_matrices = PWM_Matrices(johnson_ST_matrices_file, debug=True)\n",
    "ST_matrices.add_densitometry(densitometry_file)\n",
    "\n",
    "Y_matrices = PWM_Matrices(johnson_Y_matrices_file, debug=True)\n",
    "Y_matrices_ncon = PWM_Matrices(johnson_Y_matrices_file, debug=True)\n",
    "\n",
    "st_scoring = Scoring(ST_matrices)\n",
    "y_scoring = Scoring(Y_matrices)\n",
    "\n",
    "test_seq = 'IRDGGPYGGLMPD'\n",
    "print(y_scoring.clean_sequence(test_seq))\n",
    "\n",
    "test_seq = 'RDGGPYGGLMP'\n",
    "print(y_scoring.clean_sequence(test_seq))\n",
    "\n",
    "test_seq = 'RDGGPSGGLM'\n",
    "print(st_scoring.clean_sequence(test_seq))\n",
    "\n",
    "test_seq = 'GPTSGG'\n",
    "print(st_scoring.clean_sequence(test_seq))\n",
    "\n",
    "test_seq = 'GPSYGG'\n",
    "print(y_scoring.clean_sequence(test_seq))\n",
    "\n",
    "test_seq = 'RDGGPY*GGLMP'\n",
    "print(y_scoring.clean_sequence(test_seq))\n",
    "\n",
    "test_seq = 'RDTGPS*GGLM'\n",
    "print(st_scoring.clean_sequence(test_seq))\n",
    "\n",
    "test_seq = 'GPT*SGG'\n",
    "print(st_scoring.clean_sequence(test_seq))\n",
    "\n",
    "test_seq = 'GPSY*GG'\n",
    "print(y_scoring.clean_sequence(test_seq))\n",
    "\n",
    "test_seq = 'GPSGGY*'\n",
    "print(y_scoring.clean_sequence(test_seq))\n",
    "\n",
    "print(y_scoring.score_peptide('GPSGGY_____', kinase='BLK', mode='as_is', log_score=True))\n",
    "print(st_scoring.score_peptide('RDGGPSGGLM', kinase='ERK2', mode='as_is', log_score=True))"
   ]
  },
  {
   "cell_type": "code",
   "execution_count": 5,
   "metadata": {},
   "outputs": [
    {
     "name": "stdout",
     "output_type": "stream",
     "text": [
      "64.35222311324958\n",
      "58.76965140123035\n"
     ]
    }
   ],
   "source": [
    "ochoa_background_file = os.path.join(data_dir, 'johnson_ochoa_background_wfav.tsv')\n",
    "\n",
    "tyrosine_background_file = os.path.join(data_dir, 'johnson_tyrosine_background_wfav.tsv')\n",
    "\n",
    "ST_Background = PeptideBackground(ochoa_background_file)\n",
    "Y_Background = PeptideBackground(tyrosine_background_file)\n",
    "\n",
    "score1 = y_scoring.score_peptide('GPSGGY_____', kinase='BLK', mode='as_is')\n",
    "score2 = st_scoring.score_peptide('RDGGPSGGLM', kinase='ERK2', mode='as_is')\n",
    "\n",
    "print(ST_Background.get_percentile(score2, kinase='ERK2'))\n",
    "print(Y_Background.get_percentile(score1, kinase='BLK'))"
   ]
  },
  {
   "cell_type": "markdown",
   "metadata": {},
   "source": [
    "# Offline Experiments"
   ]
  },
  {
   "cell_type": "code",
   "execution_count": 6,
   "metadata": {},
   "outputs": [],
   "source": [
    "import os\n",
    "import numpy as np\n",
    "import pandas as pd\n",
    "from kinaid.session import Session\n",
    "from kinaid.matching import MatchWithMapping, Scoring, PeptideBackground, PWM_Matrices\n",
    "from kinaid.utility import Utility\n",
    "from Bio import SeqIO as seqio\n",
    "\n",
    "\n",
    "data_dir = './data'\n",
    "test_dir = './test'\n",
    "proteomes_dir = os.path.join(test_dir, 'proteomes')\n",
    "\n",
    "if not os.path.exists(test_dir):\n",
    "    os.makedirs(test_dir)\n",
    "    \n",
    "johnson_ST_matrices_file = os.path.join(data_dir,'ST-Kinases.xlsx')\n",
    "johnson_Y_matrices_file = os.path.join(data_dir,'Y-Kinases.xlsx')\n",
    "densitometry_file = os.path.join(data_dir,'ST-Kinases_densitometry.xlsx')\n",
    "\n",
    "ST_matrices = PWM_Matrices(johnson_ST_matrices_file)\n",
    "ST_matrices.add_densitometry(densitometry_file)\n",
    "\n",
    "Y_matrices = PWM_Matrices(johnson_Y_matrices_file)\n",
    "\n",
    "st_scoring = Scoring(ST_matrices)\n",
    "y_scoring = Scoring(Y_matrices)\n",
    "\n",
    "ochoa_background_file = os.path.join(data_dir, 'johnson_ochoa_background_wfav.tsv')\n",
    "\n",
    "tyrosine_background_file = os.path.join(data_dir, 'johnson_tyrosine_background_wfav.tsv')\n",
    "\n",
    "ST_Background = PeptideBackground(ochoa_background_file)\n",
    "Y_Background = PeptideBackground(tyrosine_background_file)"
   ]
  },
  {
   "cell_type": "markdown",
   "metadata": {},
   "source": [
    "## Yeast Experiments\n",
    "\n",
    "### Leutert, M., Barente, A.S., Fukuda, N.K. et al. The regulatory landscape of the yeast phosphoproteome. Nat Struct Mol Biol 30, 1761–1773 (2023)."
   ]
  },
  {
   "cell_type": "code",
   "execution_count": 7,
   "metadata": {},
   "outputs": [],
   "source": [
    "\n",
    "def clean_phosphopeptides(phosphorylation_file, fasta_file, output_file) :\n",
    "    exp_df = pd.read_csv(phosphorylation_file)\n",
    "\n",
    "    #read in the fasta file\n",
    "    fasta_dict = seqio.to_dict(seqio.parse(fasta_file, 'fasta'))\n",
    "\n",
    "    exp_df = exp_df[exp_df['p_residue'].isin(['S', 'T', 'Y'])]\n",
    "\n",
    "    systematic_name_to_SGD_dict = {name:record.description.split(', ')[0].split(' ')[2] for name,record in fasta_dict.items()}\n",
    "    #systematic_name_to_SGD_dict = {name:SGD.split(':')[1] for name,SGD in systematic_name_to_SGD_dict.items()}\n",
    "\n",
    "    exp_df['SGDID'] = exp_df['systematic_name'].map(systematic_name_to_SGD_dict)\n",
    "\n",
    "    systematic_name_to_seq_dict = {name:str(record.seq) for name,record in fasta_dict.items()}\n",
    "    exp_df['sequence'] = (exp_df['systematic_name'].map(systematic_name_to_seq_dict))\n",
    "\n",
    "    #remove rows with missing sequences\n",
    "    exp_df = exp_df[~exp_df['sequence'].isna()]\n",
    "\n",
    "    #remove rows with stop codons\n",
    "    exp_df['sequence'] = exp_df['sequence'].str.rstrip('*')\n",
    "\n",
    "    #get sequence lengths\n",
    "    exp_df['seq_len'] = exp_df['sequence'].str.len()\n",
    "\n",
    "    #keep only rows where the sequence length is greater than or equal to the position of the phosphorylation site\n",
    "    exp_df = exp_df[exp_df['seq_len'] >= exp_df['p_position']]\n",
    "\n",
    "    exp_df['sanity_check'] = exp_df.apply(lambda row: row['sequence'][row['p_position']-1] == row['p_residue'], axis=1)\n",
    "\n",
    "    #if p_position is less than 6, add 5 - p_position number of _'s to the beginning of the sequence\n",
    "    exp_df['sequence'] = exp_df.apply(lambda row: '_'*(6 - row['p_position']) + row['sequence'], axis=1)\n",
    "\n",
    "    #if p_position is greater than seq_len - 5, add p_position - (seq_len - 4) number of _'s to the end of the sequence\n",
    "    exp_df['sequence'] = exp_df.apply(lambda row: row['sequence'] + '_'*(row['p_position'] - (row['seq_len'] - 4)), axis=1)\n",
    "\n",
    "    #make window around p_position if p_position is greater than 5 from p_position - 6 to p_position + 4, else from 0 to 10\n",
    "    exp_df['window'] = exp_df.apply(lambda row: row['sequence'][row['p_position']-6:row['p_position']+4] if row['p_position'] > 5 else row['sequence'][0:10], axis=1)\n",
    "\n",
    "    exp_df['adj_p_value'] = exp_df['adj_p_value'].apply(lambda x: -1*np.log10(x))\n",
    "\n",
    "    exp_df_filtered = exp_df[['SGDID', 'p_position', 'window', 'fc_log2', 'adj_p_value']].copy()\n",
    "\n",
    "    exp_df_filtered.rename(columns={'SGDID':'SGD', 'p_position':'site', 'window':'peptide', 'fc_log2':'log2fc', 'adj_p_value':'adjpvalue'}, inplace=True)\n",
    "\n",
    "    exp_df_filtered.to_csv(output_file, index=False)\n"
   ]
  },
  {
   "cell_type": "code",
   "execution_count": 8,
   "metadata": {},
   "outputs": [],
   "source": [
    "published_yeast_file = 'yeast-perturbation.xlsx'\n",
    "published_yeast_path = os.path.join(test_dir, published_yeast_file)\n",
    "\n",
    "\n",
    "import gzip\n",
    "yeast_proteome_path = os.path.join(proteomes_dir, 'yeast_proteome.fasta')\n",
    "\n",
    "if not os.path.exists(proteomes_dir):\n",
    "    os.makedirs(proteomes_dir)\n",
    "    \n",
    "if not os.path.exists(yeast_proteome_path):\n",
    "    print('Downloading yeast proteome')\n",
    "    Utility.download_file('http://sgd-archive.yeastgenome.org/sequence/S288C_reference/orf_protein/orf_trans.fasta.gz', 'temp.gz')\n",
    "    with gzip.open('temp.gz', 'rb') as f_in:\n",
    "        with open(yeast_proteome_path, 'wb') as f_out:\n",
    "            f_out.write(f_in.read())\n",
    "    os.remove('temp.gz')\n",
    "    \n",
    "\n",
    "if not os.path.exists(published_yeast_path):\n",
    "    print('Downloading yeast perturbation data')\n",
    "    Utility.download_file('https://static-content.springer.com/esm/art%3A10.1038%2Fs41594-023-01115-3/MediaObjects/41594_2023_1115_MOESM9_ESM.xlsx',\n",
    "                  published_yeast_path)\n",
    "\n",
    "\n",
    "HOG1_experiment_file = os.path.join(test_dir,'HOG1_exp.csv')\n",
    "SNF1_experiment_file = os.path.join(test_dir,'SNF1_exp.csv')\n",
    "TOR1_experiment_file = os.path.join(test_dir,'TOR1_exp.csv')\n",
    "\n",
    "if not os.path.exists(HOG1_experiment_file) or not os.path.exists(SNF1_experiment_file) or not os.path.exists(TOR1_experiment_file):\n",
    "    df = pd.read_excel(published_yeast_path, sheet_name='p_site_diff_reg')\n",
    "\n",
    "\n",
    "if not os.path.exists(HOG1_experiment_file):\n",
    "    HOG1_phosphopeptides_file = 'yeast_HOG1_KC_phosphopeptides.csv'\n",
    "    HOG1_path = os.path.join(test_dir, HOG1_phosphopeptides_file)\n",
    "    df[df['treatment_id'] == 'KC'].to_csv(HOG1_path, index=False)\n",
    "    clean_phosphopeptides(HOG1_path, yeast_proteome_path, HOG1_experiment_file)\n",
    "\n",
    "if not os.path.exists(SNF1_experiment_file):\n",
    "    SNF1_phosphopeptides_file = 'yeast_SNF1_GL_phosphopeptides.csv'\n",
    "    SNF1_path = os.path.join(test_dir, SNF1_phosphopeptides_file)\n",
    "    df[df['treatment_id'] == 'GL'].to_csv(SNF1_path, index=False)\n",
    "    clean_phosphopeptides(SNF1_path, yeast_proteome_path, SNF1_experiment_file)\n",
    "\n",
    "if not os.path.exists(TOR1_experiment_file):\n",
    "    TOR1_phosphopeptides_file = 'yeast_TOR1_CS18_phosphopeptides.csv'\n",
    "    TOR1_path = os.path.join(test_dir, TOR1_phosphopeptides_file)\n",
    "    df[df['treatment_id'] == 'CS18'].to_csv(TOR1_path, index=False)\n",
    "    clean_phosphopeptides(TOR1_path, yeast_proteome_path, TOR1_experiment_file)\n",
    "\n",
    "\n",
    "\n",
    "\n"
   ]
  },
  {
   "cell_type": "code",
   "execution_count": 9,
   "metadata": {},
   "outputs": [
    {
     "name": "stdout",
     "output_type": "stream",
     "text": [
      "dict_values(['MYT1', 'PDHK4'])\n",
      "['ABL', 'ACK', 'ALK', 'ARG', 'AXL', 'BLK', 'BMPR2', 'BRK', 'BTK', 'CSFR', 'CSK', 'CTK', 'DDR1', 'DDR2', 'EGFR', 'EPHA1', 'EPHA2', 'EPHA3', 'EPHA4', 'EPHA5', 'EPHA6', 'EPHA7', 'EPHA8', 'EPHB1', 'EPHB2', 'EPHB3', 'EPHB4', 'ETK', 'FAK', 'FER', 'FES', 'FGFR1', 'FGFR2', 'FGFR3', 'FGFR4', 'FGR', 'FLT3', 'FRK', 'FYN', 'HCK', 'HER2', 'HER4', 'IGF1R', 'INSR', 'IRR', 'ITK', 'JAK1', 'JAK2', 'JAK3', 'KIT', 'LCK', 'LIMK1', 'LIMK2', 'LTK', 'LYN', 'MER', 'MET', 'MKK4', 'MKK6', 'MKK7', 'MST1R', 'MUSK', 'MYT1', 'NEK10', 'PDGFRA', 'PDGFRB', 'PDHK1', 'PDHK3', 'PDHK4', 'PINK1', 'PYK2', 'RET', 'ROS', 'SRC', 'SRMS', 'SYK', 'TEC', 'TESK1', 'TIE2', 'TNK1', 'TNNI3K', 'TRKA', 'TRKB', 'TRKC', 'TXK', 'TYK2', 'TYRO3', 'VEGFR1', 'VEGFR2', 'VEGFR3', 'WEE1', 'YES', 'ZAP70']\n"
     ]
    }
   ],
   "source": [
    "\n",
    "\n",
    "column_names_dict={'id':'SGD', 'site':'site', 'peptide':'peptide', 'log2fc':'log2fc', 'dependent':'adjpvalue'}\n",
    "\n",
    "yeast_orthologs_file = os.path.join('orthologs', 'yeast_orthologs_final.tsv')\n",
    "\n",
    "yeast_orthologs_df = pd.read_csv(yeast_orthologs_file, sep='\\t')\n",
    "yeast_orthologs_df = yeast_orthologs_df[yeast_orthologs_df['gene_id_type'] == 'SGD']\n",
    "\n",
    "yeast_orthologs_st_df = yeast_orthologs_df[yeast_orthologs_df['kinase_type'] == 'ST']\n",
    "yeast_mapping_st_dict = dict(zip(yeast_orthologs_st_df['symbol'], yeast_orthologs_st_df['kinase_name']))\n",
    "\n",
    "yeast_orthologs_y_df = yeast_orthologs_df[yeast_orthologs_df['kinase_type'] == 'Y']\n",
    "yeast_mapping_y_dict = dict(zip(yeast_orthologs_y_df['symbol'], yeast_orthologs_y_df['kinase_name']))\n",
    "\n",
    "print(yeast_mapping_y_dict.values())\n",
    "print(y_scoring._kinase_names)\n",
    "\n",
    "\n",
    "ST_matching = MatchWithMapping(st_scoring, ST_Background, yeast_mapping_st_dict)\n",
    "Y_matching = MatchWithMapping(y_scoring, Y_Background, yeast_mapping_y_dict)\n"
   ]
  },
  {
   "cell_type": "code",
   "execution_count": 10,
   "metadata": {},
   "outputs": [
    {
     "name": "stdout",
     "output_type": "stream",
     "text": [
      "selected kinases: {'HAL5+KKQ8+PTK1+SKS1+VHS1', 'CDC28', 'HRR25', 'IPL1', 'MEK1', 'BUB1', 'STE11', 'TPK2', 'RIM15', 'CDC5', 'IRE1', 'TEL1', 'ENV7', 'CHK1', 'SGV1', 'CBK1', 'ALK2', 'PKC1', 'TDA1', 'STE20', 'DUN1+RAD53', 'SKY1', 'IME2', 'CTK1', 'HSL1', 'MKK1', 'KIN2', 'CMK1', 'SLT2', 'PRR1+PTK2', 'GCN2', 'YCK1', 'PKP1', 'HOG1', 'SCH9', 'CDC7', 'TOS3', 'PBS2', 'KIN3', 'MPS1', 'SSN3', 'PSK1+PSK2', 'KIN28', 'CKA2', 'KCC4', 'TOR2', 'CMK2', 'PHO85', 'STE7', 'NPR1+PRR2', 'SPS1', 'PKH1', 'KNS1', 'TPK2+TPK3', 'SNF1', 'CLA4', 'IKS1', 'SKS1+VHS1', 'MEC1', 'RIM11', 'KIC1', 'YPK3', 'PKP2', 'NNK1', 'YAK1', 'YPL150W', 'ARK1+PRK1', 'CKA1', 'FUS3+KSS1', 'SWE1', 'BUD32'}\n",
      "154\n",
      "Number of ST kinases tested : 70\n",
      "Number of Y kinases tested : 2\n",
      "Elapsed time for percentiles and matches: 4.17 seconds\n"
     ]
    }
   ],
   "source": [
    "HOG1_df = pd.read_csv(HOG1_experiment_file)\n",
    "\n",
    "session = Session(0,'yeast', HOG1_df, column_names_dict, ST_matching, Y_matching, debug=True)"
   ]
  },
  {
   "cell_type": "code",
   "execution_count": 11,
   "metadata": {},
   "outputs": [],
   "source": [
    "kinase_matches_df = session.get_kinase_matches_df()"
   ]
  },
  {
   "cell_type": "code",
   "execution_count": 12,
   "metadata": {},
   "outputs": [],
   "source": [
    "kinase_matches_df.to_csv(os.path.join(test_dir, 'HOG1_kinase_matches.tsv'), index=False, sep='\\t')"
   ]
  },
  {
   "cell_type": "code",
   "execution_count": 13,
   "metadata": {},
   "outputs": [],
   "source": [
    "percentiles_st_df = session.get_percentiles_df('ST')\n",
    "percentiles_y_df = session.get_percentiles_df('Y')\n",
    "\n",
    "percentiles_st_df.to_csv(os.path.join(test_dir, 'HOG1_percentiles_ST.tsv'), index=False, sep='\\t')\n",
    "percentiles_y_df.to_csv(os.path.join(test_dir, 'HOG1_percentiles_Y.tsv'), index=False, sep='\\t')"
   ]
  },
  {
   "cell_type": "code",
   "execution_count": 16,
   "metadata": {},
   "outputs": [
    {
     "name": "stdout",
     "output_type": "stream",
     "text": [
      "  kinase_type     kinase  count\n",
      "0          ST  ARK1+PRK1    404\n",
      "1          ST       SCH9    622\n",
      "2          ST       SNF1    752\n",
      "3          ST       TEL1    592\n",
      "4          ST       MEC1    463\n"
     ]
    }
   ],
   "source": [
    "barplot = session.get_barplot_fig()\n",
    "\n",
    "#update the height to be 20 pixels times the number of kinases\n",
    "barplot = barplot.update_layout(height=20*len(session._selected_kinases))"
   ]
  },
  {
   "cell_type": "code",
   "execution_count": 17,
   "metadata": {},
   "outputs": [
    {
     "data": {
      "application/vnd.plotly.v1+json": {
       "config": {
        "plotlyServerURL": "https://plot.ly"
       },
       "data": [
        {
         "alignmentgroup": "True",
         "hovertemplate": "kinase_type=Y<br>count=%{x}<br>kinase=%{y}<extra></extra>",
         "legendgroup": "Y",
         "marker": {
          "color": "lightcoral",
          "pattern": {
           "shape": ""
          }
         },
         "name": "Y",
         "offsetgroup": "Y",
         "orientation": "h",
         "showlegend": true,
         "textposition": "auto",
         "type": "bar",
         "x": [
          23,
          11
         ],
         "xaxis": "x",
         "y": [
          "PKP2(Y)",
          "SWE1"
         ],
         "yaxis": "y"
        },
        {
         "alignmentgroup": "True",
         "hovertemplate": "kinase_type=ST<br>count=%{x}<br>kinase=%{y}<extra></extra>",
         "legendgroup": "ST",
         "marker": {
          "color": "lightblue",
          "pattern": {
           "shape": ""
          }
         },
         "name": "ST",
         "offsetgroup": "ST",
         "orientation": "h",
         "showlegend": true,
         "textposition": "auto",
         "type": "bar",
         "x": [
          768,
          753,
          752,
          734,
          724,
          724,
          723,
          722,
          692,
          678,
          669,
          664,
          655,
          641,
          640,
          622,
          621,
          614,
          603,
          600,
          597,
          595,
          592,
          582,
          574,
          571,
          562,
          559,
          553,
          551,
          550,
          550,
          545,
          544,
          538,
          535,
          524,
          523,
          514,
          508,
          505,
          501,
          499,
          482,
          473,
          469,
          469,
          463,
          453,
          450,
          447,
          443,
          424,
          421,
          418,
          414,
          407,
          404,
          380,
          380,
          356,
          354,
          351,
          348,
          344,
          344,
          322,
          311,
          305,
          298
         ],
         "xaxis": "x",
         "y": [
          "KCC4",
          "CMK2",
          "SNF1",
          "CMK1",
          "CHK1",
          "SKS1+VHS1",
          "DUN1+RAD53",
          "HSL1",
          "KIN2",
          "CKA1",
          "HAL5+KKQ8+PTK1+SKS1+VHS1",
          "CKA2",
          "NPR1+PRR2",
          "PRR1+PTK2",
          "YPK3",
          "SCH9",
          "TPK2+TPK3",
          "CLA4",
          "PKP1",
          "CDC5",
          "YPL150W",
          "TPK2",
          "TEL1",
          "RIM15",
          "STE20",
          "MEK1",
          "PKC1",
          "CBK1",
          "PSK1+PSK2",
          "IRE1",
          "TDA1",
          "NNK1",
          "PBS2",
          "PKH1",
          "YCK1",
          "CDC7",
          "MPS1",
          "IKS1",
          "SKY1",
          "MKK1",
          "FUS3+KSS1",
          "CDC28",
          "IPL1",
          "KIC1",
          "STE11",
          "GCN2",
          "SPS1",
          "MEC1",
          "BUB1",
          "PKP2(ST)",
          "TOS3",
          "KIN3",
          "SLT2",
          "PHO85",
          "ALK2",
          "HRR25",
          "STE7",
          "ARK1+PRK1",
          "SGV1",
          "TOR2",
          "KNS1",
          "YAK1",
          "SSN3",
          "KIN28",
          "CTK1",
          "BUD32",
          "IME2",
          "HOG1",
          "RIM11",
          "ENV7"
         ],
         "yaxis": "y"
        }
       ],
       "layout": {
        "barmode": "group",
        "height": 710,
        "legend": {
         "title": {
          "text": "kinase_type"
         },
         "tracegroupgap": 0
        },
        "margin": {
         "t": 60
        },
        "showlegend": true,
        "template": {
         "data": {
          "bar": [
           {
            "error_x": {
             "color": "#2a3f5f"
            },
            "error_y": {
             "color": "#2a3f5f"
            },
            "marker": {
             "line": {
              "color": "#E5ECF6",
              "width": 0.5
             },
             "pattern": {
              "fillmode": "overlay",
              "size": 10,
              "solidity": 0.2
             }
            },
            "type": "bar"
           }
          ],
          "barpolar": [
           {
            "marker": {
             "line": {
              "color": "#E5ECF6",
              "width": 0.5
             },
             "pattern": {
              "fillmode": "overlay",
              "size": 10,
              "solidity": 0.2
             }
            },
            "type": "barpolar"
           }
          ],
          "carpet": [
           {
            "aaxis": {
             "endlinecolor": "#2a3f5f",
             "gridcolor": "white",
             "linecolor": "white",
             "minorgridcolor": "white",
             "startlinecolor": "#2a3f5f"
            },
            "baxis": {
             "endlinecolor": "#2a3f5f",
             "gridcolor": "white",
             "linecolor": "white",
             "minorgridcolor": "white",
             "startlinecolor": "#2a3f5f"
            },
            "type": "carpet"
           }
          ],
          "choropleth": [
           {
            "colorbar": {
             "outlinewidth": 0,
             "ticks": ""
            },
            "type": "choropleth"
           }
          ],
          "contour": [
           {
            "colorbar": {
             "outlinewidth": 0,
             "ticks": ""
            },
            "colorscale": [
             [
              0,
              "#0d0887"
             ],
             [
              0.1111111111111111,
              "#46039f"
             ],
             [
              0.2222222222222222,
              "#7201a8"
             ],
             [
              0.3333333333333333,
              "#9c179e"
             ],
             [
              0.4444444444444444,
              "#bd3786"
             ],
             [
              0.5555555555555556,
              "#d8576b"
             ],
             [
              0.6666666666666666,
              "#ed7953"
             ],
             [
              0.7777777777777778,
              "#fb9f3a"
             ],
             [
              0.8888888888888888,
              "#fdca26"
             ],
             [
              1,
              "#f0f921"
             ]
            ],
            "type": "contour"
           }
          ],
          "contourcarpet": [
           {
            "colorbar": {
             "outlinewidth": 0,
             "ticks": ""
            },
            "type": "contourcarpet"
           }
          ],
          "heatmap": [
           {
            "colorbar": {
             "outlinewidth": 0,
             "ticks": ""
            },
            "colorscale": [
             [
              0,
              "#0d0887"
             ],
             [
              0.1111111111111111,
              "#46039f"
             ],
             [
              0.2222222222222222,
              "#7201a8"
             ],
             [
              0.3333333333333333,
              "#9c179e"
             ],
             [
              0.4444444444444444,
              "#bd3786"
             ],
             [
              0.5555555555555556,
              "#d8576b"
             ],
             [
              0.6666666666666666,
              "#ed7953"
             ],
             [
              0.7777777777777778,
              "#fb9f3a"
             ],
             [
              0.8888888888888888,
              "#fdca26"
             ],
             [
              1,
              "#f0f921"
             ]
            ],
            "type": "heatmap"
           }
          ],
          "heatmapgl": [
           {
            "colorbar": {
             "outlinewidth": 0,
             "ticks": ""
            },
            "colorscale": [
             [
              0,
              "#0d0887"
             ],
             [
              0.1111111111111111,
              "#46039f"
             ],
             [
              0.2222222222222222,
              "#7201a8"
             ],
             [
              0.3333333333333333,
              "#9c179e"
             ],
             [
              0.4444444444444444,
              "#bd3786"
             ],
             [
              0.5555555555555556,
              "#d8576b"
             ],
             [
              0.6666666666666666,
              "#ed7953"
             ],
             [
              0.7777777777777778,
              "#fb9f3a"
             ],
             [
              0.8888888888888888,
              "#fdca26"
             ],
             [
              1,
              "#f0f921"
             ]
            ],
            "type": "heatmapgl"
           }
          ],
          "histogram": [
           {
            "marker": {
             "pattern": {
              "fillmode": "overlay",
              "size": 10,
              "solidity": 0.2
             }
            },
            "type": "histogram"
           }
          ],
          "histogram2d": [
           {
            "colorbar": {
             "outlinewidth": 0,
             "ticks": ""
            },
            "colorscale": [
             [
              0,
              "#0d0887"
             ],
             [
              0.1111111111111111,
              "#46039f"
             ],
             [
              0.2222222222222222,
              "#7201a8"
             ],
             [
              0.3333333333333333,
              "#9c179e"
             ],
             [
              0.4444444444444444,
              "#bd3786"
             ],
             [
              0.5555555555555556,
              "#d8576b"
             ],
             [
              0.6666666666666666,
              "#ed7953"
             ],
             [
              0.7777777777777778,
              "#fb9f3a"
             ],
             [
              0.8888888888888888,
              "#fdca26"
             ],
             [
              1,
              "#f0f921"
             ]
            ],
            "type": "histogram2d"
           }
          ],
          "histogram2dcontour": [
           {
            "colorbar": {
             "outlinewidth": 0,
             "ticks": ""
            },
            "colorscale": [
             [
              0,
              "#0d0887"
             ],
             [
              0.1111111111111111,
              "#46039f"
             ],
             [
              0.2222222222222222,
              "#7201a8"
             ],
             [
              0.3333333333333333,
              "#9c179e"
             ],
             [
              0.4444444444444444,
              "#bd3786"
             ],
             [
              0.5555555555555556,
              "#d8576b"
             ],
             [
              0.6666666666666666,
              "#ed7953"
             ],
             [
              0.7777777777777778,
              "#fb9f3a"
             ],
             [
              0.8888888888888888,
              "#fdca26"
             ],
             [
              1,
              "#f0f921"
             ]
            ],
            "type": "histogram2dcontour"
           }
          ],
          "mesh3d": [
           {
            "colorbar": {
             "outlinewidth": 0,
             "ticks": ""
            },
            "type": "mesh3d"
           }
          ],
          "parcoords": [
           {
            "line": {
             "colorbar": {
              "outlinewidth": 0,
              "ticks": ""
             }
            },
            "type": "parcoords"
           }
          ],
          "pie": [
           {
            "automargin": true,
            "type": "pie"
           }
          ],
          "scatter": [
           {
            "fillpattern": {
             "fillmode": "overlay",
             "size": 10,
             "solidity": 0.2
            },
            "type": "scatter"
           }
          ],
          "scatter3d": [
           {
            "line": {
             "colorbar": {
              "outlinewidth": 0,
              "ticks": ""
             }
            },
            "marker": {
             "colorbar": {
              "outlinewidth": 0,
              "ticks": ""
             }
            },
            "type": "scatter3d"
           }
          ],
          "scattercarpet": [
           {
            "marker": {
             "colorbar": {
              "outlinewidth": 0,
              "ticks": ""
             }
            },
            "type": "scattercarpet"
           }
          ],
          "scattergeo": [
           {
            "marker": {
             "colorbar": {
              "outlinewidth": 0,
              "ticks": ""
             }
            },
            "type": "scattergeo"
           }
          ],
          "scattergl": [
           {
            "marker": {
             "colorbar": {
              "outlinewidth": 0,
              "ticks": ""
             }
            },
            "type": "scattergl"
           }
          ],
          "scattermapbox": [
           {
            "marker": {
             "colorbar": {
              "outlinewidth": 0,
              "ticks": ""
             }
            },
            "type": "scattermapbox"
           }
          ],
          "scatterpolar": [
           {
            "marker": {
             "colorbar": {
              "outlinewidth": 0,
              "ticks": ""
             }
            },
            "type": "scatterpolar"
           }
          ],
          "scatterpolargl": [
           {
            "marker": {
             "colorbar": {
              "outlinewidth": 0,
              "ticks": ""
             }
            },
            "type": "scatterpolargl"
           }
          ],
          "scatterternary": [
           {
            "marker": {
             "colorbar": {
              "outlinewidth": 0,
              "ticks": ""
             }
            },
            "type": "scatterternary"
           }
          ],
          "surface": [
           {
            "colorbar": {
             "outlinewidth": 0,
             "ticks": ""
            },
            "colorscale": [
             [
              0,
              "#0d0887"
             ],
             [
              0.1111111111111111,
              "#46039f"
             ],
             [
              0.2222222222222222,
              "#7201a8"
             ],
             [
              0.3333333333333333,
              "#9c179e"
             ],
             [
              0.4444444444444444,
              "#bd3786"
             ],
             [
              0.5555555555555556,
              "#d8576b"
             ],
             [
              0.6666666666666666,
              "#ed7953"
             ],
             [
              0.7777777777777778,
              "#fb9f3a"
             ],
             [
              0.8888888888888888,
              "#fdca26"
             ],
             [
              1,
              "#f0f921"
             ]
            ],
            "type": "surface"
           }
          ],
          "table": [
           {
            "cells": {
             "fill": {
              "color": "#EBF0F8"
             },
             "line": {
              "color": "white"
             }
            },
            "header": {
             "fill": {
              "color": "#C8D4E3"
             },
             "line": {
              "color": "white"
             }
            },
            "type": "table"
           }
          ]
         },
         "layout": {
          "annotationdefaults": {
           "arrowcolor": "#2a3f5f",
           "arrowhead": 0,
           "arrowwidth": 1
          },
          "autotypenumbers": "strict",
          "coloraxis": {
           "colorbar": {
            "outlinewidth": 0,
            "ticks": ""
           }
          },
          "colorscale": {
           "diverging": [
            [
             0,
             "#8e0152"
            ],
            [
             0.1,
             "#c51b7d"
            ],
            [
             0.2,
             "#de77ae"
            ],
            [
             0.3,
             "#f1b6da"
            ],
            [
             0.4,
             "#fde0ef"
            ],
            [
             0.5,
             "#f7f7f7"
            ],
            [
             0.6,
             "#e6f5d0"
            ],
            [
             0.7,
             "#b8e186"
            ],
            [
             0.8,
             "#7fbc41"
            ],
            [
             0.9,
             "#4d9221"
            ],
            [
             1,
             "#276419"
            ]
           ],
           "sequential": [
            [
             0,
             "#0d0887"
            ],
            [
             0.1111111111111111,
             "#46039f"
            ],
            [
             0.2222222222222222,
             "#7201a8"
            ],
            [
             0.3333333333333333,
             "#9c179e"
            ],
            [
             0.4444444444444444,
             "#bd3786"
            ],
            [
             0.5555555555555556,
             "#d8576b"
            ],
            [
             0.6666666666666666,
             "#ed7953"
            ],
            [
             0.7777777777777778,
             "#fb9f3a"
            ],
            [
             0.8888888888888888,
             "#fdca26"
            ],
            [
             1,
             "#f0f921"
            ]
           ],
           "sequentialminus": [
            [
             0,
             "#0d0887"
            ],
            [
             0.1111111111111111,
             "#46039f"
            ],
            [
             0.2222222222222222,
             "#7201a8"
            ],
            [
             0.3333333333333333,
             "#9c179e"
            ],
            [
             0.4444444444444444,
             "#bd3786"
            ],
            [
             0.5555555555555556,
             "#d8576b"
            ],
            [
             0.6666666666666666,
             "#ed7953"
            ],
            [
             0.7777777777777778,
             "#fb9f3a"
            ],
            [
             0.8888888888888888,
             "#fdca26"
            ],
            [
             1,
             "#f0f921"
            ]
           ]
          },
          "colorway": [
           "#636efa",
           "#EF553B",
           "#00cc96",
           "#ab63fa",
           "#FFA15A",
           "#19d3f3",
           "#FF6692",
           "#B6E880",
           "#FF97FF",
           "#FECB52"
          ],
          "font": {
           "color": "#2a3f5f"
          },
          "geo": {
           "bgcolor": "white",
           "lakecolor": "white",
           "landcolor": "#E5ECF6",
           "showlakes": true,
           "showland": true,
           "subunitcolor": "white"
          },
          "hoverlabel": {
           "align": "left"
          },
          "hovermode": "closest",
          "mapbox": {
           "style": "light"
          },
          "paper_bgcolor": "white",
          "plot_bgcolor": "#E5ECF6",
          "polar": {
           "angularaxis": {
            "gridcolor": "white",
            "linecolor": "white",
            "ticks": ""
           },
           "bgcolor": "#E5ECF6",
           "radialaxis": {
            "gridcolor": "white",
            "linecolor": "white",
            "ticks": ""
           }
          },
          "scene": {
           "xaxis": {
            "backgroundcolor": "#E5ECF6",
            "gridcolor": "white",
            "gridwidth": 2,
            "linecolor": "white",
            "showbackground": true,
            "ticks": "",
            "zerolinecolor": "white"
           },
           "yaxis": {
            "backgroundcolor": "#E5ECF6",
            "gridcolor": "white",
            "gridwidth": 2,
            "linecolor": "white",
            "showbackground": true,
            "ticks": "",
            "zerolinecolor": "white"
           },
           "zaxis": {
            "backgroundcolor": "#E5ECF6",
            "gridcolor": "white",
            "gridwidth": 2,
            "linecolor": "white",
            "showbackground": true,
            "ticks": "",
            "zerolinecolor": "white"
           }
          },
          "shapedefaults": {
           "line": {
            "color": "#2a3f5f"
           }
          },
          "ternary": {
           "aaxis": {
            "gridcolor": "white",
            "linecolor": "white",
            "ticks": ""
           },
           "baxis": {
            "gridcolor": "white",
            "linecolor": "white",
            "ticks": ""
           },
           "bgcolor": "#E5ECF6",
           "caxis": {
            "gridcolor": "white",
            "linecolor": "white",
            "ticks": ""
           }
          },
          "title": {
           "x": 0.05
          },
          "xaxis": {
           "automargin": true,
           "gridcolor": "white",
           "linecolor": "white",
           "ticks": "",
           "title": {
            "standoff": 15
           },
           "zerolinecolor": "white",
           "zerolinewidth": 2
          },
          "yaxis": {
           "automargin": true,
           "gridcolor": "white",
           "linecolor": "white",
           "ticks": "",
           "title": {
            "standoff": 15
           },
           "zerolinecolor": "white",
           "zerolinewidth": 2
          }
         }
        },
        "xaxis": {
         "anchor": "y",
         "domain": [
          0,
          1
         ],
         "tickangle": -45,
         "title": {
          "text": "# peptides"
         }
        },
        "yaxis": {
         "anchor": "x",
         "domain": [
          0,
          1
         ],
         "showgrid": true,
         "title": {
          "text": "kinase"
         }
        }
       }
      }
     },
     "metadata": {},
     "output_type": "display_data"
    }
   ],
   "source": [
    "display(barplot)"
   ]
  },
  {
   "cell_type": "code",
   "execution_count": null,
   "metadata": {},
   "outputs": [],
   "source": []
  }
 ],
 "metadata": {
  "kernelspec": {
   "display_name": "Python 3",
   "language": "python",
   "name": "python3"
  },
  "language_info": {
   "codemirror_mode": {
    "name": "ipython",
    "version": 3
   },
   "file_extension": ".py",
   "mimetype": "text/x-python",
   "name": "python",
   "nbconvert_exporter": "python",
   "pygments_lexer": "ipython3",
   "version": "3.10.7"
  }
 },
 "nbformat": 4,
 "nbformat_minor": 2
}
