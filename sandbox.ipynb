{
 "cells": [
  {
   "cell_type": "code",
   "execution_count": 1,
   "metadata": {
    "vscode": {
     "languageId": "bat"
    }
   },
   "outputs": [
    {
     "name": "stdout",
     "output_type": "stream",
     "text": [
      "LICENSE                        ortholog_specificity.ipynb\n",
      "Leutert_KC_example.csv         ortholog_specificity.ipynb_old\n",
      "README.md                      ortholog_specificity.py\n",
      "\u001b[1m\u001b[36massets\u001b[m\u001b[m                         ortholog_specificity_old.ipynb\n",
      "\u001b[1m\u001b[36mbuild\u001b[m\u001b[m                          \u001b[1m\u001b[36morthologs\u001b[m\u001b[m\n",
      "dashboard.py                   \u001b[1m\u001b[36morthologs_bak\u001b[m\u001b[m\n",
      "\u001b[1m\u001b[36mdata\u001b[m\u001b[m                           \u001b[1m\u001b[36mpapers\u001b[m\u001b[m\n",
      "\u001b[1m\u001b[36mdist\u001b[m\u001b[m                           \u001b[1m\u001b[36mproteomes_bak\u001b[m\u001b[m\n",
      "elink.dtd                      pyproject.toml\n",
      "\u001b[1m\u001b[36mextra_orthologs\u001b[m\u001b[m                sandbox.ipynb\n",
      "\u001b[1m\u001b[36mfigures\u001b[m\u001b[m                        \u001b[1m\u001b[36mspecificity\u001b[m\u001b[m\n",
      "\u001b[1m\u001b[36mkinaid\u001b[m\u001b[m                         \u001b[1m\u001b[36mspecificity_bak\u001b[m\u001b[m\n",
      "\u001b[1m\u001b[36mkinaid.egg-info\u001b[m\u001b[m                \u001b[1m\u001b[36mtest\u001b[m\u001b[m\n",
      "offline_tests.ipynb            yeast_test.ipynb\n",
      "mkdir: data: File exists\n"
     ]
    }
   ],
   "source": [
    "#initialize stuff\n",
    "\n",
    "!ls\n",
    "!mkdir data >> /dev/null\n"
   ]
  },
  {
   "cell_type": "markdown",
   "metadata": {},
   "source": [
    "# Test scoring"
   ]
  },
  {
   "cell_type": "code",
   "execution_count": 2,
   "metadata": {},
   "outputs": [],
   "source": [
    "from kinaid.matching import PWM_Matrices,Scoring,PeptideBackground\n",
    "import os\n",
    "import pandas as pd\n",
    "from tqdm.notebook import tqdm_notebook\n",
    "from kinaid.utility import Utility\n",
    "import numpy as np\n",
    "from kinaid.session import Session\n",
    "import sys\n",
    "from kinaid.ortholog import OrthologManager\n",
    "from dash import Dash, html\n",
    "import dash_cytoscape as cyto\n",
    "\n"
   ]
  },
  {
   "cell_type": "code",
   "execution_count": null,
   "metadata": {},
   "outputs": [],
   "source": [
    "Utility.DefaultConfiguration()\n"
   ]
  },
  {
   "cell_type": "code",
   "execution_count": 3,
   "metadata": {},
   "outputs": [
    {
     "name": "stdout",
     "output_type": "stream",
     "text": [
      "['AAK1', 'ACVR2A', 'ACVR2B', 'AKT1', 'AKT2', 'AKT3', 'ALK2', 'ALK4', 'ALPHAK3', 'AMPKA1', 'AMPKA2', 'ANKRD3', 'ASK1', 'ATM', 'ATR', 'AURA', 'AURB', 'AURC', 'BCKDK', 'BIKE', 'BMPR1A', 'BMPR1B', 'BMPR2', 'BRAF', 'BRSK1', 'BRSK2', 'BUB1', 'CAMK1A', 'CAMK1B', 'CAMK1D', 'CAMK1G', 'CAMK2A', 'CAMK2B', 'CAMK2D', 'CAMK2G', 'CAMK4', 'CAMKK1', 'CAMKK2', 'CAMLCK', 'CDC7', 'CDK1', 'CDK10', 'CDK12', 'CDK13', 'CDK14', 'CDK16', 'CDK17', 'CDK18', 'CDK19', 'CDK2', 'CDK3', 'CDK4', 'CDK5', 'CDK6', 'CDK7', 'CDK8', 'CDK9', 'CDKL1', 'CDKL5', 'CHAK1', 'CHAK2', 'CHK1', 'CHK2', 'CK1A', 'CK1A2', 'CK1D', 'CK1E', 'CK1G1', 'CK1G2', 'CK1G3', 'CK2A1', 'CK2A2', 'CLK1', 'CLK2', 'CLK3', 'CLK4', 'COT', 'CRIK', 'DAPK1', 'DAPK2', 'DAPK3', 'DCAMKL1', 'DCAMKL2', 'DLK', 'DMPK1', 'DNAPK', 'DRAK1', 'DSTYK', 'DYRK1A', 'DYRK1B', 'DYRK2', 'DYRK3', 'DYRK4', 'EEF2K', 'ERK1', 'ERK2', 'ERK5', 'ERK7', 'FAM20C', 'GAK', 'GCK', 'GCN2', 'GRK1', 'GRK2', 'GRK3', 'GRK4', 'GRK5', 'GRK6', 'GRK7', 'GSK3A', 'GSK3B', 'HASPIN', 'HGK', 'HIPK1', 'HIPK2', 'HIPK3', 'HIPK4', 'HPK1', 'HRI', 'HUNK', 'ICK', 'IKKA', 'IKKB', 'IKKE', 'IRAK1', 'IRAK4', 'IRE1', 'IRE2', 'JNK1', 'JNK2', 'JNK3', 'KHS1', 'KHS2', 'KIS', 'LATS1', 'LATS2', 'LKB1', 'LOK', 'LRRK2', 'MAK', 'MAP3K15', 'MAPKAPK2', 'MAPKAPK3', 'MAPKAPK5', 'MARK1', 'MARK2', 'MARK3', 'MARK4', 'MASTL', 'MEK1', 'MEK2', 'MEK5', 'MEKK1', 'MEKK2', 'MEKK3', 'MEKK6', 'MELK', 'MINK', 'MLK1', 'MLK2', 'MLK3', 'MLK4', 'MNK1', 'MNK2', 'MOK', 'MOS', 'MPSK1', 'MRCKA', 'MRCKB', 'MSK1', 'MSK2', 'MST1', 'MST2', 'MST3', 'MST4', 'MTOR', 'MYLK4', 'MYO3A', 'MYO3B', 'NDR1', 'NDR2', 'NEK1', 'NEK11', 'NEK2', 'NEK3', 'NEK4', 'NEK5', 'NEK6', 'NEK7', 'NEK8', 'NEK9', 'NIK', 'NIM1', 'NLK', 'NUAK1', 'NUAK2', 'OSR1', 'P38A', 'P38B', 'P38D', 'P38G', 'P70S6K', 'P70S6KB', 'P90RSK', 'PAK1', 'PAK2', 'PAK3', 'PAK4', 'PAK5', 'PAK6', 'PASK', 'PBK', 'PDHK1', 'PDHK4', 'PDK1', 'PERK', 'PHKG1', 'PHKG2', 'PIM1', 'PIM2', 'PIM3', 'PINK1', 'PKACA', 'PKACB', 'PKACG', 'PKCA', 'PKCB', 'PKCD', 'PKCE', 'PKCG', 'PKCH', 'PKCI', 'PKCT', 'PKCZ', 'PKG1', 'PKG2', 'PKN1', 'PKN2', 'PKN3', 'PKR', 'PLK1', 'PLK2', 'PLK3', 'PLK4', 'PRKD1', 'PRKD2', 'PRKD3', 'PRKX', 'PRP4', 'PRPK', 'QIK', 'QSK', 'RAF1', 'RIPK1', 'RIPK2', 'RIPK3', 'ROCK1', 'ROCK2', 'RSK2', 'RSK3', 'RSK4', 'SBK', 'SGK1', 'SGK3', 'SIK', 'SKMLCK', 'SLK', 'SMG1', 'SMMLCK', 'SNRK', 'SRPK1', 'SRPK2', 'SRPK3', 'SSTK', 'STK33', 'STLK3', 'TAK1', 'TAO1', 'TAO2', 'TAO3', 'TBK1', 'TGFBR1', 'TGFBR2', 'TLK1', 'TLK2', 'TNIK', 'TSSK1', 'TSSK2', 'TTBK1', 'TTBK2', 'TTK', 'ULK1', 'ULK2', 'VRK1', 'VRK2', 'WNK1', 'WNK3', 'WNK4', 'YANK2', 'YANK3', 'YSK1', 'YSK4', 'ZAK']\n",
      "303\n",
      "(-5, 4)\n",
      "['ABL', 'ACK', 'ALK', 'ARG', 'AXL', 'BLK', 'BMPR2', 'BRK', 'BTK', 'CSFR', 'CSK', 'CTK', 'DDR1', 'DDR2', 'EGFR', 'EPHA1', 'EPHA2', 'EPHA3', 'EPHA4', 'EPHA5', 'EPHA6', 'EPHA7', 'EPHA8', 'EPHB1', 'EPHB2', 'EPHB3', 'EPHB4', 'ETK', 'FAK', 'FER', 'FES', 'FGFR1', 'FGFR2', 'FGFR3', 'FGFR4', 'FGR', 'FLT3', 'FRK', 'FYN', 'HCK', 'HER2', 'HER4', 'IGF1R', 'INSR', 'IRR', 'ITK', 'JAK1', 'JAK2', 'JAK3', 'KIT', 'LCK', 'LIMK1', 'LIMK2', 'LTK', 'LYN', 'MER', 'MET', 'MKK4', 'MKK6', 'MKK7', 'MST1R', 'MUSK', 'MYT1', 'NEK10', 'PDGFRA', 'PDGFRB', 'PDHK1', 'PDHK3', 'PDHK4', 'PINK1', 'PYK2', 'RET', 'ROS', 'SRC', 'SRMS', 'SYK', 'TEC', 'TESK1', 'TIE2', 'TNK1', 'TNNI3K', 'TRKA', 'TRKB', 'TRKC', 'TXK', 'TYK2', 'TYRO3', 'VEGFR1', 'VEGFR2', 'VEGFR3', 'WEE1', 'YES', 'ZAP70']\n",
      "93\n",
      "(-5, 5)\n",
      "['ABL', 'ACK', 'ALK', 'ARG', 'AXL', 'BLK', 'BMPR2', 'BRK', 'BTK', 'CSFR', 'CSK', 'CTK', 'DDR1', 'DDR2', 'EGFR', 'EPHA1', 'EPHA2', 'EPHA3', 'EPHA4', 'EPHA5', 'EPHA6', 'EPHA7', 'EPHA8', 'EPHB1', 'EPHB2', 'EPHB3', 'EPHB4', 'ETK', 'FAK', 'FER', 'FES', 'FGFR1', 'FGFR2', 'FGFR3', 'FGFR4', 'FGR', 'FLT3', 'FRK', 'FYN', 'HCK', 'HER2', 'HER4', 'IGF1R', 'INSR', 'IRR', 'ITK', 'JAK1', 'JAK2', 'JAK3', 'KIT', 'LCK', 'LIMK1', 'LIMK2', 'LTK', 'LYN', 'MER', 'MET', 'MKK4', 'MKK6', 'MKK7', 'MST1R', 'MUSK', 'MYT1', 'NEK10', 'PDGFRA', 'PDGFRB', 'PDHK1', 'PDHK3', 'PDHK4', 'PINK1', 'PYK2', 'RET', 'ROS', 'SRC', 'SRMS', 'SYK', 'TEC', 'TESK1', 'TIE2', 'TNK1', 'TNNI3K', 'TRKA', 'TRKB', 'TRKC', 'TXK', 'TYK2', 'TYRO3', 'VEGFR1', 'VEGFR2', 'VEGFR3', 'WEE1', 'YES', 'ZAP70']\n",
      "93\n",
      "(-5, 5)\n",
      "RDGGPYGGLMP\n",
      "RDGGPYGGLMP\n",
      "RDGGPSGGLM\n",
      "__GPTSGG__\n",
      "__GPSYGG___\n",
      "RDGGPYGGLMP\n",
      "RDTGPSGGLM\n",
      "___GPTSGG_\n",
      "__GPSYGG___\n",
      "GPSGGY_____\n",
      "0.06785981986739609\n",
      "-0.35478802144036303\n"
     ]
    }
   ],
   "source": [
    "data_dir = './data'\n",
    "johnson_ST_matrices_file = os.path.join(data_dir,'ST-Kinases.xlsx')\n",
    "johnson_Y_matrices_file = os.path.join(data_dir,'Y-Kinases.xlsx')\n",
    "densitometry_file = os.path.join(data_dir,'ST-Kinases_densitometry.xlsx')\n",
    "\n",
    "\n",
    "ST_matrices = PWM_Matrices(johnson_ST_matrices_file, debug=True)\n",
    "ST_matrices.add_densitometry(densitometry_file)\n",
    "\n",
    "Y_matrices = PWM_Matrices(johnson_Y_matrices_file, debug=True)\n",
    "Y_matrices_ncon = PWM_Matrices(johnson_Y_matrices_file, debug=True)\n",
    "\n",
    "st_scoring = Scoring(ST_matrices)\n",
    "y_scoring = Scoring(Y_matrices)\n",
    "\n",
    "test_seq = 'IRDGGPYGGLMPD'\n",
    "print(y_scoring.clean_sequence(test_seq))\n",
    "\n",
    "test_seq = 'RDGGPYGGLMP'\n",
    "print(y_scoring.clean_sequence(test_seq))\n",
    "\n",
    "test_seq = 'RDGGPSGGLM'\n",
    "print(st_scoring.clean_sequence(test_seq))\n",
    "\n",
    "test_seq = 'GPTSGG'\n",
    "print(st_scoring.clean_sequence(test_seq))\n",
    "\n",
    "test_seq = 'GPSYGG'\n",
    "print(y_scoring.clean_sequence(test_seq))\n",
    "\n",
    "test_seq = 'RDGGPY*GGLMP'\n",
    "print(y_scoring.clean_sequence(test_seq))\n",
    "\n",
    "test_seq = 'RDTGPS*GGLM'\n",
    "print(st_scoring.clean_sequence(test_seq))\n",
    "\n",
    "test_seq = 'GPT*SGG'\n",
    "print(st_scoring.clean_sequence(test_seq))\n",
    "\n",
    "test_seq = 'GPSY*GG'\n",
    "print(y_scoring.clean_sequence(test_seq))\n",
    "\n",
    "test_seq = 'GPSGGY*'\n",
    "print(y_scoring.clean_sequence(test_seq))\n",
    "\n",
    "print(y_scoring.score_peptide('GPSGGY_____', kinase='BLK', mode='as_is', log_score=True))\n",
    "print(st_scoring.score_peptide('RDGGPSGGLM', kinase='ERK2', mode='as_is', log_score=True))"
   ]
  },
  {
   "cell_type": "code",
   "execution_count": 5,
   "metadata": {},
   "outputs": [
    {
     "name": "stdout",
     "output_type": "stream",
     "text": [
      "['AAK1', 'ACVR2A', 'ACVR2B', 'AKT1', 'AKT2', 'AKT3', 'ALK2', 'ALK4', 'ALPHAK3', 'AMPKA1', 'AMPKA2', 'ANKRD3', 'ASK1', 'ATM', 'ATR', 'AURA', 'AURB', 'AURC', 'BCKDK', 'BIKE', 'BMPR1A', 'BMPR1B', 'BMPR2', 'BRAF', 'BRSK1', 'BRSK2', 'BUB1', 'CAMK1A', 'CAMK1B', 'CAMK1D', 'CAMK1G', 'CAMK2A', 'CAMK2B', 'CAMK2D', 'CAMK2G', 'CAMK4', 'CAMKK1', 'CAMKK2', 'CAMLCK', 'CDC7', 'CDK1', 'CDK10', 'CDK12', 'CDK13', 'CDK14', 'CDK16', 'CDK17', 'CDK18', 'CDK19', 'CDK2', 'CDK3', 'CDK4', 'CDK5', 'CDK6', 'CDK7', 'CDK8', 'CDK9', 'CDKL1', 'CDKL5', 'CHAK1', 'CHAK2', 'CHK1', 'CHK2', 'CK1A', 'CK1A2', 'CK1D', 'CK1E', 'CK1G1', 'CK1G2', 'CK1G3', 'CK2A1', 'CK2A2', 'CLK1', 'CLK2', 'CLK3', 'CLK4', 'COT', 'CRIK', 'DAPK1', 'DAPK2', 'DAPK3', 'DCAMKL1', 'DCAMKL2', 'DLK', 'DMPK1', 'DNAPK', 'DRAK1', 'DSTYK', 'DYRK1A', 'DYRK1B', 'DYRK2', 'DYRK3', 'DYRK4', 'EEF2K', 'ERK1', 'ERK2', 'ERK5', 'ERK7', 'FAM20C', 'GAK', 'GCK', 'GCN2', 'GRK1', 'GRK2', 'GRK3', 'GRK4', 'GRK5', 'GRK6', 'GRK7', 'GSK3A', 'GSK3B', 'HASPIN', 'HGK', 'HIPK1', 'HIPK2', 'HIPK3', 'HIPK4', 'HPK1', 'HRI', 'HUNK', 'ICK', 'IKKA', 'IKKB', 'IKKE', 'IRAK1', 'IRAK4', 'IRE1', 'IRE2', 'JNK1', 'JNK2', 'JNK3', 'KHS1', 'KHS2', 'KIS', 'LATS1', 'LATS2', 'LKB1', 'LOK', 'LRRK2', 'MAK', 'MAP3K15', 'MAPKAPK2', 'MAPKAPK3', 'MAPKAPK5', 'MARK1', 'MARK2', 'MARK3', 'MARK4', 'MASTL', 'MEK1', 'MEK2', 'MEK5', 'MEKK1', 'MEKK2', 'MEKK3', 'MEKK6', 'MELK', 'MINK', 'MLK1', 'MLK2', 'MLK3', 'MLK4', 'MNK1', 'MNK2', 'MOK', 'MOS', 'MPSK1', 'MRCKA', 'MRCKB', 'MSK1', 'MSK2', 'MST1', 'MST2', 'MST3', 'MST4', 'MTOR', 'MYLK4', 'MYO3A', 'MYO3B', 'NDR1', 'NDR2', 'NEK1', 'NEK11', 'NEK2', 'NEK3', 'NEK4', 'NEK5', 'NEK6', 'NEK7', 'NEK8', 'NEK9', 'NIK', 'NIM1', 'NLK', 'NUAK1', 'NUAK2', 'OSR1', 'P38A', 'P38B', 'P38D', 'P38G', 'P70S6K', 'P70S6KB', 'P90RSK', 'PAK1', 'PAK2', 'PAK3', 'PAK4', 'PAK5', 'PAK6', 'PASK', 'PBK', 'PDHK1', 'PDHK4', 'PDK1', 'PERK', 'PHKG1', 'PHKG2', 'PIM1', 'PIM2', 'PIM3', 'PINK1', 'PKACA', 'PKACB', 'PKACG', 'PKCA', 'PKCB', 'PKCD', 'PKCE', 'PKCG', 'PKCH', 'PKCI', 'PKCT', 'PKCZ', 'PKG1', 'PKG2', 'PKN1', 'PKN2', 'PKN3', 'PKR', 'PLK1', 'PLK2', 'PLK3', 'PLK4', 'PRKD1', 'PRKD2', 'PRKD3', 'PRKX', 'PRP4', 'PRPK', 'QIK', 'QSK', 'RAF1', 'RIPK1', 'RIPK2', 'RIPK3', 'ROCK1', 'ROCK2', 'RSK2', 'RSK3', 'RSK4', 'SBK', 'SGK1', 'SGK3', 'SIK', 'SKMLCK', 'SLK', 'SMG1', 'SMMLCK', 'SNRK', 'SRPK1', 'SRPK2', 'SRPK3', 'SSTK', 'STK33', 'STLK3', 'TAK1', 'TAO1', 'TAO2', 'TAO3', 'TBK1', 'TGFBR1', 'TGFBR2', 'TLK1', 'TLK2', 'TNIK', 'TSSK1', 'TSSK2', 'TTBK1', 'TTBK2', 'TTK', 'ULK1', 'ULK2', 'VRK1', 'VRK2', 'WNK1', 'WNK3', 'WNK4', 'YANK2', 'YANK3', 'YSK1', 'YSK4', 'ZAK']\n",
      "303\n",
      "89784\n",
      "['ABL', 'ACK', 'ALK', 'ARG', 'AXL', 'BLK', 'BMPR2', 'BRK', 'BTK', 'CSFR', 'CSK', 'CTK', 'DDR1', 'DDR2', 'EGFR', 'EPHA1', 'EPHA2', 'EPHA3', 'EPHA4', 'EPHA5', 'EPHA6', 'EPHA7', 'EPHA8', 'EPHB1', 'EPHB2', 'EPHB3', 'EPHB4', 'ETK', 'FAK', 'FER', 'FES', 'FGFR1', 'FGFR2', 'FGFR3', 'FGFR4', 'FGR', 'FLT3', 'FRK', 'FYN', 'HCK', 'HER2', 'HER4', 'IGF1R', 'INSR', 'IRR', 'ITK', 'JAK1', 'JAK2', 'JAK3', 'KIT', 'LCK', 'LIMK1', 'LIMK2', 'LTK', 'LYN', 'MER', 'MET', 'MKK4', 'MKK6', 'MKK7', 'MST1R', 'MUSK', 'MYT1', 'NEK10', 'PDGFRA', 'PDGFRB', 'PDHK1', 'PDHK3', 'PDHK4', 'PINK1', 'PYK2', 'RET', 'ROS', 'SRC', 'SRMS', 'SYK', 'TEC', 'TESK1', 'TIE2', 'TNK1', 'TNNI3K', 'TRKA', 'TRKB', 'TRKC', 'TXK', 'TYK2', 'TYRO3', 'VEGFR1', 'VEGFR2', 'VEGFR3', 'WEE1', 'YES', 'ZAP70']\n",
      "93\n",
      "7315\n",
      "64.35222311324958\n",
      "58.76965140123035\n",
      "46.34313055365687\n"
     ]
    }
   ],
   "source": [
    "ochoa_background_file = os.path.join(data_dir, 'johnson_ochoa_background_wfav.tsv')\n",
    "\n",
    "tyrosine_background_file = os.path.join(data_dir, 'johnson_tyrosine_background.tsv')\n",
    "\n",
    "ST_Background = PeptideBackground(ochoa_background_file, debug=True)\n",
    "Y_Background = PeptideBackground(tyrosine_background_file, debug=True)\n",
    "\n",
    "score1 = y_scoring.score_peptide('GPSGGY_____', kinase='BLK', mode='as_is')\n",
    "score2 = st_scoring.score_peptide('RDGGPSGGLM', kinase='ERK2', mode='as_is')\n",
    "\n",
    "print(ST_Background.get_percentile(score2, kinase='ERK2'))\n",
    "print(Y_Background.get_percentile(score1, kinase='BLK'))\n",
    "\n",
    "score3 = y_scoring.score_peptide('PQMTGYVSTRY', kinase='MKK6', mode='as_is')\n",
    "print(Y_Background.get_percentile(score3, kinase='MKK6'))"
   ]
  },
  {
   "cell_type": "code",
   "execution_count": null,
   "metadata": {},
   "outputs": [],
   "source": [
    "ortholog_manager = OrthologManager('orthologs', debug=True)\n",
    "\n",
    "ortholog_manager_extra = OrthologManager('extra_orthologs', debug=True)\n"
   ]
  },
  {
   "cell_type": "markdown",
   "metadata": {},
   "source": [
    "# Offline Experiments"
   ]
  },
  {
   "cell_type": "code",
   "execution_count": null,
   "metadata": {},
   "outputs": [],
   "source": [
    "import os\n",
    "import numpy as np\n",
    "import pandas as pd\n",
    "from kinaid.session import Session\n",
    "from kinaid.matching import MatchWithMapping, Scoring, PeptideBackground, PWM_Matrices\n",
    "from kinaid.utility import Utility\n",
    "from kinaid.ortholog import OrthologManager\n",
    "from Bio import SeqIO as seqio\n",
    "\n",
    "\n",
    "data_dir = './data'\n",
    "test_dir = './test'\n",
    "proteomes_dir = os.path.join(test_dir, 'proteomes')\n",
    "\n",
    "if not os.path.exists(test_dir):\n",
    "    os.makedirs(test_dir)\n",
    "    \n",
    "johnson_ST_matrices_file = os.path.join(data_dir,'ST-Kinases.xlsx')\n",
    "johnson_Y_matrices_file = os.path.join(data_dir,'Y-Kinases.xlsx')\n",
    "densitometry_file = os.path.join(data_dir,'ST-Kinases_densitometry.xlsx')\n",
    "\n",
    "ST_matrices = PWM_Matrices(johnson_ST_matrices_file)\n",
    "ST_matrices.add_densitometry(densitometry_file)\n",
    "\n",
    "Y_matrices = PWM_Matrices(johnson_Y_matrices_file)\n",
    "\n",
    "st_scoring = Scoring(ST_matrices)\n",
    "y_scoring = Scoring(Y_matrices)\n",
    "\n",
    "ochoa_background_file = os.path.join(data_dir, 'johnson_ochoa_background_wfav.tsv')\n",
    "\n",
    "tyrosine_background_file = os.path.join(data_dir, 'johnson_tyrosine_background.tsv')\n",
    "\n",
    "ST_Background = PeptideBackground(ochoa_background_file)\n",
    "Y_Background = PeptideBackground(tyrosine_background_file)\n",
    "\n",
    "ortholog_manager = OrthologManager('orthologs', debug=True)\n"
   ]
  },
  {
   "cell_type": "markdown",
   "metadata": {},
   "source": [
    "## Yeast Experiments\n",
    "\n",
    "### Leutert, M., Barente, A.S., Fukuda, N.K. et al. The regulatory landscape of the yeast phosphoproteome. Nat Struct Mol Biol 30, 1761–1773 (2023)."
   ]
  },
  {
   "cell_type": "code",
   "execution_count": null,
   "metadata": {},
   "outputs": [],
   "source": [
    "\n",
    "def clean_phosphopeptides(phosphorylation_file, fasta_file, output_file) :\n",
    "    exp_df = pd.read_csv(phosphorylation_file)\n",
    "\n",
    "    #read in the fasta file\n",
    "    fasta_dict = seqio.to_dict(seqio.parse(fasta_file, 'fasta'))\n",
    "\n",
    "    exp_df = exp_df[exp_df['p_residue'].isin(['S', 'T', 'Y'])]\n",
    "\n",
    "    systematic_name_to_SGD_dict = {name:record.description.split(', ')[0].split(' ')[2] for name,record in fasta_dict.items()}\n",
    "    #systematic_name_to_SGD_dict = {name:SGD.split(':')[1] for name,SGD in systematic_name_to_SGD_dict.items()}\n",
    "\n",
    "    exp_df['SGDID'] = exp_df['systematic_name'].map(systematic_name_to_SGD_dict)\n",
    "\n",
    "    systematic_name_to_seq_dict = {name:str(record.seq) for name,record in fasta_dict.items()}\n",
    "    exp_df['sequence'] = (exp_df['systematic_name'].map(systematic_name_to_seq_dict))\n",
    "\n",
    "    #remove rows with missing sequences\n",
    "    exp_df = exp_df[~exp_df['sequence'].isna()]\n",
    "\n",
    "    #remove rows with stop codons\n",
    "    exp_df['sequence'] = exp_df['sequence'].str.rstrip('*')\n",
    "\n",
    "    #get sequence lengths\n",
    "    exp_df['seq_len'] = exp_df['sequence'].str.len()\n",
    "\n",
    "    #keep only rows where the sequence length is greater than or equal to the position of the phosphorylation site\n",
    "    exp_df = exp_df[exp_df['seq_len'] >= exp_df['p_position']]\n",
    "\n",
    "    exp_df['sanity_check'] = exp_df.apply(lambda row: row['sequence'][row['p_position']-1] == row['p_residue'], axis=1)\n",
    "    \n",
    "    exp_df = exp_df[exp_df['sanity_check']]\n",
    "\n",
    "    #if p_position is less than 6, add 5 - p_position number of _'s to the beginning of the sequence\n",
    "    exp_df['sequence'] = exp_df.apply(lambda row: '_'*(6 - row['p_position']) + row['sequence'], axis=1)\n",
    "\n",
    "    #if p_position is greater than seq_len - 6, add p_position - (seq_len - 5) number of _'s to the end of the sequence\n",
    "    exp_df['sequence'] = exp_df.apply(lambda row: row['sequence'] + '_'*(row['p_position'] - (row['seq_len'] - 5)), axis=1)\n",
    "\n",
    "    #make window around p_position if p_position is greater than 5 from p_position - 6 to p_position + 5, else from 0 to 10\n",
    "    exp_df['window'] = exp_df.apply(lambda row: row['sequence'][row['p_position']-6:row['p_position']+5] if row['p_position'] > 5 else row['sequence'][0:11], axis=1)\n",
    "\n",
    "    exp_df['adj_p_value'] = exp_df['adj_p_value'].apply(lambda x: -1*np.log10(x))\n",
    "\n",
    "    exp_df_filtered = exp_df[['SGDID', 'p_position', 'window', 'fc_log2', 'adj_p_value']].copy()\n",
    "\n",
    "    exp_df_filtered.rename(columns={'SGDID':'SGD', 'p_position':'site', 'window':'peptide', 'fc_log2':'log2fc', 'adj_p_value':'adjpvalue'}, inplace=True)\n",
    "\n",
    "    exp_df_filtered.to_csv(output_file, index=False)\n"
   ]
  },
  {
   "cell_type": "code",
   "execution_count": null,
   "metadata": {},
   "outputs": [],
   "source": [
    "published_yeast_file = 'yeast-perturbation.xlsx'\n",
    "published_yeast_path = os.path.join(test_dir, published_yeast_file)\n",
    "\n",
    "\n",
    "import gzip\n",
    "yeast_proteome_path = os.path.join(proteomes_dir, 'yeast_proteome.fasta')\n",
    "\n",
    "if not os.path.exists(proteomes_dir):\n",
    "    os.makedirs(proteomes_dir)\n",
    "    \n",
    "if not os.path.exists(yeast_proteome_path):\n",
    "    print('Downloading yeast proteome')\n",
    "    Utility.download_file('http://sgd-archive.yeastgenome.org/sequence/S288C_reference/orf_protein/orf_trans.fasta.gz', 'temp.gz')\n",
    "    with gzip.open('temp.gz', 'rb') as f_in:\n",
    "        with open(yeast_proteome_path, 'wb') as f_out:\n",
    "            f_out.write(f_in.read())\n",
    "    os.remove('temp.gz')\n",
    "    \n",
    "\n",
    "if not os.path.exists(published_yeast_path):\n",
    "    print('Downloading yeast perturbation data')\n",
    "    Utility.download_file('https://static-content.springer.com/esm/art%3A10.1038%2Fs41594-023-01115-3/MediaObjects/41594_2023_1115_MOESM9_ESM.xlsx',\n",
    "                  published_yeast_path)\n",
    "\n",
    "\n",
    "HOG1_experiment_file = os.path.join(test_dir,'HOG1_exp.csv')\n",
    "SNF1_experiment_file = os.path.join(test_dir,'SNF1_exp.csv')\n",
    "TOR1_experiment_file = os.path.join(test_dir,'TOR1_exp.csv')\n",
    "\n",
    "if not os.path.exists(HOG1_experiment_file) or not os.path.exists(SNF1_experiment_file) or not os.path.exists(TOR1_experiment_file):\n",
    "    df = pd.read_excel(published_yeast_path, sheet_name='p_site_diff_reg')\n",
    "\n",
    "\n",
    "if not os.path.exists(HOG1_experiment_file):\n",
    "    HOG1_phosphopeptides_file = 'yeast_HOG1_KC_phosphopeptides.csv'\n",
    "    HOG1_path = os.path.join(test_dir, HOG1_phosphopeptides_file)\n",
    "    df[df['treatment_id'] == 'KC'].to_csv(HOG1_path, index=False)\n",
    "    clean_phosphopeptides(HOG1_path, yeast_proteome_path, HOG1_experiment_file)\n",
    "\n",
    "if not os.path.exists(SNF1_experiment_file):\n",
    "    SNF1_phosphopeptides_file = 'yeast_SNF1_GL_phosphopeptides.csv'\n",
    "    SNF1_path = os.path.join(test_dir, SNF1_phosphopeptides_file)\n",
    "    df[df['treatment_id'] == 'GL'].to_csv(SNF1_path, index=False)\n",
    "    clean_phosphopeptides(SNF1_path, yeast_proteome_path, SNF1_experiment_file)\n",
    "\n",
    "if not os.path.exists(TOR1_experiment_file):\n",
    "    TOR1_phosphopeptides_file = 'yeast_TOR1_CS18_phosphopeptides.csv'\n",
    "    TOR1_path = os.path.join(test_dir, TOR1_phosphopeptides_file)\n",
    "    df[df['treatment_id'] == 'CS18'].to_csv(TOR1_path, index=False)\n",
    "    clean_phosphopeptides(TOR1_path, yeast_proteome_path, TOR1_experiment_file)\n",
    "\n",
    "\n",
    "\n",
    "\n"
   ]
  },
  {
   "cell_type": "code",
   "execution_count": null,
   "metadata": {},
   "outputs": [],
   "source": [
    "\n",
    "\n",
    "column_names_dict={'id':'SGD', 'site':'site', 'peptide':'peptide', 'log2fc':'log2fc', 'dependent':'adjpvalue'}\n",
    "\n",
    "\"\"\"\n",
    "yeast_orthologs_file = os.path.join('orthologs', 'yeast_orthologs_final.tsv')\n",
    "\n",
    "yeast_orthologs_df = pd.read_csv(yeast_orthologs_file, sep='\\t')\n",
    "yeast_orthologs_df = yeast_orthologs_df[yeast_orthologs_df['gene_id_type'] == 'SGD']\n",
    "\n",
    "yeast_orthologs_st_df = yeast_orthologs_df[yeast_orthologs_df['kinase_type'] == 'ST']\n",
    "yeast_mapping_st_dict = dict(zip(yeast_orthologs_st_df['symbol'], yeast_orthologs_st_df['kinase_name']))\n",
    "\n",
    "yeast_orthologs_y_df = yeast_orthologs_df[yeast_orthologs_df['kinase_type'] == 'Y']\n",
    "yeast_mapping_y_dict = dict(zip(yeast_orthologs_y_df['symbol'], yeast_orthologs_y_df['kinase_name']))\n",
    "\n",
    "print(yeast_mapping_y_dict.values())\n",
    "print(y_scoring._kinase_names)\n",
    "\n",
    "\n",
    "ST_matching = MatchWithMapping(st_scoring, ST_Background, yeast_mapping_st_dict)\n",
    "Y_matching = MatchWithMapping(y_scoring, Y_Background, yeast_mapping_y_dict)\n",
    "\"\"\"\n",
    "\n",
    "background = {'ST':ST_Background, 'Y':Y_Background}\n",
    "scoring = {'ST':st_scoring, 'Y':y_scoring}\n"
   ]
  },
  {
   "cell_type": "code",
   "execution_count": null,
   "metadata": {},
   "outputs": [],
   "source": []
  },
  {
   "cell_type": "code",
   "execution_count": null,
   "metadata": {},
   "outputs": [],
   "source": [
    "HOG1_df = pd.read_csv(HOG1_experiment_file)\n",
    "\n",
    "#session = Session(0,'yeast', HOG1_df, column_names_dict, ST_matching, Y_matching, id_type = 'SGD', debug=True)\n",
    "session = Session(0, 'yeast', HOG1_df, column_names_dict, scoring, background, ortholog_manager, id_type='SGD', ambiguous=True, debug=True)"
   ]
  },
  {
   "cell_type": "code",
   "execution_count": null,
   "metadata": {},
   "outputs": [],
   "source": [
    "kinase_matches_df = session.get_kinase_matches_df()"
   ]
  },
  {
   "cell_type": "code",
   "execution_count": null,
   "metadata": {},
   "outputs": [],
   "source": [
    "kinase_matches_df.to_csv(os.path.join(test_dir, 'HOG1_kinase_matches.tsv'), index=False, sep='\\t')\n",
    "display(kinase_matches_df.head())"
   ]
  },
  {
   "cell_type": "code",
   "execution_count": null,
   "metadata": {},
   "outputs": [],
   "source": [
    "percentiles_st_df = session.get_percentiles_df('ST')\n",
    "percentiles_y_df = session.get_percentiles_df('Y')\n",
    "\n",
    "percentiles_st_df.to_csv(os.path.join(test_dir, 'HOG1_percentiles_ST.tsv'), index=True, sep='\\t')\n",
    "percentiles_y_df.to_csv(os.path.join(test_dir, 'HOG1_percentiles_Y.tsv'), index=True, sep='\\t')"
   ]
  },
  {
   "cell_type": "code",
   "execution_count": null,
   "metadata": {},
   "outputs": [],
   "source": [
    "barplot = session.get_counts_barplot_fig()\n",
    "\n",
    "#update the height to be 20 pixels times the number of kinases\n",
    "barplot = barplot.update_layout(height=20*len(session._all_selected_symbols))"
   ]
  },
  {
   "cell_type": "code",
   "execution_count": null,
   "metadata": {},
   "outputs": [],
   "source": [
    "display(barplot)"
   ]
  },
  {
   "cell_type": "code",
   "execution_count": null,
   "metadata": {},
   "outputs": [],
   "source": [
    "peptide_scatter = session.get_peptide_scatter_fig(selected_kinases={'PBS2', 'HOG1'})\n",
    "display(peptide_scatter)"
   ]
  },
  {
   "cell_type": "code",
   "execution_count": null,
   "metadata": {},
   "outputs": [],
   "source": [
    "heatmap_st = session.get_heatmap_fig('ST')\n",
    "heatmap_st = heatmap_st.update_layout(height=10*len(st_scoring._kinase_names))\n",
    "display(heatmap_st)\n",
    "\n",
    "heatmap_y = session.get_heatmap_fig('Y')\n",
    "display(heatmap_y)\n",
    "\n",
    "heatmap_all = session.get_all_heatmap_figs()\n",
    "heatmap_all = heatmap_all.update_layout(height=10*len(st_scoring._kinase_names))\n",
    "\n",
    "display(heatmap_all)\n"
   ]
  },
  {
   "cell_type": "code",
   "execution_count": null,
   "metadata": {},
   "outputs": [],
   "source": [
    "log2fc_df = session.get_stat_df()\n",
    "display(log2fc_df)"
   ]
  },
  {
   "cell_type": "code",
   "execution_count": null,
   "metadata": {},
   "outputs": [],
   "source": [
    "zscore_fig = session.get_zscore_fig()\n",
    "zscore_fig = zscore_fig.update_layout(height=20*len(session._all_selected_symbols))\n",
    "display(zscore_fig)\n",
    "\n",
    "zscore_fig2 = session.get_zscore_fig(combine_populations=False)\n",
    "zscore_fig2 = zscore_fig2.update_layout(height=20*len(session._all_selected_symbols))\n",
    "display(zscore_fig2)"
   ]
  },
  {
   "cell_type": "code",
   "execution_count": null,
   "metadata": {},
   "outputs": [],
   "source": [
    "kinase_scatter = session.get_kinase_scatter_fig()\n",
    "display(kinase_scatter)\n",
    "\n",
    "kinase_scatter2 = session.get_kinase_scatter_fig(combine_populations=False)\n",
    "display(kinase_scatter2)"
   ]
  },
  {
   "cell_type": "code",
   "execution_count": null,
   "metadata": {},
   "outputs": [],
   "source": [
    "network_df = session.get_network_df()\n",
    "network_df.to_csv(os.path.join(test_dir, 'HOG1_network.tsv'), index=False, sep='\\t')\n",
    "\n",
    "full_network_fig = session.get_full_kinase_network_fig()\n",
    "\n",
    "hub_network_fig = session.get_kinase_hub_fig(selected_symbols={'PBS2', 'HOG1', 'STE11'})"
   ]
  },
  {
   "cell_type": "code",
   "execution_count": null,
   "metadata": {},
   "outputs": [],
   "source": [
    "'''\n",
    "cyto.load_extra_layouts()\n",
    "\n",
    "app = Dash(__name__)\n",
    "\n",
    "app.layout = html.Div([\n",
    "    hub_network_fig\n",
    "])\n",
    "\n",
    "if __name__ == '__main__':\n",
    "    app.run(debug=True)\n",
    "'''"
   ]
  },
  {
   "cell_type": "markdown",
   "metadata": {},
   "source": [
    "# Build additional orthologs"
   ]
  },
  {
   "cell_type": "code",
   "execution_count": null,
   "metadata": {},
   "outputs": [],
   "source": [
    "from kinaid.utility import Utility\n",
    "import os"
   ]
  },
  {
   "cell_type": "code",
   "execution_count": null,
   "metadata": {},
   "outputs": [],
   "source": [
    "#extra_organisms_dict = {'fly' : 7227}\n",
    "#extra_organisms_dict = {'ecoli' : 8333,\n",
    "extra_organisms_dict = {'thale_cress' : 3702,\n",
    "                        'fission_yeast' : 4896,\n",
    "                        'clawed_frog' : 8364,\n",
    "                        'rat' : 10116,\n",
    "                        'mosquito' : 7165\n",
    "                    }"
   ]
  },
  {
   "cell_type": "code",
   "execution_count": null,
   "metadata": {},
   "outputs": [],
   "source": [
    "orthologs_dir = 'extra_orthologs'\n",
    "data_dir = 'data'\n",
    "human_kinase_database_file = os.path.join(data_dir, 'human_kinases_final.tsv')\n",
    "for organism, taxid in extra_organisms_dict.items():\n",
    "    Utility.build_organism_orthologs(organism, taxid, orthologs_dir, human_kinase_database_file, threads=8)"
   ]
  },
  {
   "cell_type": "markdown",
   "metadata": {},
   "source": [
    "# Ortholog statistics"
   ]
  },
  {
   "cell_type": "code",
   "execution_count": 2,
   "metadata": {},
   "outputs": [],
   "source": [
    "import pandas as pd\n",
    "import os\n",
    "\n"
   ]
  },
  {
   "cell_type": "code",
   "execution_count": 3,
   "metadata": {},
   "outputs": [
    {
     "name": "stdout",
     "output_type": "stream",
     "text": [
      "mouse\n",
      "Number of dual specificity kinases in mouse: 3\n",
      "Number of symbols in mouse: 384\n",
      "mouse & 294 & 91 & 296 & 91 & 295 & 91\n",
      "worm\n",
      "Number of dual specificity kinases in worm: 5\n",
      "Number of symbols in worm: 268\n",
      "worm & 112 & 25 & 234 & 39 & 151 & 35\n",
      "zebrafish\n",
      "Number of dual specificity kinases in zebrafish: 3\n",
      "Number of symbols in zebrafish: 373\n",
      "zebrafish & 272 & 86 & 288 & 88 & 280 & 87\n",
      "yeast\n",
      "Number of dual specificity kinases in yeast: 3\n",
      "Number of symbols in yeast: 91\n",
      "yeast & 56 & 2 & 90 & 4 & 78 & 4\n",
      "fly\n",
      "Number of dual specificity kinases in fly: 4\n",
      "Number of symbols in fly: 178\n",
      "fly & 118 & 30 & 144 & 38 & 137 & 37\n"
     ]
    }
   ],
   "source": [
    "ortholog_dir = './orthologs'\n",
    "\n",
    "#from ortholog directory get all the files that end with orthologs_final.tsv\n",
    "ortholog_files = [file for file in os.listdir(ortholog_dir) if file.endswith('orthologs_final.tsv')]\n",
    "\n",
    "for file in ortholog_files:\n",
    "    #print(file)\n",
    "    organism = file.split('_')[0]\n",
    "    print(organism)\n",
    "    ortholog_df = pd.read_csv(os.path.join(ortholog_dir, file), sep='\\t')\n",
    "    #display(ortholog_df.head())\n",
    "    #restrict to only rows where the gene_id_type is geneID\n",
    "    ortholog_df = ortholog_df[ortholog_df['gene_id_type'] == 'GeneID'].copy()\n",
    "    \n",
    "    \n",
    "    #count dual specificity kinases\n",
    "    symbol_group_df = ortholog_df.groupby('symbol')['kinase_type'].nunique().reset_index()\n",
    "    dual_specificity_df = symbol_group_df[symbol_group_df['kinase_type'] > 1].copy()\n",
    "    num_dual_specificity = dual_specificity_df['symbol'].nunique()\n",
    "    print(f'Number of dual specificity kinases in {organism}: {num_dual_specificity}')\n",
    "    \n",
    "    \n",
    "    #get the number of symbols in ortholog_df\n",
    "    num_symbols = ortholog_df['symbol'].nunique()\n",
    "    print(f'Number of symbols in {organism}: {num_symbols}')\n",
    "    \n",
    "    \n",
    "    #get the number of ST kinases that are not ambiguous\n",
    "    st_kinases = ortholog_df[(ortholog_df['kinase_type'] == 'ST') & (ortholog_df['ambiguous'] == False)].copy()\n",
    "    #print(st_kinases.head())\n",
    "    num_st_kinases_oto = st_kinases['symbol'].nunique()\n",
    "    \n",
    "    #get the number of Y kinases that are not ambiguous\n",
    "    y_kinases = ortholog_df[(ortholog_df['kinase_type'] == 'Y') & (ortholog_df['ambiguous'] == False)].copy()\n",
    "    num_y_kinases_oto = y_kinases['symbol'].nunique()\n",
    "    \n",
    "    #get the number of kinases that are ST\n",
    "    num_st_kinases = ortholog_df[ortholog_df['kinase_type'] == 'ST']['symbol'].nunique()\n",
    "    \n",
    "    #get the number of kinases that are Y\n",
    "    num_y_kinases = ortholog_df[ortholog_df['kinase_type'] == 'Y']['symbol'].nunique()\n",
    "    \n",
    "    #get the number of kinase_name for ST kinases\n",
    "    num_st_kinase_names = ortholog_df[ortholog_df['kinase_type'] == 'ST']['kinase_name'].nunique()\n",
    "    \n",
    "    #get the number of kinase_name for Y kinases\n",
    "    num_y_kinase_names = ortholog_df[ortholog_df['kinase_type'] == 'Y']['kinase_name'].nunique()\n",
    "    \n",
    "    #make latex frendly version of the results\n",
    "    latex_results = f'{organism} & {num_st_kinases_oto} & {num_y_kinases_oto} & {num_st_kinases} & {num_y_kinases} & {num_st_kinase_names} & {num_y_kinase_names}'\n",
    "    \n",
    "    print(latex_results)\n",
    "    "
   ]
  },
  {
   "cell_type": "code",
   "execution_count": 4,
   "metadata": {},
   "outputs": [
    {
     "data": {
      "text/html": [
       "<div>\n",
       "<style scoped>\n",
       "    .dataframe tbody tr th:only-of-type {\n",
       "        vertical-align: middle;\n",
       "    }\n",
       "\n",
       "    .dataframe tbody tr th {\n",
       "        vertical-align: top;\n",
       "    }\n",
       "\n",
       "    .dataframe thead th {\n",
       "        text-align: right;\n",
       "    }\n",
       "</style>\n",
       "<table border=\"1\" class=\"dataframe\">\n",
       "  <thead>\n",
       "    <tr style=\"text-align: right;\">\n",
       "      <th></th>\n",
       "      <th>kinase_type</th>\n",
       "      <th>organism</th>\n",
       "      <th>kinase_name</th>\n",
       "      <th>gene_id_type</th>\n",
       "      <th>gene_id</th>\n",
       "      <th>symbol</th>\n",
       "      <th>short</th>\n",
       "      <th>long</th>\n",
       "      <th>ambiguous</th>\n",
       "    </tr>\n",
       "  </thead>\n",
       "  <tbody>\n",
       "    <tr>\n",
       "      <th>0</th>\n",
       "      <td>ST</td>\n",
       "      <td>human</td>\n",
       "      <td>AAK1</td>\n",
       "      <td>GeneID</td>\n",
       "      <td>22848</td>\n",
       "      <td>AAK1</td>\n",
       "      <td>AAK1</td>\n",
       "      <td>AAK1</td>\n",
       "      <td>False</td>\n",
       "    </tr>\n",
       "    <tr>\n",
       "      <th>1</th>\n",
       "      <td>ST</td>\n",
       "      <td>human</td>\n",
       "      <td>ACVR2A</td>\n",
       "      <td>GeneID</td>\n",
       "      <td>92</td>\n",
       "      <td>ACVR2A</td>\n",
       "      <td>ACVR2A</td>\n",
       "      <td>ACVR2A</td>\n",
       "      <td>False</td>\n",
       "    </tr>\n",
       "    <tr>\n",
       "      <th>2</th>\n",
       "      <td>ST</td>\n",
       "      <td>human</td>\n",
       "      <td>ACVR2B</td>\n",
       "      <td>GeneID</td>\n",
       "      <td>93</td>\n",
       "      <td>ACVR2B</td>\n",
       "      <td>ACVR2B</td>\n",
       "      <td>ACVR2B</td>\n",
       "      <td>False</td>\n",
       "    </tr>\n",
       "    <tr>\n",
       "      <th>3</th>\n",
       "      <td>ST</td>\n",
       "      <td>human</td>\n",
       "      <td>AKT1</td>\n",
       "      <td>GeneID</td>\n",
       "      <td>207</td>\n",
       "      <td>AKT1</td>\n",
       "      <td>AKT1</td>\n",
       "      <td>AKT1</td>\n",
       "      <td>False</td>\n",
       "    </tr>\n",
       "    <tr>\n",
       "      <th>4</th>\n",
       "      <td>ST</td>\n",
       "      <td>human</td>\n",
       "      <td>AKT2</td>\n",
       "      <td>GeneID</td>\n",
       "      <td>208</td>\n",
       "      <td>AKT2</td>\n",
       "      <td>AKT2</td>\n",
       "      <td>AKT2</td>\n",
       "      <td>False</td>\n",
       "    </tr>\n",
       "  </tbody>\n",
       "</table>\n",
       "</div>"
      ],
      "text/plain": [
       "  kinase_type organism kinase_name gene_id_type gene_id  symbol   short  \\\n",
       "0          ST    human        AAK1       GeneID   22848    AAK1    AAK1   \n",
       "1          ST    human      ACVR2A       GeneID      92  ACVR2A  ACVR2A   \n",
       "2          ST    human      ACVR2B       GeneID      93  ACVR2B  ACVR2B   \n",
       "3          ST    human        AKT1       GeneID     207    AKT1    AKT1   \n",
       "4          ST    human        AKT2       GeneID     208    AKT2    AKT2   \n",
       "\n",
       "     long  ambiguous  \n",
       "0    AAK1      False  \n",
       "1  ACVR2A      False  \n",
       "2  ACVR2B      False  \n",
       "3    AKT1      False  \n",
       "4    AKT2      False  "
      ]
     },
     "metadata": {},
     "output_type": "display_data"
    }
   ],
   "source": [
    "\n",
    "\n",
    "human_kinases = pd.read_csv('./data/human_kinases_final.tsv', sep='\\t')\n",
    "display(human_kinases.head())\n"
   ]
  },
  {
   "cell_type": "code",
   "execution_count": 6,
   "metadata": {},
   "outputs": [
    {
     "name": "stdout",
     "output_type": "stream",
     "text": [
      "Number of kinases in the \"kinase_name\" column: 794\n"
     ]
    }
   ],
   "source": [
    "#print number of kinases in the \"kinase_name\" column\n",
    "num_kinases = human_kinases['kinase_name'].count()\n",
    "print(f'Number of kinases in the \"kinase_name\" column: {num_kinases}')"
   ]
  },
  {
   "cell_type": "code",
   "execution_count": null,
   "metadata": {},
   "outputs": [],
   "source": []
  }
 ],
 "metadata": {
  "kernelspec": {
   "display_name": "Python 3",
   "language": "python",
   "name": "python3"
  },
  "language_info": {
   "codemirror_mode": {
    "name": "ipython",
    "version": 3
   },
   "file_extension": ".py",
   "mimetype": "text/x-python",
   "name": "python",
   "nbconvert_exporter": "python",
   "pygments_lexer": "ipython3",
   "version": "3.10.7"
  }
 },
 "nbformat": 4,
 "nbformat_minor": 2
}
