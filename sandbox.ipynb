{
 "cells": [
  {
   "cell_type": "code",
   "execution_count": null,
   "metadata": {
    "vscode": {
     "languageId": "bat"
    }
   },
   "outputs": [],
   "source": [
    "#initialize stuff\n",
    "\n",
    "!ls\n",
    "!mkdir data >> /dev/null\n"
   ]
  },
  {
   "cell_type": "markdown",
   "metadata": {},
   "source": [
    "# Test scoring"
   ]
  },
  {
   "cell_type": "code",
   "execution_count": 1,
   "metadata": {},
   "outputs": [],
   "source": [
    "from kinaid.matching import PWM_Matrices,Scoring,PeptideBackground\n",
    "import os\n",
    "import pandas as pd\n",
    "from tqdm.notebook import tqdm_notebook\n",
    "from kinaid.utility import DefaultConfiguration\n",
    "from kinaid.utility import Utility\n",
    "import numpy as np\n",
    "from kinaid.session import Session\n",
    "import sys\n",
    "from kinaid.ortholog import OrthologManager\n",
    "from dash import Dash, html\n",
    "import dash_cytoscape as cyto\n",
    "\n"
   ]
  },
  {
   "cell_type": "code",
   "execution_count": 2,
   "metadata": {},
   "outputs": [
    {
     "name": "stdout",
     "output_type": "stream",
     "text": [
      "Loading ST matrices\n",
      "Loading Y matrices (w/ non-canonical)\n",
      "Creating scoring objects\n",
      "Dual specificity kinases\n",
      "{'Q16654', 'Q15118', 'Q13873'}\n",
      "Ortholog database for mouse already exists\n",
      "Ortholog database for fly already exists\n",
      "Ortholog database for worm already exists\n",
      "Ortholog database for yeast already exists\n",
      "Ortholog database for zebrafish already exists\n",
      "orthologs/mouse_10090_orthologs.tsv : 0\n",
      "orthologs/fly_7227_orthologs.tsv : 11\n",
      "orthologs/worm_6239_orthologs.tsv : 33\n",
      "orthologs/yeast_4932_orthologs.tsv : 10\n",
      "orthologs/zebrafish_7955_orthologs.tsv : 0\n",
      "Final ortholog database for mouse already exists\n",
      "Final ortholog database for fly already exists\n",
      "Final ortholog database for worm already exists\n",
      "Final ortholog database for yeast already exists\n",
      "UniProt map server responded: 404\n",
      "{\"url\":\"http://rest.uniprot.org/idmapping/stream/c060f06feb6ce7e57026abaa25dfa8320c2285b8\",\"messages\":[\"Resource not found\"]}\n",
      "Retry 1\n",
      "UniProt map server responded: 404\n",
      "{\"url\":\"http://rest.uniprot.org/idmapping/stream/c060f06feb6ce7e57026abaa25dfa8320c2285b8\",\"messages\":[\"Resource not found\"]}\n",
      "Retry 2\n",
      "UniProt map server responded: 404\n",
      "{\"url\":\"http://rest.uniprot.org/idmapping/stream/c060f06feb6ce7e57026abaa25dfa8320c2285b8\",\"messages\":[\"Resource not found\"]}\n",
      "Retry 3\n",
      "UniProt map server responded: 404\n",
      "{\"url\":\"http://rest.uniprot.org/idmapping/stream/c060f06feb6ce7e57026abaa25dfa8320c2285b8\",\"messages\":[\"Resource not found\"]}\n",
      "Retry 4\n",
      "UniProt map server responded: 404\n",
      "{\"url\":\"http://rest.uniprot.org/idmapping/stream/c060f06feb6ce7e57026abaa25dfa8320c2285b8\",\"messages\":[\"Resource not found\"]}\n",
      "Retry 5\n",
      "Failed to get mapping results from UniProt, check connection\n",
      "UniProt unmapped (zebrafish): {'CDKL1', 'FGFR1', 'TAO2', 'NDR2', 'P70S6K', 'CSFR', 'DSTYK', 'DYRK4', 'NEK10', 'NEK11', 'CHK2', 'BRSK1', 'PLK3', 'MEK5', 'BCKDK', 'PAK5', 'PKN3', 'CK1G1', 'BRSK2', 'TRKC', 'MAPKAPK3', 'AMPKA2', 'PAK2', 'PKCZ', 'MTOR', 'FGR', 'NUAK1', 'PKACA', 'FES', 'MER', 'TLK1', 'TEC', 'PKCT', 'CAMK1G', 'MINK', 'CAMK2D', 'ROCK2', 'FAK', 'MEK2', 'TAO1', 'P38G', 'MRCKA', 'WEE1', 'DYRK1A', 'CK1A', 'WNK3', 'PKCH', 'HER2', 'RSK3', 'IRAK4', 'HER4', 'BTK', 'RIPK1', 'AKT3', 'PYK2', 'PKR', 'EPHB2', 'PKCD', 'SRMS', 'ALK', 'IKKE', 'MASTL', 'SRPK2', 'BMPR2', 'IKKA', 'DYRK2', 'MELK', 'NEK8', 'DDR2', 'EPHA5', 'BUB1', 'CK2A2', 'MEKK3', 'BRAF', 'LKB1', 'YSK1', 'TNNI3K', 'SRC', 'GSK3A', 'JAK3', 'LATS1', 'DMPK1', 'DNAPK', 'SGK3', 'AKT2', 'ZAP70', 'GAK', 'AURA', 'JAK1', 'PDK1', 'ACVR2B', 'RIPK3', 'ABL', 'ALK4', 'JAK2', 'DDR1', 'ITK', 'CLK2', 'FGFR3', 'EPHB3', 'IRE2', 'GCK', 'NUAK2', 'ATR', 'PLK1', 'DAPK1', 'MARK1', 'PBK', 'LIMK1', 'CDK7', 'CAMK4', 'CAMLCK', 'EEF2K', 'TAO3', 'QSK', 'SMMLCK', 'MARK2', 'IRAK1', 'MYO3A', 'PAK6', 'CDK5', 'PRKD3', 'CAMK1B', 'PRPK', 'PKN1', 'EPHA3', 'TLK2', 'FLT3', 'NEK2', 'CAMK1A', 'TTBK1', 'HIPK1', 'MAPKAPK5', 'PRKD2', 'CHAK1', 'NEK6', 'FGFR4', 'DCAMKL2', 'AXL', 'ROCK1', 'FYN', 'TBK1', 'GRK3', 'ASK1', 'HIPK3', 'CDK1', 'TAK1', 'PAK4', 'EPHB4', 'ATM', 'JNK2', 'ACK', 'NIM1', 'GSK3B', 'MKK7', 'FAM20C', 'AURB', 'CK1D', 'TYRO3', 'PDHK1', 'CK1E', 'PIM2', 'ZAK', 'TXK', 'YSK4', 'LIMK2', 'MNK2', 'HRI', 'GRK5', 'CDK10', 'MKK6', 'CDK6', 'PKCG', 'TNIK', 'MSK2', 'EPHA8', 'MLK2', 'TESK1', 'IRE1', 'RAF1', 'EPHA4', 'PRP4', 'HCK', 'MPSK1', 'P38D', 'TIE2', 'PKG1', 'AAK1', 'PDGFRA', 'MYO3B', 'DRAK1', 'PKG2', 'PKCI', 'JNK1', 'QIK', 'VEGFR1', 'PKN2', 'JNK3', 'CDK16', 'DYRK3', 'MYLK4', 'LOK', 'NEK4', 'SBK', 'CK2A1', 'TYK2', 'FER', 'IGF1R', 'EPHA6', 'CSK', 'HASPIN', 'LCK', 'CDC7', 'PIM3', 'MEKK6', 'CDK17', 'HIPK2', 'MUSK', 'CDK4', 'NEK3', 'OSR1', 'VRK2', 'PLK4', 'GCN2', 'MYT1', 'MAK', 'MEKK2', 'DAPK3', 'PIM1', 'MEK1', 'ULK1', 'SRPK3', 'TGFBR2', 'SKMLCK', 'GRK4', 'BRK', 'DCAMKL1', 'MET', 'VEGFR2', 'NEK7', 'YES', 'ERK7', 'VEGFR3', 'STK33', 'SGK1', 'CAMK2B', 'SIK', 'TTBK2', 'NLK', 'CK1G2', 'CHAK2', 'PAK1', 'KIT', 'MLK3', 'NEK5', 'CLK4', 'ERK5', 'PHKG2', 'CDK8', 'AMPKA1', 'PDGFRB', 'PERK', 'DAPK2', 'SLK', 'P38B', 'TTK', 'KHS1', 'CAMK2A', 'GRK6', 'GRK1', 'ALK2', 'DYRK1B', 'RSK2', 'CAMK1D', 'EGFR', 'CLK1', 'MEKK1', 'MRCKB', 'NEK9', 'SYK', 'CDK14', 'HUNK', 'HGK', 'RIPK2', 'CDK9', 'TRKA', 'ERK1', 'PKCB', 'CRIK', 'FRK', 'NEK1', 'CDK18', 'ALPHAK3', 'DLK', 'MST4', 'EPHA7', 'MNK1', 'CDK12', 'P90RSK', 'PRKX', 'RSK4', 'STLK3', 'CAMK2G', 'BIKE', 'MST3', 'PKACB', 'TNK1', 'LRRK2', 'PASK', 'WNK1', 'MKK4', 'MST2', 'IKKB', 'ACVR2A', 'WNK4', 'PDHK3', 'CAMKK1', 'CTK', 'NDR1', 'EPHA2', 'LYN', 'PHKG1', 'CDK19', 'MARK4', 'PKCA', 'SNRK', 'ERK2', 'AKT1', 'ARG', 'INSR', 'CDK13', 'FGFR2', 'KHS2', 'PDHK4', 'SRPK1', 'EPHB1', 'MAPKAPK2', 'MARK3', 'PKCE', 'MOS', 'COT', 'CHK1', 'MSK1', 'TGFBR1', 'RET', 'LATS2', 'BMPR1A', 'SSTK', 'CDK2', 'MLK1', 'ULK2', 'MAP3K15', 'NIK', 'ROS', 'PRKD1', 'VRK1', 'P38A', 'MLK4', 'SMG1', 'TRKB', 'PLK2', 'BLK', 'GRK7', 'BMPR1B'}\n",
      "UniProt map server responded: 404\n",
      "{\"url\":\"http://rest.uniprot.org/idmapping/stream/674dad73a6cb1f8f1d3ec59d65c4857b16358035\",\"messages\":[\"Resource not found\"]}\n",
      "Retry 1\n",
      "UniProt map server responded: 404\n",
      "{\"url\":\"http://rest.uniprot.org/idmapping/stream/674dad73a6cb1f8f1d3ec59d65c4857b16358035\",\"messages\":[\"Resource not found\"]}\n",
      "Retry 2\n",
      "UniProt map server responded: 404\n",
      "{\"url\":\"http://rest.uniprot.org/idmapping/stream/674dad73a6cb1f8f1d3ec59d65c4857b16358035\",\"messages\":[\"Resource not found\"]}\n",
      "Retry 3\n",
      "UniProt map server responded: 404\n",
      "{\"url\":\"http://rest.uniprot.org/idmapping/stream/674dad73a6cb1f8f1d3ec59d65c4857b16358035\",\"messages\":[\"Resource not found\"]}\n",
      "Retry 4\n",
      "UniProt map server responded: 404\n",
      "{\"url\":\"http://rest.uniprot.org/idmapping/stream/674dad73a6cb1f8f1d3ec59d65c4857b16358035\",\"messages\":[\"Resource not found\"]}\n",
      "Retry 5\n",
      "Failed to get mapping results from UniProt, check connection\n"
     ]
    }
   ],
   "source": [
    "DefaultConfiguration()\n"
   ]
  },
  {
   "cell_type": "code",
   "execution_count": null,
   "metadata": {},
   "outputs": [],
   "source": [
    "data_dir = './data'\n",
    "johnson_ST_matrices_file = os.path.join(data_dir,'ST-Kinases.xlsx')\n",
    "johnson_Y_matrices_file = os.path.join(data_dir,'Y-Kinases.xlsx')\n",
    "densitometry_file = os.path.join(data_dir,'ST-Kinases_densitometry.xlsx')\n",
    "\n",
    "\n",
    "ST_matrices = PWM_Matrices(johnson_ST_matrices_file, debug=True)\n",
    "ST_matrices.add_densitometry(densitometry_file)\n",
    "\n",
    "Y_matrices = PWM_Matrices(johnson_Y_matrices_file, debug=True)\n",
    "Y_matrices_ncon = PWM_Matrices(johnson_Y_matrices_file, debug=True)\n",
    "\n",
    "st_scoring = Scoring(ST_matrices)\n",
    "y_scoring = Scoring(Y_matrices)\n",
    "\n",
    "test_seq = 'IRDGGPYGGLMPD'\n",
    "print(y_scoring.clean_sequence(test_seq))\n",
    "\n",
    "test_seq = 'RDGGPYGGLMP'\n",
    "print(y_scoring.clean_sequence(test_seq))\n",
    "\n",
    "test_seq = 'RDGGPSGGLM'\n",
    "print(st_scoring.clean_sequence(test_seq))\n",
    "\n",
    "test_seq = 'GPTSGG'\n",
    "print(st_scoring.clean_sequence(test_seq))\n",
    "\n",
    "test_seq = 'GPSYGG'\n",
    "print(y_scoring.clean_sequence(test_seq))\n",
    "\n",
    "test_seq = 'RDGGPY*GGLMP'\n",
    "print(y_scoring.clean_sequence(test_seq))\n",
    "\n",
    "test_seq = 'RDTGPS*GGLM'\n",
    "print(st_scoring.clean_sequence(test_seq))\n",
    "\n",
    "test_seq = 'GPT*SGG'\n",
    "print(st_scoring.clean_sequence(test_seq))\n",
    "\n",
    "test_seq = 'GPSY*GG'\n",
    "print(y_scoring.clean_sequence(test_seq))\n",
    "\n",
    "test_seq = 'GPSGGY*'\n",
    "print(y_scoring.clean_sequence(test_seq))\n",
    "\n",
    "print(y_scoring.score_peptide('GPSGGY_____', kinase='BLK', mode='as_is', log_score=True))\n",
    "print(st_scoring.score_peptide('RDGGPSGGLM', kinase='ERK2', mode='as_is', log_score=True))"
   ]
  },
  {
   "cell_type": "code",
   "execution_count": null,
   "metadata": {},
   "outputs": [],
   "source": [
    "ochoa_background_file = os.path.join(data_dir, 'johnson_ochoa_background_wfav.tsv')\n",
    "\n",
    "tyrosine_background_file = os.path.join(data_dir, 'johnson_tyrosine_background_wfav.tsv')\n",
    "\n",
    "ST_Background = PeptideBackground(ochoa_background_file)\n",
    "Y_Background = PeptideBackground(tyrosine_background_file)\n",
    "\n",
    "score1 = y_scoring.score_peptide('GPSGGY_____', kinase='BLK', mode='as_is')\n",
    "score2 = st_scoring.score_peptide('RDGGPSGGLM', kinase='ERK2', mode='as_is')\n",
    "\n",
    "print(ST_Background.get_percentile(score2, kinase='ERK2'))\n",
    "print(Y_Background.get_percentile(score1, kinase='BLK'))"
   ]
  },
  {
   "cell_type": "markdown",
   "metadata": {},
   "source": [
    "# Offline Experiments"
   ]
  },
  {
   "cell_type": "code",
   "execution_count": null,
   "metadata": {},
   "outputs": [],
   "source": [
    "import os\n",
    "import numpy as np\n",
    "import pandas as pd\n",
    "from kinaid.session import Session\n",
    "from kinaid.matching import MatchWithMapping, Scoring, PeptideBackground, PWM_Matrices\n",
    "from kinaid.utility import Utility\n",
    "from Bio import SeqIO as seqio\n",
    "\n",
    "\n",
    "data_dir = './data'\n",
    "test_dir = './test'\n",
    "proteomes_dir = os.path.join(test_dir, 'proteomes')\n",
    "\n",
    "if not os.path.exists(test_dir):\n",
    "    os.makedirs(test_dir)\n",
    "    \n",
    "johnson_ST_matrices_file = os.path.join(data_dir,'ST-Kinases.xlsx')\n",
    "johnson_Y_matrices_file = os.path.join(data_dir,'Y-Kinases.xlsx')\n",
    "densitometry_file = os.path.join(data_dir,'ST-Kinases_densitometry.xlsx')\n",
    "\n",
    "ST_matrices = PWM_Matrices(johnson_ST_matrices_file)\n",
    "ST_matrices.add_densitometry(densitometry_file)\n",
    "\n",
    "Y_matrices = PWM_Matrices(johnson_Y_matrices_file)\n",
    "\n",
    "st_scoring = Scoring(ST_matrices)\n",
    "y_scoring = Scoring(Y_matrices)\n",
    "\n",
    "ochoa_background_file = os.path.join(data_dir, 'johnson_ochoa_background_wfav.tsv')\n",
    "\n",
    "tyrosine_background_file = os.path.join(data_dir, 'johnson_tyrosine_background_wfav.tsv')\n",
    "\n",
    "ST_Background = PeptideBackground(ochoa_background_file)\n",
    "Y_Background = PeptideBackground(tyrosine_background_file)\n",
    "\n",
    "ortholog_manager = OrthologManager('orthologs', debug=True)\n"
   ]
  },
  {
   "cell_type": "markdown",
   "metadata": {},
   "source": [
    "## Yeast Experiments\n",
    "\n",
    "### Leutert, M., Barente, A.S., Fukuda, N.K. et al. The regulatory landscape of the yeast phosphoproteome. Nat Struct Mol Biol 30, 1761–1773 (2023)."
   ]
  },
  {
   "cell_type": "code",
   "execution_count": null,
   "metadata": {},
   "outputs": [],
   "source": [
    "\n",
    "def clean_phosphopeptides(phosphorylation_file, fasta_file, output_file) :\n",
    "    exp_df = pd.read_csv(phosphorylation_file)\n",
    "\n",
    "    #read in the fasta file\n",
    "    fasta_dict = seqio.to_dict(seqio.parse(fasta_file, 'fasta'))\n",
    "\n",
    "    exp_df = exp_df[exp_df['p_residue'].isin(['S', 'T', 'Y'])]\n",
    "\n",
    "    systematic_name_to_SGD_dict = {name:record.description.split(', ')[0].split(' ')[2] for name,record in fasta_dict.items()}\n",
    "    #systematic_name_to_SGD_dict = {name:SGD.split(':')[1] for name,SGD in systematic_name_to_SGD_dict.items()}\n",
    "\n",
    "    exp_df['SGDID'] = exp_df['systematic_name'].map(systematic_name_to_SGD_dict)\n",
    "\n",
    "    systematic_name_to_seq_dict = {name:str(record.seq) for name,record in fasta_dict.items()}\n",
    "    exp_df['sequence'] = (exp_df['systematic_name'].map(systematic_name_to_seq_dict))\n",
    "\n",
    "    #remove rows with missing sequences\n",
    "    exp_df = exp_df[~exp_df['sequence'].isna()]\n",
    "\n",
    "    #remove rows with stop codons\n",
    "    exp_df['sequence'] = exp_df['sequence'].str.rstrip('*')\n",
    "\n",
    "    #get sequence lengths\n",
    "    exp_df['seq_len'] = exp_df['sequence'].str.len()\n",
    "\n",
    "    #keep only rows where the sequence length is greater than or equal to the position of the phosphorylation site\n",
    "    exp_df = exp_df[exp_df['seq_len'] >= exp_df['p_position']]\n",
    "\n",
    "    exp_df['sanity_check'] = exp_df.apply(lambda row: row['sequence'][row['p_position']-1] == row['p_residue'], axis=1)\n",
    "    \n",
    "    exp_df = exp_df[exp_df['sanity_check']]\n",
    "\n",
    "    #if p_position is less than 6, add 5 - p_position number of _'s to the beginning of the sequence\n",
    "    exp_df['sequence'] = exp_df.apply(lambda row: '_'*(6 - row['p_position']) + row['sequence'], axis=1)\n",
    "\n",
    "    #if p_position is greater than seq_len - 6, add p_position - (seq_len - 5) number of _'s to the end of the sequence\n",
    "    exp_df['sequence'] = exp_df.apply(lambda row: row['sequence'] + '_'*(row['p_position'] - (row['seq_len'] - 5)), axis=1)\n",
    "\n",
    "    #make window around p_position if p_position is greater than 5 from p_position - 6 to p_position + 5, else from 0 to 10\n",
    "    exp_df['window'] = exp_df.apply(lambda row: row['sequence'][row['p_position']-6:row['p_position']+5] if row['p_position'] > 5 else row['sequence'][0:11], axis=1)\n",
    "\n",
    "    exp_df['adj_p_value'] = exp_df['adj_p_value'].apply(lambda x: -1*np.log10(x))\n",
    "\n",
    "    exp_df_filtered = exp_df[['SGDID', 'p_position', 'window', 'fc_log2', 'adj_p_value']].copy()\n",
    "\n",
    "    exp_df_filtered.rename(columns={'SGDID':'SGD', 'p_position':'site', 'window':'peptide', 'fc_log2':'log2fc', 'adj_p_value':'adjpvalue'}, inplace=True)\n",
    "\n",
    "    exp_df_filtered.to_csv(output_file, index=False)\n"
   ]
  },
  {
   "cell_type": "code",
   "execution_count": null,
   "metadata": {},
   "outputs": [],
   "source": [
    "published_yeast_file = 'yeast-perturbation.xlsx'\n",
    "published_yeast_path = os.path.join(test_dir, published_yeast_file)\n",
    "\n",
    "\n",
    "import gzip\n",
    "yeast_proteome_path = os.path.join(proteomes_dir, 'yeast_proteome.fasta')\n",
    "\n",
    "if not os.path.exists(proteomes_dir):\n",
    "    os.makedirs(proteomes_dir)\n",
    "    \n",
    "if not os.path.exists(yeast_proteome_path):\n",
    "    print('Downloading yeast proteome')\n",
    "    Utility.download_file('http://sgd-archive.yeastgenome.org/sequence/S288C_reference/orf_protein/orf_trans.fasta.gz', 'temp.gz')\n",
    "    with gzip.open('temp.gz', 'rb') as f_in:\n",
    "        with open(yeast_proteome_path, 'wb') as f_out:\n",
    "            f_out.write(f_in.read())\n",
    "    os.remove('temp.gz')\n",
    "    \n",
    "\n",
    "if not os.path.exists(published_yeast_path):\n",
    "    print('Downloading yeast perturbation data')\n",
    "    Utility.download_file('https://static-content.springer.com/esm/art%3A10.1038%2Fs41594-023-01115-3/MediaObjects/41594_2023_1115_MOESM9_ESM.xlsx',\n",
    "                  published_yeast_path)\n",
    "\n",
    "\n",
    "HOG1_experiment_file = os.path.join(test_dir,'HOG1_exp.csv')\n",
    "SNF1_experiment_file = os.path.join(test_dir,'SNF1_exp.csv')\n",
    "TOR1_experiment_file = os.path.join(test_dir,'TOR1_exp.csv')\n",
    "\n",
    "if not os.path.exists(HOG1_experiment_file) or not os.path.exists(SNF1_experiment_file) or not os.path.exists(TOR1_experiment_file):\n",
    "    df = pd.read_excel(published_yeast_path, sheet_name='p_site_diff_reg')\n",
    "\n",
    "\n",
    "if not os.path.exists(HOG1_experiment_file):\n",
    "    HOG1_phosphopeptides_file = 'yeast_HOG1_KC_phosphopeptides.csv'\n",
    "    HOG1_path = os.path.join(test_dir, HOG1_phosphopeptides_file)\n",
    "    df[df['treatment_id'] == 'KC'].to_csv(HOG1_path, index=False)\n",
    "    clean_phosphopeptides(HOG1_path, yeast_proteome_path, HOG1_experiment_file)\n",
    "\n",
    "if not os.path.exists(SNF1_experiment_file):\n",
    "    SNF1_phosphopeptides_file = 'yeast_SNF1_GL_phosphopeptides.csv'\n",
    "    SNF1_path = os.path.join(test_dir, SNF1_phosphopeptides_file)\n",
    "    df[df['treatment_id'] == 'GL'].to_csv(SNF1_path, index=False)\n",
    "    clean_phosphopeptides(SNF1_path, yeast_proteome_path, SNF1_experiment_file)\n",
    "\n",
    "if not os.path.exists(TOR1_experiment_file):\n",
    "    TOR1_phosphopeptides_file = 'yeast_TOR1_CS18_phosphopeptides.csv'\n",
    "    TOR1_path = os.path.join(test_dir, TOR1_phosphopeptides_file)\n",
    "    df[df['treatment_id'] == 'CS18'].to_csv(TOR1_path, index=False)\n",
    "    clean_phosphopeptides(TOR1_path, yeast_proteome_path, TOR1_experiment_file)\n",
    "\n",
    "\n",
    "\n",
    "\n"
   ]
  },
  {
   "cell_type": "code",
   "execution_count": null,
   "metadata": {},
   "outputs": [],
   "source": [
    "\n",
    "\n",
    "column_names_dict={'id':'SGD', 'site':'site', 'peptide':'peptide', 'log2fc':'log2fc', 'dependent':'adjpvalue'}\n",
    "\n",
    "\"\"\"\n",
    "yeast_orthologs_file = os.path.join('orthologs', 'yeast_orthologs_final.tsv')\n",
    "\n",
    "yeast_orthologs_df = pd.read_csv(yeast_orthologs_file, sep='\\t')\n",
    "yeast_orthologs_df = yeast_orthologs_df[yeast_orthologs_df['gene_id_type'] == 'SGD']\n",
    "\n",
    "yeast_orthologs_st_df = yeast_orthologs_df[yeast_orthologs_df['kinase_type'] == 'ST']\n",
    "yeast_mapping_st_dict = dict(zip(yeast_orthologs_st_df['symbol'], yeast_orthologs_st_df['kinase_name']))\n",
    "\n",
    "yeast_orthologs_y_df = yeast_orthologs_df[yeast_orthologs_df['kinase_type'] == 'Y']\n",
    "yeast_mapping_y_dict = dict(zip(yeast_orthologs_y_df['symbol'], yeast_orthologs_y_df['kinase_name']))\n",
    "\n",
    "print(yeast_mapping_y_dict.values())\n",
    "print(y_scoring._kinase_names)\n",
    "\n",
    "\n",
    "ST_matching = MatchWithMapping(st_scoring, ST_Background, yeast_mapping_st_dict)\n",
    "Y_matching = MatchWithMapping(y_scoring, Y_Background, yeast_mapping_y_dict)\n",
    "\"\"\"\n",
    "\n",
    "background = {'ST':ST_Background, 'Y':Y_Background}\n",
    "scoring = {'ST':st_scoring, 'Y':y_scoring}\n"
   ]
  },
  {
   "cell_type": "code",
   "execution_count": null,
   "metadata": {},
   "outputs": [],
   "source": [
    "HOG1_df = pd.read_csv(HOG1_experiment_file)\n",
    "\n",
    "#session = Session(0,'yeast', HOG1_df, column_names_dict, ST_matching, Y_matching, id_type = 'SGD', debug=True)\n",
    "session = Session(0, 'yeast', HOG1_df, column_names_dict, scoring, background, ortholog_manager, id_type='SGD', ambiguous=True, debug=True)"
   ]
  },
  {
   "cell_type": "code",
   "execution_count": null,
   "metadata": {},
   "outputs": [],
   "source": [
    "kinase_matches_df = session.get_kinase_matches_df()"
   ]
  },
  {
   "cell_type": "code",
   "execution_count": null,
   "metadata": {},
   "outputs": [],
   "source": [
    "kinase_matches_df.to_csv(os.path.join(test_dir, 'HOG1_kinase_matches.tsv'), index=False, sep='\\t')\n",
    "display(kinase_matches_df.head())"
   ]
  },
  {
   "cell_type": "code",
   "execution_count": null,
   "metadata": {},
   "outputs": [],
   "source": [
    "percentiles_st_df = session.get_percentiles_df('ST')\n",
    "percentiles_y_df = session.get_percentiles_df('Y')\n",
    "\n",
    "percentiles_st_df.to_csv(os.path.join(test_dir, 'HOG1_percentiles_ST.tsv'), index=True, sep='\\t')\n",
    "percentiles_y_df.to_csv(os.path.join(test_dir, 'HOG1_percentiles_Y.tsv'), index=True, sep='\\t')"
   ]
  },
  {
   "cell_type": "code",
   "execution_count": null,
   "metadata": {},
   "outputs": [],
   "source": [
    "barplot = session.get_counts_barplot_fig()\n",
    "\n",
    "#update the height to be 20 pixels times the number of kinases\n",
    "barplot = barplot.update_layout(height=20*len(session._all_selected_symbols))"
   ]
  },
  {
   "cell_type": "code",
   "execution_count": null,
   "metadata": {},
   "outputs": [],
   "source": [
    "display(barplot)"
   ]
  },
  {
   "cell_type": "code",
   "execution_count": null,
   "metadata": {},
   "outputs": [],
   "source": [
    "peptide_scatter = session.get_peptide_scatter_fig(selected_kinases={'PBS2', 'HOG1'})\n",
    "display(peptide_scatter)"
   ]
  },
  {
   "cell_type": "code",
   "execution_count": null,
   "metadata": {},
   "outputs": [],
   "source": [
    "heatmap_st = session.get_heatmap_fig('ST')\n",
    "heatmap_st = heatmap_st.update_layout(height=10*len(st_scoring._kinase_names))\n",
    "display(heatmap_st)\n",
    "\n",
    "heatmap_y = session.get_heatmap_fig('Y')\n",
    "display(heatmap_y)\n",
    "\n",
    "heatmap_all = session.get_all_heatmap_figs()\n",
    "heatmap_all = heatmap_all.update_layout(height=10*len(st_scoring._kinase_names))\n",
    "\n",
    "display(heatmap_all)\n"
   ]
  },
  {
   "cell_type": "code",
   "execution_count": null,
   "metadata": {},
   "outputs": [],
   "source": [
    "log2fc_df = session.get_stat_df()\n",
    "display(log2fc_df)"
   ]
  },
  {
   "cell_type": "code",
   "execution_count": null,
   "metadata": {},
   "outputs": [],
   "source": [
    "zscore_fig = session.get_zscore_fig()\n",
    "zscore_fig = zscore_fig.update_layout(height=20*len(session._all_selected_symbols))\n",
    "display(zscore_fig)\n",
    "\n",
    "zscore_fig2 = session.get_zscore_fig(combine_populations=False)\n",
    "zscore_fig2 = zscore_fig2.update_layout(height=20*len(session._all_selected_symbols))\n",
    "display(zscore_fig2)"
   ]
  },
  {
   "cell_type": "code",
   "execution_count": null,
   "metadata": {},
   "outputs": [],
   "source": [
    "kinase_scatter = session.get_kinase_scatter_fig()\n",
    "display(kinase_scatter)\n",
    "\n",
    "kinase_scatter2 = session.get_kinase_scatter_fig(combine_populations=False)\n",
    "display(kinase_scatter2)"
   ]
  },
  {
   "cell_type": "code",
   "execution_count": null,
   "metadata": {},
   "outputs": [],
   "source": [
    "network_df = session.get_network_df()\n",
    "network_df.to_csv(os.path.join(test_dir, 'HOG1_network.tsv'), index=False, sep='\\t')\n",
    "\n",
    "full_network_fig = session.get_full_kinase_network_fig()\n",
    "\n",
    "hub_network_fig = session.get_kinase_hub_fig(selected_symbols={'PBS2', 'HOG1', 'STE11'})"
   ]
  },
  {
   "cell_type": "code",
   "execution_count": null,
   "metadata": {},
   "outputs": [],
   "source": [
    "\n",
    "cyto.load_extra_layouts()\n",
    "\n",
    "app = Dash(__name__)\n",
    "\n",
    "app.layout = html.Div([\n",
    "    hub_network_fig\n",
    "])\n",
    "\n",
    "if __name__ == '__main__':\n",
    "    app.run(debug=True)"
   ]
  },
  {
   "cell_type": "code",
   "execution_count": null,
   "metadata": {},
   "outputs": [],
   "source": []
  }
 ],
 "metadata": {
  "kernelspec": {
   "display_name": "Python 3",
   "language": "python",
   "name": "python3"
  },
  "language_info": {
   "codemirror_mode": {
    "name": "ipython",
    "version": 3
   },
   "file_extension": ".py",
   "mimetype": "text/x-python",
   "name": "python",
   "nbconvert_exporter": "python",
   "pygments_lexer": "ipython3",
   "version": "3.10.7"
  }
 },
 "nbformat": 4,
 "nbformat_minor": 2
}
