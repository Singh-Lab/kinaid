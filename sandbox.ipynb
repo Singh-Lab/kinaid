{
 "cells": [
  {
   "cell_type": "code",
   "execution_count": null,
   "metadata": {
    "vscode": {
     "languageId": "bat"
    }
   },
   "outputs": [],
   "source": [
    "#initialize stuff\n",
    "\n",
    "!ls\n",
    "!mkdir data >> /dev/null\n"
   ]
  },
  {
   "cell_type": "markdown",
   "metadata": {},
   "source": [
    "# Test scoring"
   ]
  },
  {
   "cell_type": "code",
   "execution_count": 2,
   "metadata": {},
   "outputs": [],
   "source": [
    "from kinaid.matching import PWM_Matrices,Scoring,PeptideBackground\n",
    "import os\n",
    "import pandas as pd\n",
    "from tqdm.notebook import tqdm_notebook\n",
    "from kinaid.utility import DefaultConfiguration"
   ]
  },
  {
   "cell_type": "code",
   "execution_count": 3,
   "metadata": {},
   "outputs": [
    {
     "name": "stdout",
     "output_type": "stream",
     "text": [
      "Dual specificity kinases\n",
      "{'Q13873', 'Q15118', 'Q16654'}\n",
      "Ortholog database for mouse already exists\n",
      "Ortholog database for fly already exists\n",
      "Ortholog database for worm already exists\n",
      "Ortholog database for yeast already exists\n",
      "Ortholog database for zebrafish already exists\n",
      "Final ortholog database for mouse already exists\n",
      "Final ortholog database for fly already exists\n",
      "Final ortholog database for worm already exists\n",
      "Final ortholog database for yeast already exists\n",
      "Final ortholog database for zebrafish already exists\n"
     ]
    }
   ],
   "source": [
    "DefaultConfiguration()"
   ]
  },
  {
   "cell_type": "code",
   "execution_count": null,
   "metadata": {},
   "outputs": [],
   "source": [
    "data_dir = './data'\n",
    "johnson_ST_matrices_file = os.path.join(data_dir,'ST-Kinases.xlsx')\n",
    "johnson_Y_matrices_file = os.path.join(data_dir,'Y-Kinases.xlsx')\n",
    "densitometry_file = os.path.join(data_dir,'ST-Kinases_densitometry.xlsx')\n",
    "\n",
    "\n",
    "ST_matrices = PWM_Matrices(johnson_ST_matrices_file, debug=True)\n",
    "ST_matrices.add_densitometry(densitometry_file)\n",
    "\n",
    "Y_matrices = PWM_Matrices(johnson_Y_matrices_file, ignore_suffix='_TYR', debug=True)\n",
    "Y_matrices_ncon = PWM_Matrices(johnson_Y_matrices_file, debug=True)\n",
    "\n",
    "st_scoring = Scoring(ST_matrices)\n",
    "y_scoring = Scoring(Y_matrices)\n",
    "\n",
    "test_seq = 'IRDGGPYGGLMPD'\n",
    "print(y_scoring.clean_sequence(test_seq))\n",
    "\n",
    "test_seq = 'RDGGPYGGLMP'\n",
    "print(y_scoring.clean_sequence(test_seq))\n",
    "\n",
    "test_seq = 'RDGGPSGGLM'\n",
    "print(st_scoring.clean_sequence(test_seq))\n",
    "\n",
    "test_seq = 'GPTSGG'\n",
    "print(st_scoring.clean_sequence(test_seq))\n",
    "\n",
    "test_seq = 'GPSYGG'\n",
    "print(y_scoring.clean_sequence(test_seq))\n",
    "\n",
    "test_seq = 'RDGGPY*GGLMP'\n",
    "print(y_scoring.clean_sequence(test_seq))\n",
    "\n",
    "test_seq = 'RDTGPS*GGLM'\n",
    "print(st_scoring.clean_sequence(test_seq))\n",
    "\n",
    "test_seq = 'GPT*SGG'\n",
    "print(st_scoring.clean_sequence(test_seq))\n",
    "\n",
    "test_seq = 'GPSY*GG'\n",
    "print(y_scoring.clean_sequence(test_seq))\n",
    "\n",
    "test_seq = 'GPSGGY*'\n",
    "print(y_scoring.clean_sequence(test_seq))\n",
    "\n",
    "print(y_scoring.score_peptide('GPSGGY_____', kinase='BLK', mode='as_is', log_score=True))\n",
    "print(st_scoring.score_peptide('RDGGPSGGLM', kinase='ERK2', mode='as_is', log_score=True))"
   ]
  },
  {
   "cell_type": "code",
   "execution_count": null,
   "metadata": {},
   "outputs": [],
   "source": [
    "ochoa_background_file = os.path.join(data_dir, 'johnson_ochoa_background_wfav.tsv')\n",
    "\n",
    "tyrosine_background_file = os.path.join(data_dir, 'johnson_tyrosine_background_wfav.tsv')\n",
    "\n",
    "ST_Background = PeptideBackground(ochoa_background_file)\n",
    "Y_Background = PeptideBackground(tyrosine_background_file)\n",
    "\n",
    "score1 = y_scoring.score_peptide('GPSGGY_____', kinase='BLK', mode='as_is')\n",
    "score2 = st_scoring.score_peptide('RDGGPSGGLM', kinase='ERK2', mode='as_is')\n",
    "\n",
    "print(ST_Background.get_percentile(score2, kinase='ERK2'))\n",
    "print(Y_Background.get_percentile(score1, kinase='BLK'))"
   ]
  },
  {
   "cell_type": "code",
   "execution_count": null,
   "metadata": {},
   "outputs": [],
   "source": []
  }
 ],
 "metadata": {
  "kernelspec": {
   "display_name": "Python 3",
   "language": "python",
   "name": "python3"
  },
  "language_info": {
   "codemirror_mode": {
    "name": "ipython",
    "version": 3
   },
   "file_extension": ".py",
   "mimetype": "text/x-python",
   "name": "python",
   "nbconvert_exporter": "python",
   "pygments_lexer": "ipython3",
   "version": "3.10.7"
  }
 },
 "nbformat": 4,
 "nbformat_minor": 2
}
