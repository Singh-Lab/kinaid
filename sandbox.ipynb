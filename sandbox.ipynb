{
 "cells": [
  {
   "cell_type": "code",
   "execution_count": 8,
   "metadata": {
    "vscode": {
     "languageId": "bat"
    }
   },
   "outputs": [
    {
     "name": "stdout",
     "output_type": "stream",
     "text": [
      "sandbox.ipynb\n"
     ]
    }
   ],
   "source": [
    "#initialize stuff\n",
    "\n",
    "!ls\n",
    "!mkdir data >> /dev/null\n"
   ]
  },
  {
   "cell_type": "markdown",
   "metadata": {},
   "source": [
    "# Download matrices"
   ]
  },
  {
   "cell_type": "code",
   "execution_count": 4,
   "metadata": {},
   "outputs": [],
   "source": [
    "import requests\n",
    "import pandas as pd\n",
    "import os\n",
    "import numpy as np\n",
    "\n",
    "def download_file(url : str,\n",
    "                filename : str):\n",
    "    headers = {\n",
    "        'User-Agent': 'Mozilla/5.0 (Windows NT 10.0; Win64; x64) AppleWebKit/537.36 (KHTML, like Gecko) Chrome/58.0.3029.110 Safari/537.36'\n",
    "    }\n",
    "    with requests.get(url, headers=headers, stream=True) as response:\n",
    "        response.raise_for_status()\n",
    "        with open(filename, 'wb') as file:\n",
    "            for chunk in response.iter_content(chunk_size=8192): \n",
    "                if chunk: \n",
    "                    file.write(chunk)\n",
    "\n",
    "def rearrange_matrices (matrices_file : str = './out/johnson_ST_matrices.xlsx',\n",
    "                        sheet_name : str = 'ser_thr_all_norm_scaled_matrice', \n",
    "                    output_file : str = './out/ST-Kinases.xlsx', \n",
    "                    pos = ['-5', '-4', '-3', '-2', '-1', '1', '2', '3', '4']):\n",
    "    ae_df = pd.read_excel(matrices_file, engine='openpyxl', sheet_name=sheet_name)\n",
    "    #rename first column to Kinase\n",
    "    ae_df.rename(columns={ae_df.columns[0]: 'Kinase'}, inplace=True)\n",
    "    ae_df.set_index('Kinase', inplace=True)\n",
    "\n",
    "    res = ['P','G','A','C','S','T','V','I','L','M','F','Y','W','H','K','R','Q','N','D','E','s','t','y']\n",
    "\n",
    "    kinase_matrices = {}\n",
    "    for k,row in ae_df.iterrows() :\n",
    "        probs = row.to_numpy()\n",
    "        prob_matrix = np.reshape(probs, (len(pos),len(res)))\n",
    "        prob_matrix_t = prob_matrix.transpose()\n",
    "        kdf = pd.DataFrame(prob_matrix_t, columns=pos, index=res)\n",
    "        kdf.index.name = 'AA'\n",
    "        kinase_matrices[k] = kdf\n",
    "\n",
    "    with pd.ExcelWriter(output_file, engine='xlsxwriter') as writer:\n",
    "        any(df.to_excel(writer, sheet_name=k) for k, df in kinase_matrices.items())\n",
    "\n",
    "data_dir = './data'\n",
    "\n",
    "johnson_ST_matrices_url = 'https://static-content.springer.com/esm/art%3A10.1038%2Fs41586-022-05575-3/MediaObjects/41586_2022_5575_MOESM4_ESM.xlsx'\n",
    "johnson_ST_matrices_original_file = os.path.join(data_dir,'johnson_ST_matrices.xlsx')\n",
    "\n",
    "if not os.path.exists(johnson_ST_matrices_original_file):\n",
    "    download_file(johnson_ST_matrices_url, johnson_ST_matrices_original_file)\n",
    "    \n",
    "johnson_ST_matrices_file = os.path.join(data_dir,'ST-Kinases.xlsx')\n",
    "rearrange_matrices(johnson_ST_matrices_original_file, sheet_name = 'ser_thr_all_norm_scaled_matrice', output_file=johnson_ST_matrices_file)\n",
    "\n",
    "densitometry_file = os.path.join(data_dir,'ST-Kinases_densitometry.xlsx')\n",
    "rearrange_matrices(johnson_ST_matrices_original_file, sheet_name = 'ser_thr_all_raw_matrices', output_file=densitometry_file)\n",
    "\n",
    "johnson_Y_matrices_url = 'https://static-content.springer.com/esm/art%3A10.1038%2Fs41586-024-07407-y/MediaObjects/41586_2024_7407_MOESM4_ESM.xlsx'\n",
    "johnson_Y_matrices_original_file = os.path.join(data_dir,'johnson_Y_matrices.xlsx')\n",
    "\n",
    "if not os.path.exists(johnson_Y_matrices_original_file):\n",
    "    download_file(johnson_Y_matrices_url, johnson_Y_matrices_original_file)\n",
    "\n",
    "johnson_Y_matrices_file = os.path.join(data_dir,'Y-Kinases.xlsx')\n",
    "rearrange_matrices(johnson_Y_matrices_original_file, sheet_name = 'tyrosine_all_norm_scaled_matric', pos = ['-5', '-4', '-3', '-2', '-1', '1', '2', '3', '4', '5'], output_file = johnson_Y_matrices_file)\n",
    "\n",
    "ST_matrix_to_uniprot_url = 'https://static-content.springer.com/esm/art%3A10.1038%2Fs41586-022-05575-3/MediaObjects/41586_2022_5575_MOESM3_ESM.xlsx'\n",
    "ST_matrix_to_uniprot = os.path.join(data_dir,'ST-Kinases_to_Uniprot.xlsx')\n",
    "\n",
    "Y_matrix_to_uniprot_url = 'https://static-content.springer.com/esm/art%3A10.1038%2Fs41586-024-07407-y/MediaObjects/41586_2024_7407_MOESM3_ESM.xlsx'\n",
    "\n",
    "ST_matrix_to_uniprot = os.path.join(data_dir,'ST-Kinases_to_Uniprot.xlsx')\n",
    "Y_matrix_to_uniprot = os.path.join(data_dir,'Y-Kinases_to_Uniprot.xlsx')\n",
    "\n",
    "if not os.path.exists(ST_matrix_to_uniprot):\n",
    "    download_file(ST_matrix_to_uniprot_url, ST_matrix_to_uniprot)\n",
    "\n",
    "if not os.path.exists(Y_matrix_to_uniprot):\n",
    "    download_file(Y_matrix_to_uniprot_url, Y_matrix_to_uniprot)\n",
    "\n"
   ]
  },
  {
   "cell_type": "code",
   "execution_count": 1,
   "metadata": {},
   "outputs": [],
   "source": [
    "from kinaid.matching import PWM_Matrices\n",
    "import os"
   ]
  },
  {
   "cell_type": "code",
   "execution_count": 2,
   "metadata": {},
   "outputs": [
    {
     "name": "stdout",
     "output_type": "stream",
     "text": [
      "['AAK1', 'ACVR2A', 'ACVR2B', 'AKT1', 'AKT2', 'AKT3', 'ALK2', 'ALK4', 'ALPHAK3', 'AMPKA1', 'AMPKA2', 'ANKRD3', 'ASK1', 'ATM', 'ATR', 'AURA', 'AURB', 'AURC', 'BCKDK', 'BIKE', 'BMPR1A', 'BMPR1B', 'BMPR2', 'BRAF', 'BRSK1', 'BRSK2', 'BUB1', 'CAMK1A', 'CAMK1B', 'CAMK1D', 'CAMK1G', 'CAMK2A', 'CAMK2B', 'CAMK2D', 'CAMK2G', 'CAMK4', 'CAMKK1', 'CAMKK2', 'CAMLCK', 'CDC7', 'CDK1', 'CDK10', 'CDK12', 'CDK13', 'CDK14', 'CDK16', 'CDK17', 'CDK18', 'CDK19', 'CDK2', 'CDK3', 'CDK4', 'CDK5', 'CDK6', 'CDK7', 'CDK8', 'CDK9', 'CDKL1', 'CDKL5', 'CHAK1', 'CHAK2', 'CHK1', 'CHK2', 'CK1A', 'CK1A2', 'CK1D', 'CK1E', 'CK1G1', 'CK1G2', 'CK1G3', 'CK2A1', 'CK2A2', 'CLK1', 'CLK2', 'CLK3', 'CLK4', 'COT', 'CRIK', 'DAPK1', 'DAPK2', 'DAPK3', 'DCAMKL1', 'DCAMKL2', 'DLK', 'DMPK1', 'DNAPK', 'DRAK1', 'DSTYK', 'DYRK1A', 'DYRK1B', 'DYRK2', 'DYRK3', 'DYRK4', 'EEF2K', 'ERK1', 'ERK2', 'ERK5', 'ERK7', 'FAM20C', 'GAK', 'GCK', 'GCN2', 'GRK1', 'GRK2', 'GRK3', 'GRK4', 'GRK5', 'GRK6', 'GRK7', 'GSK3A', 'GSK3B', 'HASPIN', 'HGK', 'HIPK1', 'HIPK2', 'HIPK3', 'HIPK4', 'HPK1', 'HRI', 'HUNK', 'ICK', 'IKKA', 'IKKB', 'IKKE', 'IRAK1', 'IRAK4', 'IRE1', 'IRE2', 'JNK1', 'JNK2', 'JNK3', 'KHS1', 'KHS2', 'KIS', 'LATS1', 'LATS2', 'LKB1', 'LOK', 'LRRK2', 'MAK', 'MAP3K15', 'MAPKAPK2', 'MAPKAPK3', 'MAPKAPK5', 'MARK1', 'MARK2', 'MARK3', 'MARK4', 'MASTL', 'MEK1', 'MEK2', 'MEK5', 'MEKK1', 'MEKK2', 'MEKK3', 'MEKK6', 'MELK', 'MINK', 'MLK1', 'MLK2', 'MLK3', 'MLK4', 'MNK1', 'MNK2', 'MOK', 'MOS', 'MPSK1', 'MRCKA', 'MRCKB', 'MSK1', 'MSK2', 'MST1', 'MST2', 'MST3', 'MST4', 'MTOR', 'MYLK4', 'MYO3A', 'MYO3B', 'NDR1', 'NDR2', 'NEK1', 'NEK11', 'NEK2', 'NEK3', 'NEK4', 'NEK5', 'NEK6', 'NEK7', 'NEK8', 'NEK9', 'NIK', 'NIM1', 'NLK', 'NUAK1', 'NUAK2', 'OSR1', 'P38A', 'P38B', 'P38D', 'P38G', 'P70S6K', 'P70S6KB', 'P90RSK', 'PAK1', 'PAK2', 'PAK3', 'PAK4', 'PAK5', 'PAK6', 'PASK', 'PBK', 'PDHK1', 'PDHK4', 'PDK1', 'PERK', 'PHKG1', 'PHKG2', 'PIM1', 'PIM2', 'PIM3', 'PINK1', 'PKACA', 'PKACB', 'PKACG', 'PKCA', 'PKCB', 'PKCD', 'PKCE', 'PKCG', 'PKCH', 'PKCI', 'PKCT', 'PKCZ', 'PKG1', 'PKG2', 'PKN1', 'PKN2', 'PKN3', 'PKR', 'PLK1', 'PLK2', 'PLK3', 'PLK4', 'PRKD1', 'PRKD2', 'PRKD3', 'PRKX', 'PRP4', 'PRPK', 'QIK', 'QSK', 'RAF1', 'RIPK1', 'RIPK2', 'RIPK3', 'ROCK1', 'ROCK2', 'RSK2', 'RSK3', 'RSK4', 'SBK', 'SGK1', 'SGK3', 'SIK', 'SKMLCK', 'SLK', 'SMG1', 'SMMLCK', 'SNRK', 'SRPK1', 'SRPK2', 'SRPK3', 'SSTK', 'STK33', 'STLK3', 'TAK1', 'TAO1', 'TAO2', 'TAO3', 'TBK1', 'TGFBR1', 'TGFBR2', 'TLK1', 'TLK2', 'TNIK', 'TSSK1', 'TSSK2', 'TTBK1', 'TTBK2', 'TTK', 'ULK1', 'ULK2', 'VRK1', 'VRK2', 'WNK1', 'WNK3', 'WNK4', 'YANK2', 'YANK3', 'YSK1', 'YSK4', 'ZAK']\n",
      "303\n",
      "(-5, 4)\n",
      "['ABL', 'ACK', 'ALK', 'ARG', 'AXL', 'BLK', 'BRK', 'BTK', 'CSFR', 'CSK', 'CTK', 'DDR1', 'DDR2', 'EGFR', 'EPHA1', 'EPHA2', 'EPHA3', 'EPHA4', 'EPHA5', 'EPHA6', 'EPHA7', 'EPHA8', 'EPHB1', 'EPHB2', 'EPHB3', 'EPHB4', 'ETK', 'FAK', 'FER', 'FES', 'FGFR1', 'FGFR2', 'FGFR3', 'FGFR4', 'FGR', 'FLT3', 'FRK', 'FYN', 'HCK', 'HER2', 'HER4', 'IGF1R', 'INSR', 'IRR', 'ITK', 'JAK1', 'JAK2', 'JAK3', 'KIT', 'LCK', 'LTK', 'LYN', 'MER', 'MET', 'MST1R', 'MUSK', 'PDGFRA', 'PDGFRB', 'PYK2', 'RET', 'ROS', 'SRC', 'SRMS', 'SYK', 'TEC', 'TIE2', 'TNK1', 'TRKA', 'TRKB', 'TRKC', 'TXK', 'TYK2', 'TYRO3', 'VEGFR1', 'VEGFR2', 'VEGFR3', 'YES', 'ZAP70']\n",
      "78\n",
      "(-5, 5)\n",
      "['ABL', 'ACK', 'ALK', 'ARG', 'AXL', 'BLK', 'BMPR2_TYR', 'BRK', 'BTK', 'CSFR', 'CSK', 'CTK', 'DDR1', 'DDR2', 'EGFR', 'EPHA1', 'EPHA2', 'EPHA3', 'EPHA4', 'EPHA5', 'EPHA6', 'EPHA7', 'EPHA8', 'EPHB1', 'EPHB2', 'EPHB3', 'EPHB4', 'ETK', 'FAK', 'FER', 'FES', 'FGFR1', 'FGFR2', 'FGFR3', 'FGFR4', 'FGR', 'FLT3', 'FRK', 'FYN', 'HCK', 'HER2', 'HER4', 'IGF1R', 'INSR', 'IRR', 'ITK', 'JAK1', 'JAK2', 'JAK3', 'KIT', 'LCK', 'LIMK1_TYR', 'LIMK2_TYR', 'LTK', 'LYN', 'MER', 'MET', 'MKK4_TYR', 'MKK6_TYR', 'MKK7_TYR', 'MST1R', 'MUSK', 'MYT1_TYR', 'NEK10_TYR', 'PDGFRA', 'PDGFRB', 'PDHK1_TYR', 'PDHK3_TYR', 'PDHK4_TYR', 'PINK1_TYR', 'PYK2', 'RET', 'ROS', 'SRC', 'SRMS', 'SYK', 'TEC', 'TESK1_TYR', 'TIE2', 'TNK1', 'TNNI3K_TYR', 'TRKA', 'TRKB', 'TRKC', 'TXK', 'TYK2', 'TYRO3', 'VEGFR1', 'VEGFR2', 'VEGFR3', 'WEE1_TYR', 'YES', 'ZAP70']\n",
      "93\n",
      "(-5, 5)\n"
     ]
    }
   ],
   "source": [
    "data_dir = './data'\n",
    "johnson_ST_matrices_file = os.path.join(data_dir,'ST-Kinases.xlsx')\n",
    "johnson_Y_matrices_file = os.path.join(data_dir,'Y-Kinases.xlsx')\n",
    "densitometry_file = os.path.join(data_dir,'ST-Kinases_densitometry.xlsx')\n",
    "\n",
    "\n",
    "ST_matrices = PWM_Matrices(johnson_ST_matrices_file, debug=True)\n",
    "ST_matrices.add_densitometry(densitometry_file)\n",
    "\n",
    "y_matrices_con = PWM_Matrices(johnson_Y_matrices_file, ignore_suffix='_TYR', debug=True)\n",
    "y_matrices = PWM_Matrices(johnson_Y_matrices_file, debug=True)"
   ]
  },
  {
   "cell_type": "code",
   "execution_count": null,
   "metadata": {},
   "outputs": [],
   "source": []
  }
 ],
 "metadata": {
  "kernelspec": {
   "display_name": "Python 3",
   "language": "python",
   "name": "python3"
  },
  "language_info": {
   "codemirror_mode": {
    "name": "ipython",
    "version": 3
   },
   "file_extension": ".py",
   "mimetype": "text/x-python",
   "name": "python",
   "nbconvert_exporter": "python",
   "pygments_lexer": "ipython3",
   "version": "3.10.7"
  }
 },
 "nbformat": 4,
 "nbformat_minor": 2
}
