{
 "cells": [
  {
   "cell_type": "code",
   "execution_count": 1,
   "metadata": {
    "vscode": {
     "languageId": "bat"
    }
   },
   "outputs": [
    {
     "name": "stdout",
     "output_type": "stream",
     "text": [
      "LICENSE                        ortholog_specificity.ipynb\n",
      "Leutert_KC_example.csv         ortholog_specificity.ipynb_old\n",
      "README.md                      ortholog_specificity.py\n",
      "\u001b[1m\u001b[36massets\u001b[m\u001b[m                         ortholog_specificity_old.ipynb\n",
      "\u001b[1m\u001b[36mbuild\u001b[m\u001b[m                          \u001b[1m\u001b[36morthologs\u001b[m\u001b[m\n",
      "dashboard.py                   \u001b[1m\u001b[36morthologs_bak\u001b[m\u001b[m\n",
      "\u001b[1m\u001b[36mdata\u001b[m\u001b[m                           \u001b[1m\u001b[36mpapers\u001b[m\u001b[m\n",
      "\u001b[1m\u001b[36mdist\u001b[m\u001b[m                           \u001b[1m\u001b[36mproteomes_bak\u001b[m\u001b[m\n",
      "elink.dtd                      pyproject.toml\n",
      "\u001b[1m\u001b[36mextra_orthologs\u001b[m\u001b[m                sandbox.ipynb\n",
      "\u001b[1m\u001b[36mfigures\u001b[m\u001b[m                        \u001b[1m\u001b[36mspecificity\u001b[m\u001b[m\n",
      "\u001b[1m\u001b[36mkinaid\u001b[m\u001b[m                         \u001b[1m\u001b[36mspecificity_bak\u001b[m\u001b[m\n",
      "\u001b[1m\u001b[36mkinaid.egg-info\u001b[m\u001b[m                \u001b[1m\u001b[36mtest\u001b[m\u001b[m\n",
      "offline_tests.ipynb            yeast_test.ipynb\n",
      "mkdir: data: File exists\n"
     ]
    }
   ],
   "source": [
    "#initialize stuff\n",
    "\n",
    "!ls\n",
    "!mkdir data >> /dev/null\n"
   ]
  },
  {
   "cell_type": "markdown",
   "metadata": {},
   "source": [
    "# Test scoring"
   ]
  },
  {
   "cell_type": "code",
   "execution_count": 2,
   "metadata": {},
   "outputs": [],
   "source": [
    "from kinaid.matching import PWM_Matrices,Scoring,PeptideBackground\n",
    "import os\n",
    "import pandas as pd\n",
    "from tqdm.notebook import tqdm_notebook\n",
    "from kinaid.utility import Utility\n",
    "import numpy as np\n",
    "from kinaid.session import Session\n",
    "import sys\n",
    "from kinaid.ortholog import OrthologManager\n",
    "from dash import Dash, html\n",
    "import dash_cytoscape as cyto\n",
    "\n"
   ]
  },
  {
   "cell_type": "code",
   "execution_count": null,
   "metadata": {},
   "outputs": [],
   "source": [
    "Utility.DefaultConfiguration()\n"
   ]
  },
  {
   "cell_type": "code",
   "execution_count": 3,
   "metadata": {},
   "outputs": [
    {
     "name": "stdout",
     "output_type": "stream",
     "text": [
      "['AAK1', 'ACVR2A', 'ACVR2B', 'AKT1', 'AKT2', 'AKT3', 'ALK2', 'ALK4', 'ALPHAK3', 'AMPKA1', 'AMPKA2', 'ANKRD3', 'ASK1', 'ATM', 'ATR', 'AURA', 'AURB', 'AURC', 'BCKDK', 'BIKE', 'BMPR1A', 'BMPR1B', 'BMPR2', 'BRAF', 'BRSK1', 'BRSK2', 'BUB1', 'CAMK1A', 'CAMK1B', 'CAMK1D', 'CAMK1G', 'CAMK2A', 'CAMK2B', 'CAMK2D', 'CAMK2G', 'CAMK4', 'CAMKK1', 'CAMKK2', 'CAMLCK', 'CDC7', 'CDK1', 'CDK10', 'CDK12', 'CDK13', 'CDK14', 'CDK16', 'CDK17', 'CDK18', 'CDK19', 'CDK2', 'CDK3', 'CDK4', 'CDK5', 'CDK6', 'CDK7', 'CDK8', 'CDK9', 'CDKL1', 'CDKL5', 'CHAK1', 'CHAK2', 'CHK1', 'CHK2', 'CK1A', 'CK1A2', 'CK1D', 'CK1E', 'CK1G1', 'CK1G2', 'CK1G3', 'CK2A1', 'CK2A2', 'CLK1', 'CLK2', 'CLK3', 'CLK4', 'COT', 'CRIK', 'DAPK1', 'DAPK2', 'DAPK3', 'DCAMKL1', 'DCAMKL2', 'DLK', 'DMPK1', 'DNAPK', 'DRAK1', 'DSTYK', 'DYRK1A', 'DYRK1B', 'DYRK2', 'DYRK3', 'DYRK4', 'EEF2K', 'ERK1', 'ERK2', 'ERK5', 'ERK7', 'FAM20C', 'GAK', 'GCK', 'GCN2', 'GRK1', 'GRK2', 'GRK3', 'GRK4', 'GRK5', 'GRK6', 'GRK7', 'GSK3A', 'GSK3B', 'HASPIN', 'HGK', 'HIPK1', 'HIPK2', 'HIPK3', 'HIPK4', 'HPK1', 'HRI', 'HUNK', 'ICK', 'IKKA', 'IKKB', 'IKKE', 'IRAK1', 'IRAK4', 'IRE1', 'IRE2', 'JNK1', 'JNK2', 'JNK3', 'KHS1', 'KHS2', 'KIS', 'LATS1', 'LATS2', 'LKB1', 'LOK', 'LRRK2', 'MAK', 'MAP3K15', 'MAPKAPK2', 'MAPKAPK3', 'MAPKAPK5', 'MARK1', 'MARK2', 'MARK3', 'MARK4', 'MASTL', 'MEK1', 'MEK2', 'MEK5', 'MEKK1', 'MEKK2', 'MEKK3', 'MEKK6', 'MELK', 'MINK', 'MLK1', 'MLK2', 'MLK3', 'MLK4', 'MNK1', 'MNK2', 'MOK', 'MOS', 'MPSK1', 'MRCKA', 'MRCKB', 'MSK1', 'MSK2', 'MST1', 'MST2', 'MST3', 'MST4', 'MTOR', 'MYLK4', 'MYO3A', 'MYO3B', 'NDR1', 'NDR2', 'NEK1', 'NEK11', 'NEK2', 'NEK3', 'NEK4', 'NEK5', 'NEK6', 'NEK7', 'NEK8', 'NEK9', 'NIK', 'NIM1', 'NLK', 'NUAK1', 'NUAK2', 'OSR1', 'P38A', 'P38B', 'P38D', 'P38G', 'P70S6K', 'P70S6KB', 'P90RSK', 'PAK1', 'PAK2', 'PAK3', 'PAK4', 'PAK5', 'PAK6', 'PASK', 'PBK', 'PDHK1', 'PDHK4', 'PDK1', 'PERK', 'PHKG1', 'PHKG2', 'PIM1', 'PIM2', 'PIM3', 'PINK1', 'PKACA', 'PKACB', 'PKACG', 'PKCA', 'PKCB', 'PKCD', 'PKCE', 'PKCG', 'PKCH', 'PKCI', 'PKCT', 'PKCZ', 'PKG1', 'PKG2', 'PKN1', 'PKN2', 'PKN3', 'PKR', 'PLK1', 'PLK2', 'PLK3', 'PLK4', 'PRKD1', 'PRKD2', 'PRKD3', 'PRKX', 'PRP4', 'PRPK', 'QIK', 'QSK', 'RAF1', 'RIPK1', 'RIPK2', 'RIPK3', 'ROCK1', 'ROCK2', 'RSK2', 'RSK3', 'RSK4', 'SBK', 'SGK1', 'SGK3', 'SIK', 'SKMLCK', 'SLK', 'SMG1', 'SMMLCK', 'SNRK', 'SRPK1', 'SRPK2', 'SRPK3', 'SSTK', 'STK33', 'STLK3', 'TAK1', 'TAO1', 'TAO2', 'TAO3', 'TBK1', 'TGFBR1', 'TGFBR2', 'TLK1', 'TLK2', 'TNIK', 'TSSK1', 'TSSK2', 'TTBK1', 'TTBK2', 'TTK', 'ULK1', 'ULK2', 'VRK1', 'VRK2', 'WNK1', 'WNK3', 'WNK4', 'YANK2', 'YANK3', 'YSK1', 'YSK4', 'ZAK']\n",
      "303\n",
      "(-5, 4)\n",
      "['ABL', 'ACK', 'ALK', 'ARG', 'AXL', 'BLK', 'BMPR2', 'BRK', 'BTK', 'CSFR', 'CSK', 'CTK', 'DDR1', 'DDR2', 'EGFR', 'EPHA1', 'EPHA2', 'EPHA3', 'EPHA4', 'EPHA5', 'EPHA6', 'EPHA7', 'EPHA8', 'EPHB1', 'EPHB2', 'EPHB3', 'EPHB4', 'ETK', 'FAK', 'FER', 'FES', 'FGFR1', 'FGFR2', 'FGFR3', 'FGFR4', 'FGR', 'FLT3', 'FRK', 'FYN', 'HCK', 'HER2', 'HER4', 'IGF1R', 'INSR', 'IRR', 'ITK', 'JAK1', 'JAK2', 'JAK3', 'KIT', 'LCK', 'LIMK1', 'LIMK2', 'LTK', 'LYN', 'MER', 'MET', 'MKK4', 'MKK6', 'MKK7', 'MST1R', 'MUSK', 'MYT1', 'NEK10', 'PDGFRA', 'PDGFRB', 'PDHK1', 'PDHK3', 'PDHK4', 'PINK1', 'PYK2', 'RET', 'ROS', 'SRC', 'SRMS', 'SYK', 'TEC', 'TESK1', 'TIE2', 'TNK1', 'TNNI3K', 'TRKA', 'TRKB', 'TRKC', 'TXK', 'TYK2', 'TYRO3', 'VEGFR1', 'VEGFR2', 'VEGFR3', 'WEE1', 'YES', 'ZAP70']\n",
      "93\n",
      "(-5, 5)\n",
      "['ABL', 'ACK', 'ALK', 'ARG', 'AXL', 'BLK', 'BMPR2', 'BRK', 'BTK', 'CSFR', 'CSK', 'CTK', 'DDR1', 'DDR2', 'EGFR', 'EPHA1', 'EPHA2', 'EPHA3', 'EPHA4', 'EPHA5', 'EPHA6', 'EPHA7', 'EPHA8', 'EPHB1', 'EPHB2', 'EPHB3', 'EPHB4', 'ETK', 'FAK', 'FER', 'FES', 'FGFR1', 'FGFR2', 'FGFR3', 'FGFR4', 'FGR', 'FLT3', 'FRK', 'FYN', 'HCK', 'HER2', 'HER4', 'IGF1R', 'INSR', 'IRR', 'ITK', 'JAK1', 'JAK2', 'JAK3', 'KIT', 'LCK', 'LIMK1', 'LIMK2', 'LTK', 'LYN', 'MER', 'MET', 'MKK4', 'MKK6', 'MKK7', 'MST1R', 'MUSK', 'MYT1', 'NEK10', 'PDGFRA', 'PDGFRB', 'PDHK1', 'PDHK3', 'PDHK4', 'PINK1', 'PYK2', 'RET', 'ROS', 'SRC', 'SRMS', 'SYK', 'TEC', 'TESK1', 'TIE2', 'TNK1', 'TNNI3K', 'TRKA', 'TRKB', 'TRKC', 'TXK', 'TYK2', 'TYRO3', 'VEGFR1', 'VEGFR2', 'VEGFR3', 'WEE1', 'YES', 'ZAP70']\n",
      "93\n",
      "(-5, 5)\n",
      "RDGGPYGGLMP\n",
      "RDGGPYGGLMP\n",
      "RDGGPSGGLM\n",
      "__GPTSGG__\n",
      "__GPSYGG___\n",
      "RDGGPYGGLMP\n",
      "RDTGPSGGLM\n",
      "___GPTSGG_\n",
      "__GPSYGG___\n",
      "GPSGGY_____\n",
      "0.06785981986739609\n",
      "-0.35478802144036303\n"
     ]
    }
   ],
   "source": [
    "data_dir = './data'\n",
    "johnson_ST_matrices_file = os.path.join(data_dir,'ST-Kinases.xlsx')\n",
    "johnson_Y_matrices_file = os.path.join(data_dir,'Y-Kinases.xlsx')\n",
    "densitometry_file = os.path.join(data_dir,'ST-Kinases_densitometry.xlsx')\n",
    "\n",
    "\n",
    "ST_matrices = PWM_Matrices(johnson_ST_matrices_file, debug=True)\n",
    "ST_matrices.add_densitometry(densitometry_file)\n",
    "\n",
    "Y_matrices = PWM_Matrices(johnson_Y_matrices_file, debug=True)\n",
    "Y_matrices_ncon = PWM_Matrices(johnson_Y_matrices_file, debug=True)\n",
    "\n",
    "st_scoring = Scoring(ST_matrices)\n",
    "y_scoring = Scoring(Y_matrices)\n",
    "\n",
    "test_seq = 'IRDGGPYGGLMPD'\n",
    "print(y_scoring.clean_sequence(test_seq))\n",
    "\n",
    "test_seq = 'RDGGPYGGLMP'\n",
    "print(y_scoring.clean_sequence(test_seq))\n",
    "\n",
    "test_seq = 'RDGGPSGGLM'\n",
    "print(st_scoring.clean_sequence(test_seq))\n",
    "\n",
    "test_seq = 'GPTSGG'\n",
    "print(st_scoring.clean_sequence(test_seq))\n",
    "\n",
    "test_seq = 'GPSYGG'\n",
    "print(y_scoring.clean_sequence(test_seq))\n",
    "\n",
    "test_seq = 'RDGGPY*GGLMP'\n",
    "print(y_scoring.clean_sequence(test_seq))\n",
    "\n",
    "test_seq = 'RDTGPS*GGLM'\n",
    "print(st_scoring.clean_sequence(test_seq))\n",
    "\n",
    "test_seq = 'GPT*SGG'\n",
    "print(st_scoring.clean_sequence(test_seq))\n",
    "\n",
    "test_seq = 'GPSY*GG'\n",
    "print(y_scoring.clean_sequence(test_seq))\n",
    "\n",
    "test_seq = 'GPSGGY*'\n",
    "print(y_scoring.clean_sequence(test_seq))\n",
    "\n",
    "print(y_scoring.score_peptide('GPSGGY_____', kinase='BLK', mode='as_is', log_score=True))\n",
    "print(st_scoring.score_peptide('RDGGPSGGLM', kinase='ERK2', mode='as_is', log_score=True))"
   ]
  },
  {
   "cell_type": "code",
   "execution_count": null,
   "metadata": {},
   "outputs": [
    {
     "name": "stdout",
     "output_type": "stream",
     "text": [
      "['AAK1', 'ACVR2A', 'ACVR2B', 'AKT1', 'AKT2', 'AKT3', 'ALK2', 'ALK4', 'ALPHAK3', 'AMPKA1', 'AMPKA2', 'ANKRD3', 'ASK1', 'ATM', 'ATR', 'AURA', 'AURB', 'AURC', 'BCKDK', 'BIKE', 'BMPR1A', 'BMPR1B', 'BMPR2', 'BRAF', 'BRSK1', 'BRSK2', 'BUB1', 'CAMK1A', 'CAMK1B', 'CAMK1D', 'CAMK1G', 'CAMK2A', 'CAMK2B', 'CAMK2D', 'CAMK2G', 'CAMK4', 'CAMKK1', 'CAMKK2', 'CAMLCK', 'CDC7', 'CDK1', 'CDK10', 'CDK12', 'CDK13', 'CDK14', 'CDK16', 'CDK17', 'CDK18', 'CDK19', 'CDK2', 'CDK3', 'CDK4', 'CDK5', 'CDK6', 'CDK7', 'CDK8', 'CDK9', 'CDKL1', 'CDKL5', 'CHAK1', 'CHAK2', 'CHK1', 'CHK2', 'CK1A', 'CK1A2', 'CK1D', 'CK1E', 'CK1G1', 'CK1G2', 'CK1G3', 'CK2A1', 'CK2A2', 'CLK1', 'CLK2', 'CLK3', 'CLK4', 'COT', 'CRIK', 'DAPK1', 'DAPK2', 'DAPK3', 'DCAMKL1', 'DCAMKL2', 'DLK', 'DMPK1', 'DNAPK', 'DRAK1', 'DSTYK', 'DYRK1A', 'DYRK1B', 'DYRK2', 'DYRK3', 'DYRK4', 'EEF2K', 'ERK1', 'ERK2', 'ERK5', 'ERK7', 'FAM20C', 'GAK', 'GCK', 'GCN2', 'GRK1', 'GRK2', 'GRK3', 'GRK4', 'GRK5', 'GRK6', 'GRK7', 'GSK3A', 'GSK3B', 'HASPIN', 'HGK', 'HIPK1', 'HIPK2', 'HIPK3', 'HIPK4', 'HPK1', 'HRI', 'HUNK', 'ICK', 'IKKA', 'IKKB', 'IKKE', 'IRAK1', 'IRAK4', 'IRE1', 'IRE2', 'JNK1', 'JNK2', 'JNK3', 'KHS1', 'KHS2', 'KIS', 'LATS1', 'LATS2', 'LKB1', 'LOK', 'LRRK2', 'MAK', 'MAP3K15', 'MAPKAPK2', 'MAPKAPK3', 'MAPKAPK5', 'MARK1', 'MARK2', 'MARK3', 'MARK4', 'MASTL', 'MEK1', 'MEK2', 'MEK5', 'MEKK1', 'MEKK2', 'MEKK3', 'MEKK6', 'MELK', 'MINK', 'MLK1', 'MLK2', 'MLK3', 'MLK4', 'MNK1', 'MNK2', 'MOK', 'MOS', 'MPSK1', 'MRCKA', 'MRCKB', 'MSK1', 'MSK2', 'MST1', 'MST2', 'MST3', 'MST4', 'MTOR', 'MYLK4', 'MYO3A', 'MYO3B', 'NDR1', 'NDR2', 'NEK1', 'NEK11', 'NEK2', 'NEK3', 'NEK4', 'NEK5', 'NEK6', 'NEK7', 'NEK8', 'NEK9', 'NIK', 'NIM1', 'NLK', 'NUAK1', 'NUAK2', 'OSR1', 'P38A', 'P38B', 'P38D', 'P38G', 'P70S6K', 'P70S6KB', 'P90RSK', 'PAK1', 'PAK2', 'PAK3', 'PAK4', 'PAK5', 'PAK6', 'PASK', 'PBK', 'PDHK1', 'PDHK4', 'PDK1', 'PERK', 'PHKG1', 'PHKG2', 'PIM1', 'PIM2', 'PIM3', 'PINK1', 'PKACA', 'PKACB', 'PKACG', 'PKCA', 'PKCB', 'PKCD', 'PKCE', 'PKCG', 'PKCH', 'PKCI', 'PKCT', 'PKCZ', 'PKG1', 'PKG2', 'PKN1', 'PKN2', 'PKN3', 'PKR', 'PLK1', 'PLK2', 'PLK3', 'PLK4', 'PRKD1', 'PRKD2', 'PRKD3', 'PRKX', 'PRP4', 'PRPK', 'QIK', 'QSK', 'RAF1', 'RIPK1', 'RIPK2', 'RIPK3', 'ROCK1', 'ROCK2', 'RSK2', 'RSK3', 'RSK4', 'SBK', 'SGK1', 'SGK3', 'SIK', 'SKMLCK', 'SLK', 'SMG1', 'SMMLCK', 'SNRK', 'SRPK1', 'SRPK2', 'SRPK3', 'SSTK', 'STK33', 'STLK3', 'TAK1', 'TAO1', 'TAO2', 'TAO3', 'TBK1', 'TGFBR1', 'TGFBR2', 'TLK1', 'TLK2', 'TNIK', 'TSSK1', 'TSSK2', 'TTBK1', 'TTBK2', 'TTK', 'ULK1', 'ULK2', 'VRK1', 'VRK2', 'WNK1', 'WNK3', 'WNK4', 'YANK2', 'YANK3', 'YSK1', 'YSK4', 'ZAK']\n",
      "303\n",
      "89784\n"
     ]
    },
    {
     "ename": "FileNotFoundError",
     "evalue": "[Errno 2] No such file or directory: './data/johnson_tyrosine_background_wfav.tsv'",
     "output_type": "error",
     "traceback": [
      "\u001b[0;31m---------------------------------------------------------------------------\u001b[0m",
      "\u001b[0;31mFileNotFoundError\u001b[0m                         Traceback (most recent call last)",
      "Cell \u001b[0;32mIn[4], line 6\u001b[0m\n\u001b[1;32m      3\u001b[0m tyrosine_background_file \u001b[38;5;241m=\u001b[39m os\u001b[38;5;241m.\u001b[39mpath\u001b[38;5;241m.\u001b[39mjoin(data_dir, \u001b[38;5;124m'\u001b[39m\u001b[38;5;124mjohnson_tyrosine_background_wfav.tsv\u001b[39m\u001b[38;5;124m'\u001b[39m)\n\u001b[1;32m      5\u001b[0m ST_Background \u001b[38;5;241m=\u001b[39m PeptideBackground(ochoa_background_file, debug\u001b[38;5;241m=\u001b[39m\u001b[38;5;28;01mTrue\u001b[39;00m)\n\u001b[0;32m----> 6\u001b[0m Y_Background \u001b[38;5;241m=\u001b[39m \u001b[43mPeptideBackground\u001b[49m\u001b[43m(\u001b[49m\u001b[43mtyrosine_background_file\u001b[49m\u001b[43m,\u001b[49m\u001b[43m \u001b[49m\u001b[43mdebug\u001b[49m\u001b[38;5;241;43m=\u001b[39;49m\u001b[38;5;28;43;01mTrue\u001b[39;49;00m\u001b[43m)\u001b[49m\n\u001b[1;32m      8\u001b[0m score1 \u001b[38;5;241m=\u001b[39m y_scoring\u001b[38;5;241m.\u001b[39mscore_peptide(\u001b[38;5;124m'\u001b[39m\u001b[38;5;124mGPSGGY_____\u001b[39m\u001b[38;5;124m'\u001b[39m, kinase\u001b[38;5;241m=\u001b[39m\u001b[38;5;124m'\u001b[39m\u001b[38;5;124mBLK\u001b[39m\u001b[38;5;124m'\u001b[39m, mode\u001b[38;5;241m=\u001b[39m\u001b[38;5;124m'\u001b[39m\u001b[38;5;124mas_is\u001b[39m\u001b[38;5;124m'\u001b[39m)\n\u001b[1;32m      9\u001b[0m score2 \u001b[38;5;241m=\u001b[39m st_scoring\u001b[38;5;241m.\u001b[39mscore_peptide(\u001b[38;5;124m'\u001b[39m\u001b[38;5;124mRDGGPSGGLM\u001b[39m\u001b[38;5;124m'\u001b[39m, kinase\u001b[38;5;241m=\u001b[39m\u001b[38;5;124m'\u001b[39m\u001b[38;5;124mERK2\u001b[39m\u001b[38;5;124m'\u001b[39m, mode\u001b[38;5;241m=\u001b[39m\u001b[38;5;124m'\u001b[39m\u001b[38;5;124mas_is\u001b[39m\u001b[38;5;124m'\u001b[39m)\n",
      "File \u001b[0;32m~/Documents/Research/kinaid/kinaid/matching.py:287\u001b[0m, in \u001b[0;36mPeptideBackground.__init__\u001b[0;34m(self, background_file, debug)\u001b[0m\n\u001b[1;32m    286\u001b[0m \u001b[38;5;28;01mdef\u001b[39;00m \u001b[38;5;21m__init__\u001b[39m(\u001b[38;5;28mself\u001b[39m, background_file : \u001b[38;5;28mstr\u001b[39m, debug : \u001b[38;5;28mbool\u001b[39m \u001b[38;5;241m=\u001b[39m \u001b[38;5;28;01mFalse\u001b[39;00m) :\n\u001b[0;32m--> 287\u001b[0m     df \u001b[38;5;241m=\u001b[39m \u001b[43mpd\u001b[49m\u001b[38;5;241;43m.\u001b[39;49m\u001b[43mread_csv\u001b[49m\u001b[43m(\u001b[49m\u001b[43mbackground_file\u001b[49m\u001b[43m,\u001b[49m\u001b[43m \u001b[49m\u001b[43msep\u001b[49m\u001b[43m \u001b[49m\u001b[38;5;241;43m=\u001b[39;49m\u001b[43m \u001b[49m\u001b[38;5;124;43m'\u001b[39;49m\u001b[38;5;130;43;01m\\t\u001b[39;49;00m\u001b[38;5;124;43m'\u001b[39;49m\u001b[43m,\u001b[49m\u001b[43m \u001b[49m\u001b[43musecols\u001b[49m\u001b[38;5;241;43m=\u001b[39;49m\u001b[38;5;28;43;01mlambda\u001b[39;49;00m\u001b[43m \u001b[49m\u001b[43mx\u001b[49m\u001b[43m:\u001b[49m\u001b[43m \u001b[49m\u001b[43mx\u001b[49m\u001b[43m \u001b[49m\u001b[38;5;129;43;01mnot\u001b[39;49;00m\u001b[43m \u001b[49m\u001b[38;5;129;43;01min\u001b[39;49;00m\u001b[43m \u001b[49m\u001b[43m{\u001b[49m\u001b[38;5;124;43m'\u001b[39;49m\u001b[38;5;124;43msequence\u001b[39;49m\u001b[38;5;124;43m'\u001b[39;49m\u001b[43m,\u001b[49m\u001b[43m \u001b[49m\u001b[38;5;124;43m'\u001b[39;49m\u001b[38;5;124;43mclean_seq\u001b[39;49m\u001b[38;5;124;43m'\u001b[39;49m\u001b[43m}\u001b[49m\u001b[43m)\u001b[49m\n\u001b[1;32m    288\u001b[0m     \u001b[38;5;28mself\u001b[39m\u001b[38;5;241m.\u001b[39m_background_size \u001b[38;5;241m=\u001b[39m \u001b[38;5;28mlen\u001b[39m(df)\n\u001b[1;32m    289\u001b[0m     kinase_names \u001b[38;5;241m=\u001b[39m \u001b[38;5;28mlist\u001b[39m(df\u001b[38;5;241m.\u001b[39mcolumns)\n",
      "File \u001b[0;32m/Library/Frameworks/Python.framework/Versions/3.10/lib/python3.10/site-packages/pandas/io/parsers/readers.py:1026\u001b[0m, in \u001b[0;36mread_csv\u001b[0;34m(filepath_or_buffer, sep, delimiter, header, names, index_col, usecols, dtype, engine, converters, true_values, false_values, skipinitialspace, skiprows, skipfooter, nrows, na_values, keep_default_na, na_filter, verbose, skip_blank_lines, parse_dates, infer_datetime_format, keep_date_col, date_parser, date_format, dayfirst, cache_dates, iterator, chunksize, compression, thousands, decimal, lineterminator, quotechar, quoting, doublequote, escapechar, comment, encoding, encoding_errors, dialect, on_bad_lines, delim_whitespace, low_memory, memory_map, float_precision, storage_options, dtype_backend)\u001b[0m\n\u001b[1;32m   1013\u001b[0m kwds_defaults \u001b[38;5;241m=\u001b[39m _refine_defaults_read(\n\u001b[1;32m   1014\u001b[0m     dialect,\n\u001b[1;32m   1015\u001b[0m     delimiter,\n\u001b[0;32m   (...)\u001b[0m\n\u001b[1;32m   1022\u001b[0m     dtype_backend\u001b[38;5;241m=\u001b[39mdtype_backend,\n\u001b[1;32m   1023\u001b[0m )\n\u001b[1;32m   1024\u001b[0m kwds\u001b[38;5;241m.\u001b[39mupdate(kwds_defaults)\n\u001b[0;32m-> 1026\u001b[0m \u001b[38;5;28;01mreturn\u001b[39;00m \u001b[43m_read\u001b[49m\u001b[43m(\u001b[49m\u001b[43mfilepath_or_buffer\u001b[49m\u001b[43m,\u001b[49m\u001b[43m \u001b[49m\u001b[43mkwds\u001b[49m\u001b[43m)\u001b[49m\n",
      "File \u001b[0;32m/Library/Frameworks/Python.framework/Versions/3.10/lib/python3.10/site-packages/pandas/io/parsers/readers.py:620\u001b[0m, in \u001b[0;36m_read\u001b[0;34m(filepath_or_buffer, kwds)\u001b[0m\n\u001b[1;32m    617\u001b[0m _validate_names(kwds\u001b[38;5;241m.\u001b[39mget(\u001b[38;5;124m\"\u001b[39m\u001b[38;5;124mnames\u001b[39m\u001b[38;5;124m\"\u001b[39m, \u001b[38;5;28;01mNone\u001b[39;00m))\n\u001b[1;32m    619\u001b[0m \u001b[38;5;66;03m# Create the parser.\u001b[39;00m\n\u001b[0;32m--> 620\u001b[0m parser \u001b[38;5;241m=\u001b[39m \u001b[43mTextFileReader\u001b[49m\u001b[43m(\u001b[49m\u001b[43mfilepath_or_buffer\u001b[49m\u001b[43m,\u001b[49m\u001b[43m \u001b[49m\u001b[38;5;241;43m*\u001b[39;49m\u001b[38;5;241;43m*\u001b[39;49m\u001b[43mkwds\u001b[49m\u001b[43m)\u001b[49m\n\u001b[1;32m    622\u001b[0m \u001b[38;5;28;01mif\u001b[39;00m chunksize \u001b[38;5;129;01mor\u001b[39;00m iterator:\n\u001b[1;32m    623\u001b[0m     \u001b[38;5;28;01mreturn\u001b[39;00m parser\n",
      "File \u001b[0;32m/Library/Frameworks/Python.framework/Versions/3.10/lib/python3.10/site-packages/pandas/io/parsers/readers.py:1620\u001b[0m, in \u001b[0;36mTextFileReader.__init__\u001b[0;34m(self, f, engine, **kwds)\u001b[0m\n\u001b[1;32m   1617\u001b[0m     \u001b[38;5;28mself\u001b[39m\u001b[38;5;241m.\u001b[39moptions[\u001b[38;5;124m\"\u001b[39m\u001b[38;5;124mhas_index_names\u001b[39m\u001b[38;5;124m\"\u001b[39m] \u001b[38;5;241m=\u001b[39m kwds[\u001b[38;5;124m\"\u001b[39m\u001b[38;5;124mhas_index_names\u001b[39m\u001b[38;5;124m\"\u001b[39m]\n\u001b[1;32m   1619\u001b[0m \u001b[38;5;28mself\u001b[39m\u001b[38;5;241m.\u001b[39mhandles: IOHandles \u001b[38;5;241m|\u001b[39m \u001b[38;5;28;01mNone\u001b[39;00m \u001b[38;5;241m=\u001b[39m \u001b[38;5;28;01mNone\u001b[39;00m\n\u001b[0;32m-> 1620\u001b[0m \u001b[38;5;28mself\u001b[39m\u001b[38;5;241m.\u001b[39m_engine \u001b[38;5;241m=\u001b[39m \u001b[38;5;28;43mself\u001b[39;49m\u001b[38;5;241;43m.\u001b[39;49m\u001b[43m_make_engine\u001b[49m\u001b[43m(\u001b[49m\u001b[43mf\u001b[49m\u001b[43m,\u001b[49m\u001b[43m \u001b[49m\u001b[38;5;28;43mself\u001b[39;49m\u001b[38;5;241;43m.\u001b[39;49m\u001b[43mengine\u001b[49m\u001b[43m)\u001b[49m\n",
      "File \u001b[0;32m/Library/Frameworks/Python.framework/Versions/3.10/lib/python3.10/site-packages/pandas/io/parsers/readers.py:1880\u001b[0m, in \u001b[0;36mTextFileReader._make_engine\u001b[0;34m(self, f, engine)\u001b[0m\n\u001b[1;32m   1878\u001b[0m     \u001b[38;5;28;01mif\u001b[39;00m \u001b[38;5;124m\"\u001b[39m\u001b[38;5;124mb\u001b[39m\u001b[38;5;124m\"\u001b[39m \u001b[38;5;129;01mnot\u001b[39;00m \u001b[38;5;129;01min\u001b[39;00m mode:\n\u001b[1;32m   1879\u001b[0m         mode \u001b[38;5;241m+\u001b[39m\u001b[38;5;241m=\u001b[39m \u001b[38;5;124m\"\u001b[39m\u001b[38;5;124mb\u001b[39m\u001b[38;5;124m\"\u001b[39m\n\u001b[0;32m-> 1880\u001b[0m \u001b[38;5;28mself\u001b[39m\u001b[38;5;241m.\u001b[39mhandles \u001b[38;5;241m=\u001b[39m \u001b[43mget_handle\u001b[49m\u001b[43m(\u001b[49m\n\u001b[1;32m   1881\u001b[0m \u001b[43m    \u001b[49m\u001b[43mf\u001b[49m\u001b[43m,\u001b[49m\n\u001b[1;32m   1882\u001b[0m \u001b[43m    \u001b[49m\u001b[43mmode\u001b[49m\u001b[43m,\u001b[49m\n\u001b[1;32m   1883\u001b[0m \u001b[43m    \u001b[49m\u001b[43mencoding\u001b[49m\u001b[38;5;241;43m=\u001b[39;49m\u001b[38;5;28;43mself\u001b[39;49m\u001b[38;5;241;43m.\u001b[39;49m\u001b[43moptions\u001b[49m\u001b[38;5;241;43m.\u001b[39;49m\u001b[43mget\u001b[49m\u001b[43m(\u001b[49m\u001b[38;5;124;43m\"\u001b[39;49m\u001b[38;5;124;43mencoding\u001b[39;49m\u001b[38;5;124;43m\"\u001b[39;49m\u001b[43m,\u001b[49m\u001b[43m \u001b[49m\u001b[38;5;28;43;01mNone\u001b[39;49;00m\u001b[43m)\u001b[49m\u001b[43m,\u001b[49m\n\u001b[1;32m   1884\u001b[0m \u001b[43m    \u001b[49m\u001b[43mcompression\u001b[49m\u001b[38;5;241;43m=\u001b[39;49m\u001b[38;5;28;43mself\u001b[39;49m\u001b[38;5;241;43m.\u001b[39;49m\u001b[43moptions\u001b[49m\u001b[38;5;241;43m.\u001b[39;49m\u001b[43mget\u001b[49m\u001b[43m(\u001b[49m\u001b[38;5;124;43m\"\u001b[39;49m\u001b[38;5;124;43mcompression\u001b[39;49m\u001b[38;5;124;43m\"\u001b[39;49m\u001b[43m,\u001b[49m\u001b[43m \u001b[49m\u001b[38;5;28;43;01mNone\u001b[39;49;00m\u001b[43m)\u001b[49m\u001b[43m,\u001b[49m\n\u001b[1;32m   1885\u001b[0m \u001b[43m    \u001b[49m\u001b[43mmemory_map\u001b[49m\u001b[38;5;241;43m=\u001b[39;49m\u001b[38;5;28;43mself\u001b[39;49m\u001b[38;5;241;43m.\u001b[39;49m\u001b[43moptions\u001b[49m\u001b[38;5;241;43m.\u001b[39;49m\u001b[43mget\u001b[49m\u001b[43m(\u001b[49m\u001b[38;5;124;43m\"\u001b[39;49m\u001b[38;5;124;43mmemory_map\u001b[39;49m\u001b[38;5;124;43m\"\u001b[39;49m\u001b[43m,\u001b[49m\u001b[43m \u001b[49m\u001b[38;5;28;43;01mFalse\u001b[39;49;00m\u001b[43m)\u001b[49m\u001b[43m,\u001b[49m\n\u001b[1;32m   1886\u001b[0m \u001b[43m    \u001b[49m\u001b[43mis_text\u001b[49m\u001b[38;5;241;43m=\u001b[39;49m\u001b[43mis_text\u001b[49m\u001b[43m,\u001b[49m\n\u001b[1;32m   1887\u001b[0m \u001b[43m    \u001b[49m\u001b[43merrors\u001b[49m\u001b[38;5;241;43m=\u001b[39;49m\u001b[38;5;28;43mself\u001b[39;49m\u001b[38;5;241;43m.\u001b[39;49m\u001b[43moptions\u001b[49m\u001b[38;5;241;43m.\u001b[39;49m\u001b[43mget\u001b[49m\u001b[43m(\u001b[49m\u001b[38;5;124;43m\"\u001b[39;49m\u001b[38;5;124;43mencoding_errors\u001b[39;49m\u001b[38;5;124;43m\"\u001b[39;49m\u001b[43m,\u001b[49m\u001b[43m \u001b[49m\u001b[38;5;124;43m\"\u001b[39;49m\u001b[38;5;124;43mstrict\u001b[39;49m\u001b[38;5;124;43m\"\u001b[39;49m\u001b[43m)\u001b[49m\u001b[43m,\u001b[49m\n\u001b[1;32m   1888\u001b[0m \u001b[43m    \u001b[49m\u001b[43mstorage_options\u001b[49m\u001b[38;5;241;43m=\u001b[39;49m\u001b[38;5;28;43mself\u001b[39;49m\u001b[38;5;241;43m.\u001b[39;49m\u001b[43moptions\u001b[49m\u001b[38;5;241;43m.\u001b[39;49m\u001b[43mget\u001b[49m\u001b[43m(\u001b[49m\u001b[38;5;124;43m\"\u001b[39;49m\u001b[38;5;124;43mstorage_options\u001b[39;49m\u001b[38;5;124;43m\"\u001b[39;49m\u001b[43m,\u001b[49m\u001b[43m \u001b[49m\u001b[38;5;28;43;01mNone\u001b[39;49;00m\u001b[43m)\u001b[49m\u001b[43m,\u001b[49m\n\u001b[1;32m   1889\u001b[0m \u001b[43m\u001b[49m\u001b[43m)\u001b[49m\n\u001b[1;32m   1890\u001b[0m \u001b[38;5;28;01massert\u001b[39;00m \u001b[38;5;28mself\u001b[39m\u001b[38;5;241m.\u001b[39mhandles \u001b[38;5;129;01mis\u001b[39;00m \u001b[38;5;129;01mnot\u001b[39;00m \u001b[38;5;28;01mNone\u001b[39;00m\n\u001b[1;32m   1891\u001b[0m f \u001b[38;5;241m=\u001b[39m \u001b[38;5;28mself\u001b[39m\u001b[38;5;241m.\u001b[39mhandles\u001b[38;5;241m.\u001b[39mhandle\n",
      "File \u001b[0;32m/Library/Frameworks/Python.framework/Versions/3.10/lib/python3.10/site-packages/pandas/io/common.py:873\u001b[0m, in \u001b[0;36mget_handle\u001b[0;34m(path_or_buf, mode, encoding, compression, memory_map, is_text, errors, storage_options)\u001b[0m\n\u001b[1;32m    868\u001b[0m \u001b[38;5;28;01melif\u001b[39;00m \u001b[38;5;28misinstance\u001b[39m(handle, \u001b[38;5;28mstr\u001b[39m):\n\u001b[1;32m    869\u001b[0m     \u001b[38;5;66;03m# Check whether the filename is to be opened in binary mode.\u001b[39;00m\n\u001b[1;32m    870\u001b[0m     \u001b[38;5;66;03m# Binary mode does not support 'encoding' and 'newline'.\u001b[39;00m\n\u001b[1;32m    871\u001b[0m     \u001b[38;5;28;01mif\u001b[39;00m ioargs\u001b[38;5;241m.\u001b[39mencoding \u001b[38;5;129;01mand\u001b[39;00m \u001b[38;5;124m\"\u001b[39m\u001b[38;5;124mb\u001b[39m\u001b[38;5;124m\"\u001b[39m \u001b[38;5;129;01mnot\u001b[39;00m \u001b[38;5;129;01min\u001b[39;00m ioargs\u001b[38;5;241m.\u001b[39mmode:\n\u001b[1;32m    872\u001b[0m         \u001b[38;5;66;03m# Encoding\u001b[39;00m\n\u001b[0;32m--> 873\u001b[0m         handle \u001b[38;5;241m=\u001b[39m \u001b[38;5;28;43mopen\u001b[39;49m\u001b[43m(\u001b[49m\n\u001b[1;32m    874\u001b[0m \u001b[43m            \u001b[49m\u001b[43mhandle\u001b[49m\u001b[43m,\u001b[49m\n\u001b[1;32m    875\u001b[0m \u001b[43m            \u001b[49m\u001b[43mioargs\u001b[49m\u001b[38;5;241;43m.\u001b[39;49m\u001b[43mmode\u001b[49m\u001b[43m,\u001b[49m\n\u001b[1;32m    876\u001b[0m \u001b[43m            \u001b[49m\u001b[43mencoding\u001b[49m\u001b[38;5;241;43m=\u001b[39;49m\u001b[43mioargs\u001b[49m\u001b[38;5;241;43m.\u001b[39;49m\u001b[43mencoding\u001b[49m\u001b[43m,\u001b[49m\n\u001b[1;32m    877\u001b[0m \u001b[43m            \u001b[49m\u001b[43merrors\u001b[49m\u001b[38;5;241;43m=\u001b[39;49m\u001b[43merrors\u001b[49m\u001b[43m,\u001b[49m\n\u001b[1;32m    878\u001b[0m \u001b[43m            \u001b[49m\u001b[43mnewline\u001b[49m\u001b[38;5;241;43m=\u001b[39;49m\u001b[38;5;124;43m\"\u001b[39;49m\u001b[38;5;124;43m\"\u001b[39;49m\u001b[43m,\u001b[49m\n\u001b[1;32m    879\u001b[0m \u001b[43m        \u001b[49m\u001b[43m)\u001b[49m\n\u001b[1;32m    880\u001b[0m     \u001b[38;5;28;01melse\u001b[39;00m:\n\u001b[1;32m    881\u001b[0m         \u001b[38;5;66;03m# Binary mode\u001b[39;00m\n\u001b[1;32m    882\u001b[0m         handle \u001b[38;5;241m=\u001b[39m \u001b[38;5;28mopen\u001b[39m(handle, ioargs\u001b[38;5;241m.\u001b[39mmode)\n",
      "\u001b[0;31mFileNotFoundError\u001b[0m: [Errno 2] No such file or directory: './data/johnson_tyrosine_background_wfav.tsv'"
     ]
    }
   ],
   "source": [
    "ochoa_background_file = os.path.join(data_dir, 'johnson_ochoa_background_wfav.tsv')\n",
    "\n",
    "tyrosine_background_file = os.path.join(data_dir, 'johnson_tyrosine_background.tsv')\n",
    "\n",
    "ST_Background = PeptideBackground(ochoa_background_file, debug=True)\n",
    "Y_Background = PeptideBackground(tyrosine_background_file, debug=True)\n",
    "\n",
    "score1 = y_scoring.score_peptide('GPSGGY_____', kinase='BLK', mode='as_is')\n",
    "score2 = st_scoring.score_peptide('RDGGPSGGLM', kinase='ERK2', mode='as_is')\n",
    "\n",
    "print(ST_Background.get_percentile(score2, kinase='ERK2'))\n",
    "print(Y_Background.get_percentile(score1, kinase='BLK'))\n",
    "\n",
    "score3 = y_scoring.score_peptide('PQMTGYVSTRY', kinase='MKK6', mode='as_is')\n",
    "print(Y_Background.get_percentile(score3, kinase='MKK6'))"
   ]
  },
  {
   "cell_type": "code",
   "execution_count": null,
   "metadata": {},
   "outputs": [],
   "source": [
    "ortholog_manager = OrthologManager('orthologs', debug=True)\n",
    "\n",
    "ortholog_manager_extra = OrthologManager('extra_orthologs', debug=True)\n"
   ]
  },
  {
   "cell_type": "markdown",
   "metadata": {},
   "source": [
    "# Offline Experiments"
   ]
  },
  {
   "cell_type": "code",
   "execution_count": null,
   "metadata": {},
   "outputs": [],
   "source": [
    "import os\n",
    "import numpy as np\n",
    "import pandas as pd\n",
    "from kinaid.session import Session\n",
    "from kinaid.matching import MatchWithMapping, Scoring, PeptideBackground, PWM_Matrices\n",
    "from kinaid.utility import Utility\n",
    "from kinaid.ortholog import OrthologManager\n",
    "from Bio import SeqIO as seqio\n",
    "\n",
    "\n",
    "data_dir = './data'\n",
    "test_dir = './test'\n",
    "proteomes_dir = os.path.join(test_dir, 'proteomes')\n",
    "\n",
    "if not os.path.exists(test_dir):\n",
    "    os.makedirs(test_dir)\n",
    "    \n",
    "johnson_ST_matrices_file = os.path.join(data_dir,'ST-Kinases.xlsx')\n",
    "johnson_Y_matrices_file = os.path.join(data_dir,'Y-Kinases.xlsx')\n",
    "densitometry_file = os.path.join(data_dir,'ST-Kinases_densitometry.xlsx')\n",
    "\n",
    "ST_matrices = PWM_Matrices(johnson_ST_matrices_file)\n",
    "ST_matrices.add_densitometry(densitometry_file)\n",
    "\n",
    "Y_matrices = PWM_Matrices(johnson_Y_matrices_file)\n",
    "\n",
    "st_scoring = Scoring(ST_matrices)\n",
    "y_scoring = Scoring(Y_matrices)\n",
    "\n",
    "ochoa_background_file = os.path.join(data_dir, 'johnson_ochoa_background_wfav.tsv')\n",
    "\n",
    "tyrosine_background_file = os.path.join(data_dir, 'johnson_tyrosine_background_wfav.tsv')\n",
    "\n",
    "ST_Background = PeptideBackground(ochoa_background_file)\n",
    "Y_Background = PeptideBackground(tyrosine_background_file)\n",
    "\n",
    "ortholog_manager = OrthologManager('orthologs', debug=True)\n"
   ]
  },
  {
   "cell_type": "markdown",
   "metadata": {},
   "source": [
    "## Yeast Experiments\n",
    "\n",
    "### Leutert, M., Barente, A.S., Fukuda, N.K. et al. The regulatory landscape of the yeast phosphoproteome. Nat Struct Mol Biol 30, 1761–1773 (2023)."
   ]
  },
  {
   "cell_type": "code",
   "execution_count": null,
   "metadata": {},
   "outputs": [],
   "source": [
    "\n",
    "def clean_phosphopeptides(phosphorylation_file, fasta_file, output_file) :\n",
    "    exp_df = pd.read_csv(phosphorylation_file)\n",
    "\n",
    "    #read in the fasta file\n",
    "    fasta_dict = seqio.to_dict(seqio.parse(fasta_file, 'fasta'))\n",
    "\n",
    "    exp_df = exp_df[exp_df['p_residue'].isin(['S', 'T', 'Y'])]\n",
    "\n",
    "    systematic_name_to_SGD_dict = {name:record.description.split(', ')[0].split(' ')[2] for name,record in fasta_dict.items()}\n",
    "    #systematic_name_to_SGD_dict = {name:SGD.split(':')[1] for name,SGD in systematic_name_to_SGD_dict.items()}\n",
    "\n",
    "    exp_df['SGDID'] = exp_df['systematic_name'].map(systematic_name_to_SGD_dict)\n",
    "\n",
    "    systematic_name_to_seq_dict = {name:str(record.seq) for name,record in fasta_dict.items()}\n",
    "    exp_df['sequence'] = (exp_df['systematic_name'].map(systematic_name_to_seq_dict))\n",
    "\n",
    "    #remove rows with missing sequences\n",
    "    exp_df = exp_df[~exp_df['sequence'].isna()]\n",
    "\n",
    "    #remove rows with stop codons\n",
    "    exp_df['sequence'] = exp_df['sequence'].str.rstrip('*')\n",
    "\n",
    "    #get sequence lengths\n",
    "    exp_df['seq_len'] = exp_df['sequence'].str.len()\n",
    "\n",
    "    #keep only rows where the sequence length is greater than or equal to the position of the phosphorylation site\n",
    "    exp_df = exp_df[exp_df['seq_len'] >= exp_df['p_position']]\n",
    "\n",
    "    exp_df['sanity_check'] = exp_df.apply(lambda row: row['sequence'][row['p_position']-1] == row['p_residue'], axis=1)\n",
    "    \n",
    "    exp_df = exp_df[exp_df['sanity_check']]\n",
    "\n",
    "    #if p_position is less than 6, add 5 - p_position number of _'s to the beginning of the sequence\n",
    "    exp_df['sequence'] = exp_df.apply(lambda row: '_'*(6 - row['p_position']) + row['sequence'], axis=1)\n",
    "\n",
    "    #if p_position is greater than seq_len - 6, add p_position - (seq_len - 5) number of _'s to the end of the sequence\n",
    "    exp_df['sequence'] = exp_df.apply(lambda row: row['sequence'] + '_'*(row['p_position'] - (row['seq_len'] - 5)), axis=1)\n",
    "\n",
    "    #make window around p_position if p_position is greater than 5 from p_position - 6 to p_position + 5, else from 0 to 10\n",
    "    exp_df['window'] = exp_df.apply(lambda row: row['sequence'][row['p_position']-6:row['p_position']+5] if row['p_position'] > 5 else row['sequence'][0:11], axis=1)\n",
    "\n",
    "    exp_df['adj_p_value'] = exp_df['adj_p_value'].apply(lambda x: -1*np.log10(x))\n",
    "\n",
    "    exp_df_filtered = exp_df[['SGDID', 'p_position', 'window', 'fc_log2', 'adj_p_value']].copy()\n",
    "\n",
    "    exp_df_filtered.rename(columns={'SGDID':'SGD', 'p_position':'site', 'window':'peptide', 'fc_log2':'log2fc', 'adj_p_value':'adjpvalue'}, inplace=True)\n",
    "\n",
    "    exp_df_filtered.to_csv(output_file, index=False)\n"
   ]
  },
  {
   "cell_type": "code",
   "execution_count": null,
   "metadata": {},
   "outputs": [],
   "source": [
    "published_yeast_file = 'yeast-perturbation.xlsx'\n",
    "published_yeast_path = os.path.join(test_dir, published_yeast_file)\n",
    "\n",
    "\n",
    "import gzip\n",
    "yeast_proteome_path = os.path.join(proteomes_dir, 'yeast_proteome.fasta')\n",
    "\n",
    "if not os.path.exists(proteomes_dir):\n",
    "    os.makedirs(proteomes_dir)\n",
    "    \n",
    "if not os.path.exists(yeast_proteome_path):\n",
    "    print('Downloading yeast proteome')\n",
    "    Utility.download_file('http://sgd-archive.yeastgenome.org/sequence/S288C_reference/orf_protein/orf_trans.fasta.gz', 'temp.gz')\n",
    "    with gzip.open('temp.gz', 'rb') as f_in:\n",
    "        with open(yeast_proteome_path, 'wb') as f_out:\n",
    "            f_out.write(f_in.read())\n",
    "    os.remove('temp.gz')\n",
    "    \n",
    "\n",
    "if not os.path.exists(published_yeast_path):\n",
    "    print('Downloading yeast perturbation data')\n",
    "    Utility.download_file('https://static-content.springer.com/esm/art%3A10.1038%2Fs41594-023-01115-3/MediaObjects/41594_2023_1115_MOESM9_ESM.xlsx',\n",
    "                  published_yeast_path)\n",
    "\n",
    "\n",
    "HOG1_experiment_file = os.path.join(test_dir,'HOG1_exp.csv')\n",
    "SNF1_experiment_file = os.path.join(test_dir,'SNF1_exp.csv')\n",
    "TOR1_experiment_file = os.path.join(test_dir,'TOR1_exp.csv')\n",
    "\n",
    "if not os.path.exists(HOG1_experiment_file) or not os.path.exists(SNF1_experiment_file) or not os.path.exists(TOR1_experiment_file):\n",
    "    df = pd.read_excel(published_yeast_path, sheet_name='p_site_diff_reg')\n",
    "\n",
    "\n",
    "if not os.path.exists(HOG1_experiment_file):\n",
    "    HOG1_phosphopeptides_file = 'yeast_HOG1_KC_phosphopeptides.csv'\n",
    "    HOG1_path = os.path.join(test_dir, HOG1_phosphopeptides_file)\n",
    "    df[df['treatment_id'] == 'KC'].to_csv(HOG1_path, index=False)\n",
    "    clean_phosphopeptides(HOG1_path, yeast_proteome_path, HOG1_experiment_file)\n",
    "\n",
    "if not os.path.exists(SNF1_experiment_file):\n",
    "    SNF1_phosphopeptides_file = 'yeast_SNF1_GL_phosphopeptides.csv'\n",
    "    SNF1_path = os.path.join(test_dir, SNF1_phosphopeptides_file)\n",
    "    df[df['treatment_id'] == 'GL'].to_csv(SNF1_path, index=False)\n",
    "    clean_phosphopeptides(SNF1_path, yeast_proteome_path, SNF1_experiment_file)\n",
    "\n",
    "if not os.path.exists(TOR1_experiment_file):\n",
    "    TOR1_phosphopeptides_file = 'yeast_TOR1_CS18_phosphopeptides.csv'\n",
    "    TOR1_path = os.path.join(test_dir, TOR1_phosphopeptides_file)\n",
    "    df[df['treatment_id'] == 'CS18'].to_csv(TOR1_path, index=False)\n",
    "    clean_phosphopeptides(TOR1_path, yeast_proteome_path, TOR1_experiment_file)\n",
    "\n",
    "\n",
    "\n",
    "\n"
   ]
  },
  {
   "cell_type": "code",
   "execution_count": null,
   "metadata": {},
   "outputs": [],
   "source": [
    "\n",
    "\n",
    "column_names_dict={'id':'SGD', 'site':'site', 'peptide':'peptide', 'log2fc':'log2fc', 'dependent':'adjpvalue'}\n",
    "\n",
    "\"\"\"\n",
    "yeast_orthologs_file = os.path.join('orthologs', 'yeast_orthologs_final.tsv')\n",
    "\n",
    "yeast_orthologs_df = pd.read_csv(yeast_orthologs_file, sep='\\t')\n",
    "yeast_orthologs_df = yeast_orthologs_df[yeast_orthologs_df['gene_id_type'] == 'SGD']\n",
    "\n",
    "yeast_orthologs_st_df = yeast_orthologs_df[yeast_orthologs_df['kinase_type'] == 'ST']\n",
    "yeast_mapping_st_dict = dict(zip(yeast_orthologs_st_df['symbol'], yeast_orthologs_st_df['kinase_name']))\n",
    "\n",
    "yeast_orthologs_y_df = yeast_orthologs_df[yeast_orthologs_df['kinase_type'] == 'Y']\n",
    "yeast_mapping_y_dict = dict(zip(yeast_orthologs_y_df['symbol'], yeast_orthologs_y_df['kinase_name']))\n",
    "\n",
    "print(yeast_mapping_y_dict.values())\n",
    "print(y_scoring._kinase_names)\n",
    "\n",
    "\n",
    "ST_matching = MatchWithMapping(st_scoring, ST_Background, yeast_mapping_st_dict)\n",
    "Y_matching = MatchWithMapping(y_scoring, Y_Background, yeast_mapping_y_dict)\n",
    "\"\"\"\n",
    "\n",
    "background = {'ST':ST_Background, 'Y':Y_Background}\n",
    "scoring = {'ST':st_scoring, 'Y':y_scoring}\n"
   ]
  },
  {
   "cell_type": "code",
   "execution_count": null,
   "metadata": {},
   "outputs": [],
   "source": []
  },
  {
   "cell_type": "code",
   "execution_count": null,
   "metadata": {},
   "outputs": [],
   "source": [
    "HOG1_df = pd.read_csv(HOG1_experiment_file)\n",
    "\n",
    "#session = Session(0,'yeast', HOG1_df, column_names_dict, ST_matching, Y_matching, id_type = 'SGD', debug=True)\n",
    "session = Session(0, 'yeast', HOG1_df, column_names_dict, scoring, background, ortholog_manager, id_type='SGD', ambiguous=True, debug=True)"
   ]
  },
  {
   "cell_type": "code",
   "execution_count": null,
   "metadata": {},
   "outputs": [],
   "source": [
    "kinase_matches_df = session.get_kinase_matches_df()"
   ]
  },
  {
   "cell_type": "code",
   "execution_count": null,
   "metadata": {},
   "outputs": [],
   "source": [
    "kinase_matches_df.to_csv(os.path.join(test_dir, 'HOG1_kinase_matches.tsv'), index=False, sep='\\t')\n",
    "display(kinase_matches_df.head())"
   ]
  },
  {
   "cell_type": "code",
   "execution_count": null,
   "metadata": {},
   "outputs": [],
   "source": [
    "percentiles_st_df = session.get_percentiles_df('ST')\n",
    "percentiles_y_df = session.get_percentiles_df('Y')\n",
    "\n",
    "percentiles_st_df.to_csv(os.path.join(test_dir, 'HOG1_percentiles_ST.tsv'), index=True, sep='\\t')\n",
    "percentiles_y_df.to_csv(os.path.join(test_dir, 'HOG1_percentiles_Y.tsv'), index=True, sep='\\t')"
   ]
  },
  {
   "cell_type": "code",
   "execution_count": null,
   "metadata": {},
   "outputs": [],
   "source": [
    "barplot = session.get_counts_barplot_fig()\n",
    "\n",
    "#update the height to be 20 pixels times the number of kinases\n",
    "barplot = barplot.update_layout(height=20*len(session._all_selected_symbols))"
   ]
  },
  {
   "cell_type": "code",
   "execution_count": null,
   "metadata": {},
   "outputs": [],
   "source": [
    "display(barplot)"
   ]
  },
  {
   "cell_type": "code",
   "execution_count": null,
   "metadata": {},
   "outputs": [],
   "source": [
    "peptide_scatter = session.get_peptide_scatter_fig(selected_kinases={'PBS2', 'HOG1'})\n",
    "display(peptide_scatter)"
   ]
  },
  {
   "cell_type": "code",
   "execution_count": null,
   "metadata": {},
   "outputs": [],
   "source": [
    "heatmap_st = session.get_heatmap_fig('ST')\n",
    "heatmap_st = heatmap_st.update_layout(height=10*len(st_scoring._kinase_names))\n",
    "display(heatmap_st)\n",
    "\n",
    "heatmap_y = session.get_heatmap_fig('Y')\n",
    "display(heatmap_y)\n",
    "\n",
    "heatmap_all = session.get_all_heatmap_figs()\n",
    "heatmap_all = heatmap_all.update_layout(height=10*len(st_scoring._kinase_names))\n",
    "\n",
    "display(heatmap_all)\n"
   ]
  },
  {
   "cell_type": "code",
   "execution_count": null,
   "metadata": {},
   "outputs": [],
   "source": [
    "log2fc_df = session.get_stat_df()\n",
    "display(log2fc_df)"
   ]
  },
  {
   "cell_type": "code",
   "execution_count": null,
   "metadata": {},
   "outputs": [],
   "source": [
    "zscore_fig = session.get_zscore_fig()\n",
    "zscore_fig = zscore_fig.update_layout(height=20*len(session._all_selected_symbols))\n",
    "display(zscore_fig)\n",
    "\n",
    "zscore_fig2 = session.get_zscore_fig(combine_populations=False)\n",
    "zscore_fig2 = zscore_fig2.update_layout(height=20*len(session._all_selected_symbols))\n",
    "display(zscore_fig2)"
   ]
  },
  {
   "cell_type": "code",
   "execution_count": null,
   "metadata": {},
   "outputs": [],
   "source": [
    "kinase_scatter = session.get_kinase_scatter_fig()\n",
    "display(kinase_scatter)\n",
    "\n",
    "kinase_scatter2 = session.get_kinase_scatter_fig(combine_populations=False)\n",
    "display(kinase_scatter2)"
   ]
  },
  {
   "cell_type": "code",
   "execution_count": null,
   "metadata": {},
   "outputs": [],
   "source": [
    "network_df = session.get_network_df()\n",
    "network_df.to_csv(os.path.join(test_dir, 'HOG1_network.tsv'), index=False, sep='\\t')\n",
    "\n",
    "full_network_fig = session.get_full_kinase_network_fig()\n",
    "\n",
    "hub_network_fig = session.get_kinase_hub_fig(selected_symbols={'PBS2', 'HOG1', 'STE11'})"
   ]
  },
  {
   "cell_type": "code",
   "execution_count": null,
   "metadata": {},
   "outputs": [],
   "source": [
    "'''\n",
    "cyto.load_extra_layouts()\n",
    "\n",
    "app = Dash(__name__)\n",
    "\n",
    "app.layout = html.Div([\n",
    "    hub_network_fig\n",
    "])\n",
    "\n",
    "if __name__ == '__main__':\n",
    "    app.run(debug=True)\n",
    "'''"
   ]
  },
  {
   "cell_type": "markdown",
   "metadata": {},
   "source": [
    "# Build additional orthologs"
   ]
  },
  {
   "cell_type": "code",
   "execution_count": null,
   "metadata": {},
   "outputs": [],
   "source": [
    "from kinaid.utility import Utility\n",
    "import os"
   ]
  },
  {
   "cell_type": "code",
   "execution_count": null,
   "metadata": {},
   "outputs": [],
   "source": [
    "#extra_organisms_dict = {'fly' : 7227}\n",
    "#extra_organisms_dict = {'ecoli' : 8333,\n",
    "extra_organisms_dict = {'thale_cress' : 3702,\n",
    "                        'fission_yeast' : 4896,\n",
    "                        'clawed_frog' : 8364,\n",
    "                        'rat' : 10116,\n",
    "                        'mosquito' : 7165\n",
    "                    }"
   ]
  },
  {
   "cell_type": "code",
   "execution_count": null,
   "metadata": {},
   "outputs": [],
   "source": [
    "orthologs_dir = 'extra_orthologs'\n",
    "data_dir = 'data'\n",
    "human_kinase_database_file = os.path.join(data_dir, 'human_kinases_final.tsv')\n",
    "for organism, taxid in extra_organisms_dict.items():\n",
    "    Utility.build_organism_orthologs(organism, taxid, orthologs_dir, human_kinase_database_file, threads=8)"
   ]
  },
  {
   "cell_type": "markdown",
   "metadata": {},
   "source": [
    "# Ortholog statistics"
   ]
  },
  {
   "cell_type": "code",
   "execution_count": 2,
   "metadata": {},
   "outputs": [],
   "source": [
    "import pandas as pd\n",
    "import os\n",
    "\n"
   ]
  },
  {
   "cell_type": "code",
   "execution_count": 3,
   "metadata": {},
   "outputs": [
    {
     "name": "stdout",
     "output_type": "stream",
     "text": [
      "mouse\n",
      "Number of dual specificity kinases in mouse: 3\n",
      "Number of symbols in mouse: 384\n",
      "mouse & 294 & 91 & 296 & 91 & 295 & 91\n",
      "worm\n",
      "Number of dual specificity kinases in worm: 5\n",
      "Number of symbols in worm: 268\n",
      "worm & 112 & 25 & 234 & 39 & 151 & 35\n",
      "zebrafish\n",
      "Number of dual specificity kinases in zebrafish: 3\n",
      "Number of symbols in zebrafish: 373\n",
      "zebrafish & 272 & 86 & 288 & 88 & 280 & 87\n",
      "yeast\n",
      "Number of dual specificity kinases in yeast: 3\n",
      "Number of symbols in yeast: 91\n",
      "yeast & 56 & 2 & 90 & 4 & 78 & 4\n",
      "fly\n",
      "Number of dual specificity kinases in fly: 4\n",
      "Number of symbols in fly: 178\n",
      "fly & 118 & 30 & 144 & 38 & 137 & 37\n"
     ]
    }
   ],
   "source": [
    "ortholog_dir = './orthologs'\n",
    "\n",
    "#from ortholog directory get all the files that end with orthologs_final.tsv\n",
    "ortholog_files = [file for file in os.listdir(ortholog_dir) if file.endswith('orthologs_final.tsv')]\n",
    "\n",
    "for file in ortholog_files:\n",
    "    #print(file)\n",
    "    organism = file.split('_')[0]\n",
    "    print(organism)\n",
    "    ortholog_df = pd.read_csv(os.path.join(ortholog_dir, file), sep='\\t')\n",
    "    #display(ortholog_df.head())\n",
    "    #restrict to only rows where the gene_id_type is geneID\n",
    "    ortholog_df = ortholog_df[ortholog_df['gene_id_type'] == 'GeneID'].copy()\n",
    "    \n",
    "    \n",
    "    #count dual specificity kinases\n",
    "    symbol_group_df = ortholog_df.groupby('symbol')['kinase_type'].nunique().reset_index()\n",
    "    dual_specificity_df = symbol_group_df[symbol_group_df['kinase_type'] > 1].copy()\n",
    "    num_dual_specificity = dual_specificity_df['symbol'].nunique()\n",
    "    print(f'Number of dual specificity kinases in {organism}: {num_dual_specificity}')\n",
    "    \n",
    "    \n",
    "    #get the number of symbols in ortholog_df\n",
    "    num_symbols = ortholog_df['symbol'].nunique()\n",
    "    print(f'Number of symbols in {organism}: {num_symbols}')\n",
    "    \n",
    "    \n",
    "    #get the number of ST kinases that are not ambiguous\n",
    "    st_kinases = ortholog_df[(ortholog_df['kinase_type'] == 'ST') & (ortholog_df['ambiguous'] == False)].copy()\n",
    "    #print(st_kinases.head())\n",
    "    num_st_kinases_oto = st_kinases['symbol'].nunique()\n",
    "    \n",
    "    #get the number of Y kinases that are not ambiguous\n",
    "    y_kinases = ortholog_df[(ortholog_df['kinase_type'] == 'Y') & (ortholog_df['ambiguous'] == False)].copy()\n",
    "    num_y_kinases_oto = y_kinases['symbol'].nunique()\n",
    "    \n",
    "    #get the number of kinases that are ST\n",
    "    num_st_kinases = ortholog_df[ortholog_df['kinase_type'] == 'ST']['symbol'].nunique()\n",
    "    \n",
    "    #get the number of kinases that are Y\n",
    "    num_y_kinases = ortholog_df[ortholog_df['kinase_type'] == 'Y']['symbol'].nunique()\n",
    "    \n",
    "    #get the number of kinase_name for ST kinases\n",
    "    num_st_kinase_names = ortholog_df[ortholog_df['kinase_type'] == 'ST']['kinase_name'].nunique()\n",
    "    \n",
    "    #get the number of kinase_name for Y kinases\n",
    "    num_y_kinase_names = ortholog_df[ortholog_df['kinase_type'] == 'Y']['kinase_name'].nunique()\n",
    "    \n",
    "    #make latex frendly version of the results\n",
    "    latex_results = f'{organism} & {num_st_kinases_oto} & {num_y_kinases_oto} & {num_st_kinases} & {num_y_kinases} & {num_st_kinase_names} & {num_y_kinase_names}'\n",
    "    \n",
    "    print(latex_results)\n",
    "    "
   ]
  },
  {
   "cell_type": "code",
   "execution_count": 4,
   "metadata": {},
   "outputs": [
    {
     "data": {
      "text/html": [
       "<div>\n",
       "<style scoped>\n",
       "    .dataframe tbody tr th:only-of-type {\n",
       "        vertical-align: middle;\n",
       "    }\n",
       "\n",
       "    .dataframe tbody tr th {\n",
       "        vertical-align: top;\n",
       "    }\n",
       "\n",
       "    .dataframe thead th {\n",
       "        text-align: right;\n",
       "    }\n",
       "</style>\n",
       "<table border=\"1\" class=\"dataframe\">\n",
       "  <thead>\n",
       "    <tr style=\"text-align: right;\">\n",
       "      <th></th>\n",
       "      <th>kinase_type</th>\n",
       "      <th>organism</th>\n",
       "      <th>kinase_name</th>\n",
       "      <th>gene_id_type</th>\n",
       "      <th>gene_id</th>\n",
       "      <th>symbol</th>\n",
       "      <th>short</th>\n",
       "      <th>long</th>\n",
       "      <th>ambiguous</th>\n",
       "    </tr>\n",
       "  </thead>\n",
       "  <tbody>\n",
       "    <tr>\n",
       "      <th>0</th>\n",
       "      <td>ST</td>\n",
       "      <td>human</td>\n",
       "      <td>AAK1</td>\n",
       "      <td>GeneID</td>\n",
       "      <td>22848</td>\n",
       "      <td>AAK1</td>\n",
       "      <td>AAK1</td>\n",
       "      <td>AAK1</td>\n",
       "      <td>False</td>\n",
       "    </tr>\n",
       "    <tr>\n",
       "      <th>1</th>\n",
       "      <td>ST</td>\n",
       "      <td>human</td>\n",
       "      <td>ACVR2A</td>\n",
       "      <td>GeneID</td>\n",
       "      <td>92</td>\n",
       "      <td>ACVR2A</td>\n",
       "      <td>ACVR2A</td>\n",
       "      <td>ACVR2A</td>\n",
       "      <td>False</td>\n",
       "    </tr>\n",
       "    <tr>\n",
       "      <th>2</th>\n",
       "      <td>ST</td>\n",
       "      <td>human</td>\n",
       "      <td>ACVR2B</td>\n",
       "      <td>GeneID</td>\n",
       "      <td>93</td>\n",
       "      <td>ACVR2B</td>\n",
       "      <td>ACVR2B</td>\n",
       "      <td>ACVR2B</td>\n",
       "      <td>False</td>\n",
       "    </tr>\n",
       "    <tr>\n",
       "      <th>3</th>\n",
       "      <td>ST</td>\n",
       "      <td>human</td>\n",
       "      <td>AKT1</td>\n",
       "      <td>GeneID</td>\n",
       "      <td>207</td>\n",
       "      <td>AKT1</td>\n",
       "      <td>AKT1</td>\n",
       "      <td>AKT1</td>\n",
       "      <td>False</td>\n",
       "    </tr>\n",
       "    <tr>\n",
       "      <th>4</th>\n",
       "      <td>ST</td>\n",
       "      <td>human</td>\n",
       "      <td>AKT2</td>\n",
       "      <td>GeneID</td>\n",
       "      <td>208</td>\n",
       "      <td>AKT2</td>\n",
       "      <td>AKT2</td>\n",
       "      <td>AKT2</td>\n",
       "      <td>False</td>\n",
       "    </tr>\n",
       "  </tbody>\n",
       "</table>\n",
       "</div>"
      ],
      "text/plain": [
       "  kinase_type organism kinase_name gene_id_type gene_id  symbol   short  \\\n",
       "0          ST    human        AAK1       GeneID   22848    AAK1    AAK1   \n",
       "1          ST    human      ACVR2A       GeneID      92  ACVR2A  ACVR2A   \n",
       "2          ST    human      ACVR2B       GeneID      93  ACVR2B  ACVR2B   \n",
       "3          ST    human        AKT1       GeneID     207    AKT1    AKT1   \n",
       "4          ST    human        AKT2       GeneID     208    AKT2    AKT2   \n",
       "\n",
       "     long  ambiguous  \n",
       "0    AAK1      False  \n",
       "1  ACVR2A      False  \n",
       "2  ACVR2B      False  \n",
       "3    AKT1      False  \n",
       "4    AKT2      False  "
      ]
     },
     "metadata": {},
     "output_type": "display_data"
    }
   ],
   "source": [
    "\n",
    "\n",
    "human_kinases = pd.read_csv('./data/human_kinases_final.tsv', sep='\\t')\n",
    "display(human_kinases.head())\n"
   ]
  },
  {
   "cell_type": "code",
   "execution_count": 6,
   "metadata": {},
   "outputs": [
    {
     "name": "stdout",
     "output_type": "stream",
     "text": [
      "Number of kinases in the \"kinase_name\" column: 794\n"
     ]
    }
   ],
   "source": [
    "#print number of kinases in the \"kinase_name\" column\n",
    "num_kinases = human_kinases['kinase_name'].count()\n",
    "print(f'Number of kinases in the \"kinase_name\" column: {num_kinases}')"
   ]
  },
  {
   "cell_type": "code",
   "execution_count": null,
   "metadata": {},
   "outputs": [],
   "source": []
  }
 ],
 "metadata": {
  "kernelspec": {
   "display_name": "Python 3",
   "language": "python",
   "name": "python3"
  },
  "language_info": {
   "codemirror_mode": {
    "name": "ipython",
    "version": 3
   },
   "file_extension": ".py",
   "mimetype": "text/x-python",
   "name": "python",
   "nbconvert_exporter": "python",
   "pygments_lexer": "ipython3",
   "version": "3.10.7"
  }
 },
 "nbformat": 4,
 "nbformat_minor": 2
}
